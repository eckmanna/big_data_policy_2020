{
 "cells": [
  {
   "cell_type": "markdown",
   "metadata": {},
   "source": [
    "# Homeworks - Big Data and Public Policy Class"
   ]
  },
  {
   "cell_type": "markdown",
   "metadata": {},
   "source": [
    "The objective of the following homework is to **bring to practice the tools studied in class** by conducting step by step a first big data project. We advise that you do it in parallel with the lectures: the relation between the project steps and the lectures is indicated below. \n",
    "\n",
    "You will build several **machine learning models that will predict continuous and categorical variables based on data coming from webscraping and/or an API**. \n",
    "\n",
    "We propose that you predict the **daily stock price data of a large company** (of your choice) **based on the company's tweets**. You can chose a company from one of the [major stock indices](https://www.wikiwand.com/en/List_of_stock_market_indices). \n",
    "\n",
    "---------------------------\n",
    "After having decided the setting (your own or the company + corresponding timespan) that you will study, you should follow the following steps:\n",
    "\n",
    "**Step 1a: `X` variables** [week 2]\n",
    "- Fetch the data using the **twitter API** or any other API or website that you are interested in.\n",
    "- Beware of the rate limits and organize your program so as to overcome them if needed\n",
    "- The data should include some text, but might also have other interesting variables (retweets, favorites...)\n",
    "- Create some (non-text based) `X_num` variables that you will use for the prediction"
   ]
  },
  {
   "cell_type": "code",
   "execution_count": 2,
   "outputs": [],
   "source": [
    "#this you get when you make create an application on twitter as a dev\n",
    "consumer_key=\"7X8q1LteL1qOLRg4DSoiI0lyk\"\n",
    "consumer_secret=\"Bb08vV5XoxDEP4SGLJfkvEpuwvxEDvzVSRGTptzQCjC9XVmquP\"\n",
    "access_token=\"1230145588659998721-EQb8DoMYnorBtqAuEPMZtZcXumzuAe\"\n",
    "access_token_secret=\"mzurpOu1LWhj0NU9pctgYZ6OBzhQvyqw8hvRNpe3yI4Qc\""
   ],
   "metadata": {
    "collapsed": false,
    "pycharm": {
     "name": "#%%\n",
     "is_executing": false
    }
   }
  },
  {
   "cell_type": "markdown",
   "source": [
    "## Accessing the Twitter API using `tweepy`"
   ],
   "metadata": {
    "collapsed": false
   }
  },
  {
   "cell_type": "markdown",
   "source": [
    "We use the `tweepy` package (documentation: https://tweepy.readthedocs.io/en/latest/). Tweepy is an *An easy-to-use Python library for accessing the Twitter API.*\n",
    "\n",
    "R users can use [rtweet](https://rtweet.info/), a similar package. "
   ],
   "metadata": {
    "collapsed": false
   }
  },
  {
   "cell_type": "markdown",
   "source": [
    "Twitter requires all requests to use `OAuth` for authentication"
   ],
   "metadata": {
    "collapsed": false
   }
  },
  {
   "cell_type": "code",
   "execution_count": 3,
   "outputs": [],
   "source": [
    "import tweepy\n",
    "from tweepy import OAuthHandler"
   ],
   "metadata": {
    "collapsed": false,
    "pycharm": {
     "name": "#%%\n",
     "is_executing": false
    }
   }
  },
  {
   "cell_type": "markdown",
   "source": [
    "Authenticate to Twitter"
   ],
   "metadata": {
    "collapsed": false
   }
  },
  {
   "cell_type": "code",
   "execution_count": 4,
   "outputs": [],
   "source": [
    "auth = OAuthHandler(consumer_key, consumer_secret) #creating an OAuthHandler instance\n",
    "auth.set_access_token(access_token, access_token_secret)\n",
    "api = tweepy.API(auth, wait_on_rate_limit=True, wait_on_rate_limit_notify=True)"
   ],
   "metadata": {
    "collapsed": false,
    "pycharm": {
     "name": "#%%\n",
     "is_executing": false
    }
   }
  },
  {
   "cell_type": "markdown",
   "source": [
    "We specify `wait_on_rate_limit_notify==True` & `wait_on_rate_limit=True`. The API method will wait once you’ve reached your rate limit and prints out a message"
   ],
   "metadata": {
    "collapsed": false
   }
  },
  {
   "cell_type": "code",
   "execution_count": 5,
   "outputs": [
    {
     "name": "stdout",
     "text": [
      "Authentication OK\n"
     ],
     "output_type": "stream"
    }
   ],
   "source": [
    "# test authentication\n",
    "try:\n",
    "    api.verify_credentials()\n",
    "    print(\"Authentication OK\")\n",
    "except:\n",
    "    print(\"Error during authentication\")"
   ],
   "metadata": {
    "collapsed": false,
    "pycharm": {
     "name": "#%%\n",
     "is_executing": false
    }
   }
  },
  {
   "cell_type": "markdown",
   "source": [
    "For an extensive list of the methods available, see the [API Reference page](https://tweepy.readthedocs.io/en/latest/api.html#api-reference). There are several types of methods. The following methods enable you to access twitter content:\n",
    "- Timeline methods return a list of  `status` objects\n",
    "- Status methods return a `status` object\n",
    "- User methods return `user` object or a list of `user` objects. \n",
    "- Favorite methods: return a list of  `status` objects\n",
    "\n",
    "For some methods, you can interact with twitter:\n",
    "- Friendship Methods return a `user` object, by example:\n",
    "    - `create_friendship`: creates a new friendship with the specified user ()\n",
    "    \n",
    "Let's review some useful methods:"
   ],
   "metadata": {
    "collapsed": false
   }
  },
  {
   "cell_type": "markdown",
   "source": [
    "### Methods returning a `status` object (or a list of objects)\n",
    "#### Search method\n",
    "If you seeking Twitter data to get conversations on a particular topic. This method returns a collection of relevant Tweets matching a specified query for all public tweets."
   ],
   "metadata": {
    "collapsed": false
   }
  },
  {
   "cell_type": "code",
   "execution_count": 6,
   "outputs": [
    {
     "name": "stdout",
     "text": [
      "RT @UNILADTECH: Based on diving sea birds, this plane from ETH Zürich can leap in and out of the water! 🦅✈ https://t.co/5pLpizFpna\n",
      "RT @UNILADTECH: Based on diving sea birds, this plane from ETH Zürich can leap in and out of the water! 🦅✈ https://t.co/5pLpizFpna\n",
      "Based on diving sea birds, this plane from ETH Zürich can leap in and out of the water! 🦅✈ https://t.co/5pLpizFpna\n",
      "RT @_onurmutlu_: Computer Architecture - Lecture 21a: Multiprocessing (ETH Zürich, Fall 2019)\n",
      "https://t.co/qsjRv6eV4R via @YouTube @CSatETH…\n",
      "Andreas Krause (ETH Zuerich): &amp;quot;Safe Exploration in Reinforcement Learning&amp;quot;\n",
      "https://t.co/ZAsy9yM0vO\n",
      "#reinforcementlearning\n",
      "RT @DuaneKing: Franz Max Osswald, contact print of sound photographs in architectural models, from Osswald’s applied acoustics laboratory a…\n",
      "RT @mikarv: Official PEPP-PT severance notice from ETH Zürich, following PEPP-PT's failure to publish *any* documents or protocol, as they…\n",
      "Watch \"H.H.Dalai Lama and Matthieu Ricard. \"Fear and anxiety\". ETH Zürich 2005. By Guido Ferrari\" on YouTube https://t.co/KCgauwUm7V\n",
      "A study by ETH Zürich shows that before lockdown was put in place on 16 March, each person infected with COVID-19 w… https://t.co/mWmS2RSRqn\n",
      "@biogogy Went to a great symposium a decade ago at ETH Zürich. Called Modern Biology goes to School. Uni Bio and Bi… https://t.co/KDOF5JFaIl\n",
      "Thanks to our amazing partners for making Venture Leaders Life Science 2020 possible:\n",
      "@EPFL_en, @ETH_en,… https://t.co/64RRZzHsGY\n",
      "@6point626 @simonahac @rdenyer @JohnBarilaroMP The Swiss had a project for a small nuclear reactor at the Central i… https://t.co/NsF2hqC2UB\n",
      "RT @llasjordi: @agiraltg @BenetTatxo @gerardgomezf Prof.@FLAHAULT based at #CampusBiotech, is working on #Covid_19 Epidemic Forecasting, in…\n",
      "@agiraltg @BenetTatxo @gerardgomezf Prof.@FLAHAULT based at #CampusBiotech, is working on #Covid_19 Epidemic Foreca… https://t.co/A9W5V9rEh8\n",
      "@ezraklein @pmarca My favorite example are the two federal universities of technology in Switzerland (ETH Zürich an… https://t.co/QJWxahf9GS\n"
     ],
     "output_type": "stream"
    }
   ],
   "source": [
    "# most recent tweets about ETH \n",
    "tweets = api.search(q=\"ETH Zürich\", lang=\"en\") # TODO: How is it set to recent tweets?\n",
    "for tweet in tweets:\n",
    "    print(tweet.text) # printing the first tweet\n",
    "    #todo still not working 15:30"
   ],
   "metadata": {
    "collapsed": false,
    "pycharm": {
     "name": "#%%\n",
     "is_executing": false
    }
   }
  },
  {
   "cell_type": "markdown",
   "source": [
    "The `status` object:"
   ],
   "metadata": {
    "collapsed": false
   }
  },
  {
   "cell_type": "code",
   "execution_count": 7,
   "outputs": [
    {
     "name": "stdout",
     "text": [
      "Status(_api=<tweepy.api.API object at 0x000001BD91526588>, _json={'created_at': 'Sun Apr 26 12:32:41 +0000 2020', 'id': 1254387926798131201, 'id_str': '1254387926798131201', 'text': 'RT @UNILADTECH: Based on diving sea birds, this plane from ETH Zürich can leap in and out of the water! 🦅✈ https://t.co/5pLpizFpna', 'truncated': False, 'entities': {'hashtags': [], 'symbols': [], 'user_mentions': [{'screen_name': 'UNILADTECH', 'name': 'UNILAD Tech', 'id': 811212815671447552, 'id_str': '811212815671447552', 'indices': [3, 14]}], 'urls': [], 'media': [{'id': 1253656074827300864, 'id_str': '1253656074827300864', 'indices': [107, 130], 'media_url': 'http://pbs.twimg.com/amplify_video_thumb/1253656074827300864/img/OiuW5nslhYHLAYOt.jpg', 'media_url_https': 'https://pbs.twimg.com/amplify_video_thumb/1253656074827300864/img/OiuW5nslhYHLAYOt.jpg', 'url': 'https://t.co/5pLpizFpna', 'display_url': 'pic.twitter.com/5pLpizFpna', 'expanded_url': 'https://twitter.com/UNILADTECH/status/1254384732495843329/video/1', 'type': 'photo', 'sizes': {'thumb': {'w': 150, 'h': 150, 'resize': 'crop'}, 'small': {'w': 680, 'h': 680, 'resize': 'fit'}, 'large': {'w': 1080, 'h': 1080, 'resize': 'fit'}, 'medium': {'w': 1080, 'h': 1080, 'resize': 'fit'}}, 'source_status_id': 1254384732495843329, 'source_status_id_str': '1254384732495843329', 'source_user_id': 811212815671447552, 'source_user_id_str': '811212815671447552'}]}, 'extended_entities': {'media': [{'id': 1253656074827300864, 'id_str': '1253656074827300864', 'indices': [107, 130], 'media_url': 'http://pbs.twimg.com/amplify_video_thumb/1253656074827300864/img/OiuW5nslhYHLAYOt.jpg', 'media_url_https': 'https://pbs.twimg.com/amplify_video_thumb/1253656074827300864/img/OiuW5nslhYHLAYOt.jpg', 'url': 'https://t.co/5pLpizFpna', 'display_url': 'pic.twitter.com/5pLpizFpna', 'expanded_url': 'https://twitter.com/UNILADTECH/status/1254384732495843329/video/1', 'type': 'video', 'sizes': {'thumb': {'w': 150, 'h': 150, 'resize': 'crop'}, 'small': {'w': 680, 'h': 680, 'resize': 'fit'}, 'large': {'w': 1080, 'h': 1080, 'resize': 'fit'}, 'medium': {'w': 1080, 'h': 1080, 'resize': 'fit'}}, 'source_status_id': 1254384732495843329, 'source_status_id_str': '1254384732495843329', 'source_user_id': 811212815671447552, 'source_user_id_str': '811212815671447552', 'video_info': {'aspect_ratio': [1, 1], 'duration_millis': 70237, 'variants': [{'bitrate': 432000, 'content_type': 'video/mp4', 'url': 'https://video.twimg.com/amplify_video/1253656074827300864/vid/320x320/qgiETlLYkIoA4m6K.mp4?tag=13'}, {'bitrate': 832000, 'content_type': 'video/mp4', 'url': 'https://video.twimg.com/amplify_video/1253656074827300864/vid/480x480/dFWUhgn41NxurGU7.mp4?tag=13'}, {'content_type': 'application/x-mpegURL', 'url': 'https://video.twimg.com/amplify_video/1253656074827300864/pl/aHIQTzD9eDWKr6x_.m3u8?tag=13'}, {'bitrate': 1280000, 'content_type': 'video/mp4', 'url': 'https://video.twimg.com/amplify_video/1253656074827300864/vid/720x720/3DP5_gV73n0pXtlN.mp4?tag=13'}]}, 'additional_media_info': {'title': '', 'description': '', 'embeddable': True, 'monetizable': False, 'source_user': {'id': 811212815671447552, 'id_str': '811212815671447552', 'name': 'UNILAD Tech', 'screen_name': 'UNILADTECH', 'location': 'United Kingdom', 'description': 'The best gadgets and innovations from the world of science and technology 🚀📱🚙', 'url': 'https://t.co/sKbEgIt7fG', 'entities': {'url': {'urls': [{'url': 'https://t.co/sKbEgIt7fG', 'expanded_url': 'https://www.facebook.com/UNILADTech/', 'display_url': 'facebook.com/UNILADTech/', 'indices': [0, 23]}]}, 'description': {'urls': []}}, 'protected': False, 'followers_count': 10914, 'friends_count': 100, 'listed_count': 97, 'created_at': 'Tue Dec 20 14:13:01 +0000 2016', 'favourites_count': 79, 'utc_offset': None, 'time_zone': None, 'geo_enabled': False, 'verified': True, 'statuses_count': 3689, 'lang': None, 'contributors_enabled': False, 'is_translator': False, 'is_translation_enabled': False, 'profile_background_color': 'F5F8FA', 'profile_background_image_url': None, 'profile_background_image_url_https': None, 'profile_background_tile': False, 'profile_image_url': 'http://pbs.twimg.com/profile_images/983269062976397312/KvvYdl0g_normal.jpg', 'profile_image_url_https': 'https://pbs.twimg.com/profile_images/983269062976397312/KvvYdl0g_normal.jpg', 'profile_banner_url': 'https://pbs.twimg.com/profile_banners/811212815671447552/1585216090', 'profile_link_color': '1DA1F2', 'profile_sidebar_border_color': 'C0DEED', 'profile_sidebar_fill_color': 'DDEEF6', 'profile_text_color': '333333', 'profile_use_background_image': True, 'has_extended_profile': True, 'default_profile': True, 'default_profile_image': False, 'following': False, 'follow_request_sent': False, 'notifications': False, 'translator_type': 'none'}}}]}, 'metadata': {'iso_language_code': 'en', 'result_type': 'recent'}, 'source': '<a href=\"http://twitter.com/download/android\" rel=\"nofollow\">Twitter for Android</a>', 'in_reply_to_status_id': None, 'in_reply_to_status_id_str': None, 'in_reply_to_user_id': None, 'in_reply_to_user_id_str': None, 'in_reply_to_screen_name': None, 'user': {'id': 1855031052, 'id_str': '1855031052', 'name': 'Hashim Fakhar', 'screen_name': 'HashimFakhar', 'location': '', 'description': 'Dreamer by heart | Artist | Thinker | Creator(exaggeration).Views are stirred up by planetary politics, injustices, probably my own. Alive & Lost. Curious.', 'url': None, 'entities': {'description': {'urls': []}}, 'protected': False, 'followers_count': 162, 'friends_count': 1446, 'listed_count': 9, 'created_at': 'Wed Sep 11 18:14:01 +0000 2013', 'favourites_count': 32809, 'utc_offset': None, 'time_zone': None, 'geo_enabled': False, 'verified': False, 'statuses_count': 10211, 'lang': None, 'contributors_enabled': False, 'is_translator': False, 'is_translation_enabled': False, 'profile_background_color': 'C0DEED', 'profile_background_image_url': 'http://abs.twimg.com/images/themes/theme1/bg.png', 'profile_background_image_url_https': 'https://abs.twimg.com/images/themes/theme1/bg.png', 'profile_background_tile': False, 'profile_image_url': 'http://pbs.twimg.com/profile_images/1016929319921299456/UwhF0VIB_normal.jpg', 'profile_image_url_https': 'https://pbs.twimg.com/profile_images/1016929319921299456/UwhF0VIB_normal.jpg', 'profile_banner_url': 'https://pbs.twimg.com/profile_banners/1855031052/1531289816', 'profile_link_color': '1DA1F2', 'profile_sidebar_border_color': 'C0DEED', 'profile_sidebar_fill_color': 'DDEEF6', 'profile_text_color': '333333', 'profile_use_background_image': True, 'has_extended_profile': True, 'default_profile': True, 'default_profile_image': False, 'following': False, 'follow_request_sent': False, 'notifications': False, 'translator_type': 'none'}, 'geo': None, 'coordinates': None, 'place': None, 'contributors': None, 'retweeted_status': {'created_at': 'Sun Apr 26 12:20:00 +0000 2020', 'id': 1254384732495843329, 'id_str': '1254384732495843329', 'text': 'Based on diving sea birds, this plane from ETH Zürich can leap in and out of the water! 🦅✈ https://t.co/5pLpizFpna', 'truncated': False, 'entities': {'hashtags': [], 'symbols': [], 'user_mentions': [], 'urls': [], 'media': [{'id': 1253656074827300864, 'id_str': '1253656074827300864', 'indices': [91, 114], 'media_url': 'http://pbs.twimg.com/amplify_video_thumb/1253656074827300864/img/OiuW5nslhYHLAYOt.jpg', 'media_url_https': 'https://pbs.twimg.com/amplify_video_thumb/1253656074827300864/img/OiuW5nslhYHLAYOt.jpg', 'url': 'https://t.co/5pLpizFpna', 'display_url': 'pic.twitter.com/5pLpizFpna', 'expanded_url': 'https://twitter.com/UNILADTECH/status/1254384732495843329/video/1', 'type': 'photo', 'sizes': {'thumb': {'w': 150, 'h': 150, 'resize': 'crop'}, 'small': {'w': 680, 'h': 680, 'resize': 'fit'}, 'large': {'w': 1080, 'h': 1080, 'resize': 'fit'}, 'medium': {'w': 1080, 'h': 1080, 'resize': 'fit'}}}]}, 'extended_entities': {'media': [{'id': 1253656074827300864, 'id_str': '1253656074827300864', 'indices': [91, 114], 'media_url': 'http://pbs.twimg.com/amplify_video_thumb/1253656074827300864/img/OiuW5nslhYHLAYOt.jpg', 'media_url_https': 'https://pbs.twimg.com/amplify_video_thumb/1253656074827300864/img/OiuW5nslhYHLAYOt.jpg', 'url': 'https://t.co/5pLpizFpna', 'display_url': 'pic.twitter.com/5pLpizFpna', 'expanded_url': 'https://twitter.com/UNILADTECH/status/1254384732495843329/video/1', 'type': 'video', 'sizes': {'thumb': {'w': 150, 'h': 150, 'resize': 'crop'}, 'small': {'w': 680, 'h': 680, 'resize': 'fit'}, 'large': {'w': 1080, 'h': 1080, 'resize': 'fit'}, 'medium': {'w': 1080, 'h': 1080, 'resize': 'fit'}}, 'video_info': {'aspect_ratio': [1, 1], 'duration_millis': 70237, 'variants': [{'bitrate': 432000, 'content_type': 'video/mp4', 'url': 'https://video.twimg.com/amplify_video/1253656074827300864/vid/320x320/qgiETlLYkIoA4m6K.mp4?tag=13'}, {'bitrate': 832000, 'content_type': 'video/mp4', 'url': 'https://video.twimg.com/amplify_video/1253656074827300864/vid/480x480/dFWUhgn41NxurGU7.mp4?tag=13'}, {'content_type': 'application/x-mpegURL', 'url': 'https://video.twimg.com/amplify_video/1253656074827300864/pl/aHIQTzD9eDWKr6x_.m3u8?tag=13'}, {'bitrate': 1280000, 'content_type': 'video/mp4', 'url': 'https://video.twimg.com/amplify_video/1253656074827300864/vid/720x720/3DP5_gV73n0pXtlN.mp4?tag=13'}]}, 'additional_media_info': {'title': '', 'description': '', 'embeddable': True, 'monetizable': False}}]}, 'metadata': {'iso_language_code': 'en', 'result_type': 'recent'}, 'source': '<a href=\"https://studio.twitter.com\" rel=\"nofollow\">Twitter Media Studio</a>', 'in_reply_to_status_id': None, 'in_reply_to_status_id_str': None, 'in_reply_to_user_id': None, 'in_reply_to_user_id_str': None, 'in_reply_to_screen_name': None, 'user': {'id': 811212815671447552, 'id_str': '811212815671447552', 'name': 'UNILAD Tech', 'screen_name': 'UNILADTECH', 'location': 'United Kingdom', 'description': 'The best gadgets and innovations from the world of science and technology 🚀📱🚙', 'url': 'https://t.co/sKbEgIt7fG', 'entities': {'url': {'urls': [{'url': 'https://t.co/sKbEgIt7fG', 'expanded_url': 'https://www.facebook.com/UNILADTech/', 'display_url': 'facebook.com/UNILADTech/', 'indices': [0, 23]}]}, 'description': {'urls': []}}, 'protected': False, 'followers_count': 10914, 'friends_count': 100, 'listed_count': 97, 'created_at': 'Tue Dec 20 14:13:01 +0000 2016', 'favourites_count': 79, 'utc_offset': None, 'time_zone': None, 'geo_enabled': False, 'verified': True, 'statuses_count': 3689, 'lang': None, 'contributors_enabled': False, 'is_translator': False, 'is_translation_enabled': False, 'profile_background_color': 'F5F8FA', 'profile_background_image_url': None, 'profile_background_image_url_https': None, 'profile_background_tile': False, 'profile_image_url': 'http://pbs.twimg.com/profile_images/983269062976397312/KvvYdl0g_normal.jpg', 'profile_image_url_https': 'https://pbs.twimg.com/profile_images/983269062976397312/KvvYdl0g_normal.jpg', 'profile_banner_url': 'https://pbs.twimg.com/profile_banners/811212815671447552/1585216090', 'profile_link_color': '1DA1F2', 'profile_sidebar_border_color': 'C0DEED', 'profile_sidebar_fill_color': 'DDEEF6', 'profile_text_color': '333333', 'profile_use_background_image': True, 'has_extended_profile': True, 'default_profile': True, 'default_profile_image': False, 'following': False, 'follow_request_sent': False, 'notifications': False, 'translator_type': 'none'}, 'geo': None, 'coordinates': None, 'place': None, 'contributors': None, 'is_quote_status': False, 'retweet_count': 2, 'favorite_count': 11, 'favorited': False, 'retweeted': False, 'possibly_sensitive': False, 'lang': 'en'}, 'is_quote_status': False, 'retweet_count': 2, 'favorite_count': 0, 'favorited': False, 'retweeted': False, 'possibly_sensitive': False, 'lang': 'en'}, created_at=datetime.datetime(2020, 4, 26, 12, 32, 41), id=1254387926798131201, id_str='1254387926798131201', text='RT @UNILADTECH: Based on diving sea birds, this plane from ETH Zürich can leap in and out of the water! 🦅✈ https://t.co/5pLpizFpna', truncated=False, entities={'hashtags': [], 'symbols': [], 'user_mentions': [{'screen_name': 'UNILADTECH', 'name': 'UNILAD Tech', 'id': 811212815671447552, 'id_str': '811212815671447552', 'indices': [3, 14]}], 'urls': [], 'media': [{'id': 1253656074827300864, 'id_str': '1253656074827300864', 'indices': [107, 130], 'media_url': 'http://pbs.twimg.com/amplify_video_thumb/1253656074827300864/img/OiuW5nslhYHLAYOt.jpg', 'media_url_https': 'https://pbs.twimg.com/amplify_video_thumb/1253656074827300864/img/OiuW5nslhYHLAYOt.jpg', 'url': 'https://t.co/5pLpizFpna', 'display_url': 'pic.twitter.com/5pLpizFpna', 'expanded_url': 'https://twitter.com/UNILADTECH/status/1254384732495843329/video/1', 'type': 'photo', 'sizes': {'thumb': {'w': 150, 'h': 150, 'resize': 'crop'}, 'small': {'w': 680, 'h': 680, 'resize': 'fit'}, 'large': {'w': 1080, 'h': 1080, 'resize': 'fit'}, 'medium': {'w': 1080, 'h': 1080, 'resize': 'fit'}}, 'source_status_id': 1254384732495843329, 'source_status_id_str': '1254384732495843329', 'source_user_id': 811212815671447552, 'source_user_id_str': '811212815671447552'}]}, extended_entities={'media': [{'id': 1253656074827300864, 'id_str': '1253656074827300864', 'indices': [107, 130], 'media_url': 'http://pbs.twimg.com/amplify_video_thumb/1253656074827300864/img/OiuW5nslhYHLAYOt.jpg', 'media_url_https': 'https://pbs.twimg.com/amplify_video_thumb/1253656074827300864/img/OiuW5nslhYHLAYOt.jpg', 'url': 'https://t.co/5pLpizFpna', 'display_url': 'pic.twitter.com/5pLpizFpna', 'expanded_url': 'https://twitter.com/UNILADTECH/status/1254384732495843329/video/1', 'type': 'video', 'sizes': {'thumb': {'w': 150, 'h': 150, 'resize': 'crop'}, 'small': {'w': 680, 'h': 680, 'resize': 'fit'}, 'large': {'w': 1080, 'h': 1080, 'resize': 'fit'}, 'medium': {'w': 1080, 'h': 1080, 'resize': 'fit'}}, 'source_status_id': 1254384732495843329, 'source_status_id_str': '1254384732495843329', 'source_user_id': 811212815671447552, 'source_user_id_str': '811212815671447552', 'video_info': {'aspect_ratio': [1, 1], 'duration_millis': 70237, 'variants': [{'bitrate': 432000, 'content_type': 'video/mp4', 'url': 'https://video.twimg.com/amplify_video/1253656074827300864/vid/320x320/qgiETlLYkIoA4m6K.mp4?tag=13'}, {'bitrate': 832000, 'content_type': 'video/mp4', 'url': 'https://video.twimg.com/amplify_video/1253656074827300864/vid/480x480/dFWUhgn41NxurGU7.mp4?tag=13'}, {'content_type': 'application/x-mpegURL', 'url': 'https://video.twimg.com/amplify_video/1253656074827300864/pl/aHIQTzD9eDWKr6x_.m3u8?tag=13'}, {'bitrate': 1280000, 'content_type': 'video/mp4', 'url': 'https://video.twimg.com/amplify_video/1253656074827300864/vid/720x720/3DP5_gV73n0pXtlN.mp4?tag=13'}]}, 'additional_media_info': {'title': '', 'description': '', 'embeddable': True, 'monetizable': False, 'source_user': {'id': 811212815671447552, 'id_str': '811212815671447552', 'name': 'UNILAD Tech', 'screen_name': 'UNILADTECH', 'location': 'United Kingdom', 'description': 'The best gadgets and innovations from the world of science and technology 🚀📱🚙', 'url': 'https://t.co/sKbEgIt7fG', 'entities': {'url': {'urls': [{'url': 'https://t.co/sKbEgIt7fG', 'expanded_url': 'https://www.facebook.com/UNILADTech/', 'display_url': 'facebook.com/UNILADTech/', 'indices': [0, 23]}]}, 'description': {'urls': []}}, 'protected': False, 'followers_count': 10914, 'friends_count': 100, 'listed_count': 97, 'created_at': 'Tue Dec 20 14:13:01 +0000 2016', 'favourites_count': 79, 'utc_offset': None, 'time_zone': None, 'geo_enabled': False, 'verified': True, 'statuses_count': 3689, 'lang': None, 'contributors_enabled': False, 'is_translator': False, 'is_translation_enabled': False, 'profile_background_color': 'F5F8FA', 'profile_background_image_url': None, 'profile_background_image_url_https': None, 'profile_background_tile': False, 'profile_image_url': 'http://pbs.twimg.com/profile_images/983269062976397312/KvvYdl0g_normal.jpg', 'profile_image_url_https': 'https://pbs.twimg.com/profile_images/983269062976397312/KvvYdl0g_normal.jpg', 'profile_banner_url': 'https://pbs.twimg.com/profile_banners/811212815671447552/1585216090', 'profile_link_color': '1DA1F2', 'profile_sidebar_border_color': 'C0DEED', 'profile_sidebar_fill_color': 'DDEEF6', 'profile_text_color': '333333', 'profile_use_background_image': True, 'has_extended_profile': True, 'default_profile': True, 'default_profile_image': False, 'following': False, 'follow_request_sent': False, 'notifications': False, 'translator_type': 'none'}}}]}, metadata={'iso_language_code': 'en', 'result_type': 'recent'}, source='Twitter for Android', source_url='http://twitter.com/download/android', in_reply_to_status_id=None, in_reply_to_status_id_str=None, in_reply_to_user_id=None, in_reply_to_user_id_str=None, in_reply_to_screen_name=None, author=User(_api=<tweepy.api.API object at 0x000001BD91526588>, _json={'id': 1855031052, 'id_str': '1855031052', 'name': 'Hashim Fakhar', 'screen_name': 'HashimFakhar', 'location': '', 'description': 'Dreamer by heart | Artist | Thinker | Creator(exaggeration).Views are stirred up by planetary politics, injustices, probably my own. Alive & Lost. Curious.', 'url': None, 'entities': {'description': {'urls': []}}, 'protected': False, 'followers_count': 162, 'friends_count': 1446, 'listed_count': 9, 'created_at': 'Wed Sep 11 18:14:01 +0000 2013', 'favourites_count': 32809, 'utc_offset': None, 'time_zone': None, 'geo_enabled': False, 'verified': False, 'statuses_count': 10211, 'lang': None, 'contributors_enabled': False, 'is_translator': False, 'is_translation_enabled': False, 'profile_background_color': 'C0DEED', 'profile_background_image_url': 'http://abs.twimg.com/images/themes/theme1/bg.png', 'profile_background_image_url_https': 'https://abs.twimg.com/images/themes/theme1/bg.png', 'profile_background_tile': False, 'profile_image_url': 'http://pbs.twimg.com/profile_images/1016929319921299456/UwhF0VIB_normal.jpg', 'profile_image_url_https': 'https://pbs.twimg.com/profile_images/1016929319921299456/UwhF0VIB_normal.jpg', 'profile_banner_url': 'https://pbs.twimg.com/profile_banners/1855031052/1531289816', 'profile_link_color': '1DA1F2', 'profile_sidebar_border_color': 'C0DEED', 'profile_sidebar_fill_color': 'DDEEF6', 'profile_text_color': '333333', 'profile_use_background_image': True, 'has_extended_profile': True, 'default_profile': True, 'default_profile_image': False, 'following': False, 'follow_request_sent': False, 'notifications': False, 'translator_type': 'none'}, id=1855031052, id_str='1855031052', name='Hashim Fakhar', screen_name='HashimFakhar', location='', description='Dreamer by heart | Artist | Thinker | Creator(exaggeration).Views are stirred up by planetary politics, injustices, probably my own. Alive & Lost. Curious.', url=None, entities={'description': {'urls': []}}, protected=False, followers_count=162, friends_count=1446, listed_count=9, created_at=datetime.datetime(2013, 9, 11, 18, 14, 1), favourites_count=32809, utc_offset=None, time_zone=None, geo_enabled=False, verified=False, statuses_count=10211, lang=None, contributors_enabled=False, is_translator=False, is_translation_enabled=False, profile_background_color='C0DEED', profile_background_image_url='http://abs.twimg.com/images/themes/theme1/bg.png', profile_background_image_url_https='https://abs.twimg.com/images/themes/theme1/bg.png', profile_background_tile=False, profile_image_url='http://pbs.twimg.com/profile_images/1016929319921299456/UwhF0VIB_normal.jpg', profile_image_url_https='https://pbs.twimg.com/profile_images/1016929319921299456/UwhF0VIB_normal.jpg', profile_banner_url='https://pbs.twimg.com/profile_banners/1855031052/1531289816', profile_link_color='1DA1F2', profile_sidebar_border_color='C0DEED', profile_sidebar_fill_color='DDEEF6', profile_text_color='333333', profile_use_background_image=True, has_extended_profile=True, default_profile=True, default_profile_image=False, following=False, follow_request_sent=False, notifications=False, translator_type='none'), user=User(_api=<tweepy.api.API object at 0x000001BD91526588>, _json={'id': 1855031052, 'id_str': '1855031052', 'name': 'Hashim Fakhar', 'screen_name': 'HashimFakhar', 'location': '', 'description': 'Dreamer by heart | Artist | Thinker | Creator(exaggeration).Views are stirred up by planetary politics, injustices, probably my own. Alive & Lost. Curious.', 'url': None, 'entities': {'description': {'urls': []}}, 'protected': False, 'followers_count': 162, 'friends_count': 1446, 'listed_count': 9, 'created_at': 'Wed Sep 11 18:14:01 +0000 2013', 'favourites_count': 32809, 'utc_offset': None, 'time_zone': None, 'geo_enabled': False, 'verified': False, 'statuses_count': 10211, 'lang': None, 'contributors_enabled': False, 'is_translator': False, 'is_translation_enabled': False, 'profile_background_color': 'C0DEED', 'profile_background_image_url': 'http://abs.twimg.com/images/themes/theme1/bg.png', 'profile_background_image_url_https': 'https://abs.twimg.com/images/themes/theme1/bg.png', 'profile_background_tile': False, 'profile_image_url': 'http://pbs.twimg.com/profile_images/1016929319921299456/UwhF0VIB_normal.jpg', 'profile_image_url_https': 'https://pbs.twimg.com/profile_images/1016929319921299456/UwhF0VIB_normal.jpg', 'profile_banner_url': 'https://pbs.twimg.com/profile_banners/1855031052/1531289816', 'profile_link_color': '1DA1F2', 'profile_sidebar_border_color': 'C0DEED', 'profile_sidebar_fill_color': 'DDEEF6', 'profile_text_color': '333333', 'profile_use_background_image': True, 'has_extended_profile': True, 'default_profile': True, 'default_profile_image': False, 'following': False, 'follow_request_sent': False, 'notifications': False, 'translator_type': 'none'}, id=1855031052, id_str='1855031052', name='Hashim Fakhar', screen_name='HashimFakhar', location='', description='Dreamer by heart | Artist | Thinker | Creator(exaggeration).Views are stirred up by planetary politics, injustices, probably my own. Alive & Lost. Curious.', url=None, entities={'description': {'urls': []}}, protected=False, followers_count=162, friends_count=1446, listed_count=9, created_at=datetime.datetime(2013, 9, 11, 18, 14, 1), favourites_count=32809, utc_offset=None, time_zone=None, geo_enabled=False, verified=False, statuses_count=10211, lang=None, contributors_enabled=False, is_translator=False, is_translation_enabled=False, profile_background_color='C0DEED', profile_background_image_url='http://abs.twimg.com/images/themes/theme1/bg.png', profile_background_image_url_https='https://abs.twimg.com/images/themes/theme1/bg.png', profile_background_tile=False, profile_image_url='http://pbs.twimg.com/profile_images/1016929319921299456/UwhF0VIB_normal.jpg', profile_image_url_https='https://pbs.twimg.com/profile_images/1016929319921299456/UwhF0VIB_normal.jpg', profile_banner_url='https://pbs.twimg.com/profile_banners/1855031052/1531289816', profile_link_color='1DA1F2', profile_sidebar_border_color='C0DEED', profile_sidebar_fill_color='DDEEF6', profile_text_color='333333', profile_use_background_image=True, has_extended_profile=True, default_profile=True, default_profile_image=False, following=False, follow_request_sent=False, notifications=False, translator_type='none'), geo=None, coordinates=None, place=None, contributors=None, retweeted_status=Status(_api=<tweepy.api.API object at 0x000001BD91526588>, _json={'created_at': 'Sun Apr 26 12:20:00 +0000 2020', 'id': 1254384732495843329, 'id_str': '1254384732495843329', 'text': 'Based on diving sea birds, this plane from ETH Zürich can leap in and out of the water! 🦅✈ https://t.co/5pLpizFpna', 'truncated': False, 'entities': {'hashtags': [], 'symbols': [], 'user_mentions': [], 'urls': [], 'media': [{'id': 1253656074827300864, 'id_str': '1253656074827300864', 'indices': [91, 114], 'media_url': 'http://pbs.twimg.com/amplify_video_thumb/1253656074827300864/img/OiuW5nslhYHLAYOt.jpg', 'media_url_https': 'https://pbs.twimg.com/amplify_video_thumb/1253656074827300864/img/OiuW5nslhYHLAYOt.jpg', 'url': 'https://t.co/5pLpizFpna', 'display_url': 'pic.twitter.com/5pLpizFpna', 'expanded_url': 'https://twitter.com/UNILADTECH/status/1254384732495843329/video/1', 'type': 'photo', 'sizes': {'thumb': {'w': 150, 'h': 150, 'resize': 'crop'}, 'small': {'w': 680, 'h': 680, 'resize': 'fit'}, 'large': {'w': 1080, 'h': 1080, 'resize': 'fit'}, 'medium': {'w': 1080, 'h': 1080, 'resize': 'fit'}}}]}, 'extended_entities': {'media': [{'id': 1253656074827300864, 'id_str': '1253656074827300864', 'indices': [91, 114], 'media_url': 'http://pbs.twimg.com/amplify_video_thumb/1253656074827300864/img/OiuW5nslhYHLAYOt.jpg', 'media_url_https': 'https://pbs.twimg.com/amplify_video_thumb/1253656074827300864/img/OiuW5nslhYHLAYOt.jpg', 'url': 'https://t.co/5pLpizFpna', 'display_url': 'pic.twitter.com/5pLpizFpna', 'expanded_url': 'https://twitter.com/UNILADTECH/status/1254384732495843329/video/1', 'type': 'video', 'sizes': {'thumb': {'w': 150, 'h': 150, 'resize': 'crop'}, 'small': {'w': 680, 'h': 680, 'resize': 'fit'}, 'large': {'w': 1080, 'h': 1080, 'resize': 'fit'}, 'medium': {'w': 1080, 'h': 1080, 'resize': 'fit'}}, 'video_info': {'aspect_ratio': [1, 1], 'duration_millis': 70237, 'variants': [{'bitrate': 432000, 'content_type': 'video/mp4', 'url': 'https://video.twimg.com/amplify_video/1253656074827300864/vid/320x320/qgiETlLYkIoA4m6K.mp4?tag=13'}, {'bitrate': 832000, 'content_type': 'video/mp4', 'url': 'https://video.twimg.com/amplify_video/1253656074827300864/vid/480x480/dFWUhgn41NxurGU7.mp4?tag=13'}, {'content_type': 'application/x-mpegURL', 'url': 'https://video.twimg.com/amplify_video/1253656074827300864/pl/aHIQTzD9eDWKr6x_.m3u8?tag=13'}, {'bitrate': 1280000, 'content_type': 'video/mp4', 'url': 'https://video.twimg.com/amplify_video/1253656074827300864/vid/720x720/3DP5_gV73n0pXtlN.mp4?tag=13'}]}, 'additional_media_info': {'title': '', 'description': '', 'embeddable': True, 'monetizable': False}}]}, 'metadata': {'iso_language_code': 'en', 'result_type': 'recent'}, 'source': '<a href=\"https://studio.twitter.com\" rel=\"nofollow\">Twitter Media Studio</a>', 'in_reply_to_status_id': None, 'in_reply_to_status_id_str': None, 'in_reply_to_user_id': None, 'in_reply_to_user_id_str': None, 'in_reply_to_screen_name': None, 'user': {'id': 811212815671447552, 'id_str': '811212815671447552', 'name': 'UNILAD Tech', 'screen_name': 'UNILADTECH', 'location': 'United Kingdom', 'description': 'The best gadgets and innovations from the world of science and technology 🚀📱🚙', 'url': 'https://t.co/sKbEgIt7fG', 'entities': {'url': {'urls': [{'url': 'https://t.co/sKbEgIt7fG', 'expanded_url': 'https://www.facebook.com/UNILADTech/', 'display_url': 'facebook.com/UNILADTech/', 'indices': [0, 23]}]}, 'description': {'urls': []}}, 'protected': False, 'followers_count': 10914, 'friends_count': 100, 'listed_count': 97, 'created_at': 'Tue Dec 20 14:13:01 +0000 2016', 'favourites_count': 79, 'utc_offset': None, 'time_zone': None, 'geo_enabled': False, 'verified': True, 'statuses_count': 3689, 'lang': None, 'contributors_enabled': False, 'is_translator': False, 'is_translation_enabled': False, 'profile_background_color': 'F5F8FA', 'profile_background_image_url': None, 'profile_background_image_url_https': None, 'profile_background_tile': False, 'profile_image_url': 'http://pbs.twimg.com/profile_images/983269062976397312/KvvYdl0g_normal.jpg', 'profile_image_url_https': 'https://pbs.twimg.com/profile_images/983269062976397312/KvvYdl0g_normal.jpg', 'profile_banner_url': 'https://pbs.twimg.com/profile_banners/811212815671447552/1585216090', 'profile_link_color': '1DA1F2', 'profile_sidebar_border_color': 'C0DEED', 'profile_sidebar_fill_color': 'DDEEF6', 'profile_text_color': '333333', 'profile_use_background_image': True, 'has_extended_profile': True, 'default_profile': True, 'default_profile_image': False, 'following': False, 'follow_request_sent': False, 'notifications': False, 'translator_type': 'none'}, 'geo': None, 'coordinates': None, 'place': None, 'contributors': None, 'is_quote_status': False, 'retweet_count': 2, 'favorite_count': 11, 'favorited': False, 'retweeted': False, 'possibly_sensitive': False, 'lang': 'en'}, created_at=datetime.datetime(2020, 4, 26, 12, 20), id=1254384732495843329, id_str='1254384732495843329', text='Based on diving sea birds, this plane from ETH Zürich can leap in and out of the water! 🦅✈ https://t.co/5pLpizFpna', truncated=False, entities={'hashtags': [], 'symbols': [], 'user_mentions': [], 'urls': [], 'media': [{'id': 1253656074827300864, 'id_str': '1253656074827300864', 'indices': [91, 114], 'media_url': 'http://pbs.twimg.com/amplify_video_thumb/1253656074827300864/img/OiuW5nslhYHLAYOt.jpg', 'media_url_https': 'https://pbs.twimg.com/amplify_video_thumb/1253656074827300864/img/OiuW5nslhYHLAYOt.jpg', 'url': 'https://t.co/5pLpizFpna', 'display_url': 'pic.twitter.com/5pLpizFpna', 'expanded_url': 'https://twitter.com/UNILADTECH/status/1254384732495843329/video/1', 'type': 'photo', 'sizes': {'thumb': {'w': 150, 'h': 150, 'resize': 'crop'}, 'small': {'w': 680, 'h': 680, 'resize': 'fit'}, 'large': {'w': 1080, 'h': 1080, 'resize': 'fit'}, 'medium': {'w': 1080, 'h': 1080, 'resize': 'fit'}}}]}, extended_entities={'media': [{'id': 1253656074827300864, 'id_str': '1253656074827300864', 'indices': [91, 114], 'media_url': 'http://pbs.twimg.com/amplify_video_thumb/1253656074827300864/img/OiuW5nslhYHLAYOt.jpg', 'media_url_https': 'https://pbs.twimg.com/amplify_video_thumb/1253656074827300864/img/OiuW5nslhYHLAYOt.jpg', 'url': 'https://t.co/5pLpizFpna', 'display_url': 'pic.twitter.com/5pLpizFpna', 'expanded_url': 'https://twitter.com/UNILADTECH/status/1254384732495843329/video/1', 'type': 'video', 'sizes': {'thumb': {'w': 150, 'h': 150, 'resize': 'crop'}, 'small': {'w': 680, 'h': 680, 'resize': 'fit'}, 'large': {'w': 1080, 'h': 1080, 'resize': 'fit'}, 'medium': {'w': 1080, 'h': 1080, 'resize': 'fit'}}, 'video_info': {'aspect_ratio': [1, 1], 'duration_millis': 70237, 'variants': [{'bitrate': 432000, 'content_type': 'video/mp4', 'url': 'https://video.twimg.com/amplify_video/1253656074827300864/vid/320x320/qgiETlLYkIoA4m6K.mp4?tag=13'}, {'bitrate': 832000, 'content_type': 'video/mp4', 'url': 'https://video.twimg.com/amplify_video/1253656074827300864/vid/480x480/dFWUhgn41NxurGU7.mp4?tag=13'}, {'content_type': 'application/x-mpegURL', 'url': 'https://video.twimg.com/amplify_video/1253656074827300864/pl/aHIQTzD9eDWKr6x_.m3u8?tag=13'}, {'bitrate': 1280000, 'content_type': 'video/mp4', 'url': 'https://video.twimg.com/amplify_video/1253656074827300864/vid/720x720/3DP5_gV73n0pXtlN.mp4?tag=13'}]}, 'additional_media_info': {'title': '', 'description': '', 'embeddable': True, 'monetizable': False}}]}, metadata={'iso_language_code': 'en', 'result_type': 'recent'}, source='Twitter Media Studio', source_url='https://studio.twitter.com', in_reply_to_status_id=None, in_reply_to_status_id_str=None, in_reply_to_user_id=None, in_reply_to_user_id_str=None, in_reply_to_screen_name=None, author=User(_api=<tweepy.api.API object at 0x000001BD91526588>, _json={'id': 811212815671447552, 'id_str': '811212815671447552', 'name': 'UNILAD Tech', 'screen_name': 'UNILADTECH', 'location': 'United Kingdom', 'description': 'The best gadgets and innovations from the world of science and technology 🚀📱🚙', 'url': 'https://t.co/sKbEgIt7fG', 'entities': {'url': {'urls': [{'url': 'https://t.co/sKbEgIt7fG', 'expanded_url': 'https://www.facebook.com/UNILADTech/', 'display_url': 'facebook.com/UNILADTech/', 'indices': [0, 23]}]}, 'description': {'urls': []}}, 'protected': False, 'followers_count': 10914, 'friends_count': 100, 'listed_count': 97, 'created_at': 'Tue Dec 20 14:13:01 +0000 2016', 'favourites_count': 79, 'utc_offset': None, 'time_zone': None, 'geo_enabled': False, 'verified': True, 'statuses_count': 3689, 'lang': None, 'contributors_enabled': False, 'is_translator': False, 'is_translation_enabled': False, 'profile_background_color': 'F5F8FA', 'profile_background_image_url': None, 'profile_background_image_url_https': None, 'profile_background_tile': False, 'profile_image_url': 'http://pbs.twimg.com/profile_images/983269062976397312/KvvYdl0g_normal.jpg', 'profile_image_url_https': 'https://pbs.twimg.com/profile_images/983269062976397312/KvvYdl0g_normal.jpg', 'profile_banner_url': 'https://pbs.twimg.com/profile_banners/811212815671447552/1585216090', 'profile_link_color': '1DA1F2', 'profile_sidebar_border_color': 'C0DEED', 'profile_sidebar_fill_color': 'DDEEF6', 'profile_text_color': '333333', 'profile_use_background_image': True, 'has_extended_profile': True, 'default_profile': True, 'default_profile_image': False, 'following': False, 'follow_request_sent': False, 'notifications': False, 'translator_type': 'none'}, id=811212815671447552, id_str='811212815671447552', name='UNILAD Tech', screen_name='UNILADTECH', location='United Kingdom', description='The best gadgets and innovations from the world of science and technology 🚀📱🚙', url='https://t.co/sKbEgIt7fG', entities={'url': {'urls': [{'url': 'https://t.co/sKbEgIt7fG', 'expanded_url': 'https://www.facebook.com/UNILADTech/', 'display_url': 'facebook.com/UNILADTech/', 'indices': [0, 23]}]}, 'description': {'urls': []}}, protected=False, followers_count=10914, friends_count=100, listed_count=97, created_at=datetime.datetime(2016, 12, 20, 14, 13, 1), favourites_count=79, utc_offset=None, time_zone=None, geo_enabled=False, verified=True, statuses_count=3689, lang=None, contributors_enabled=False, is_translator=False, is_translation_enabled=False, profile_background_color='F5F8FA', profile_background_image_url=None, profile_background_image_url_https=None, profile_background_tile=False, profile_image_url='http://pbs.twimg.com/profile_images/983269062976397312/KvvYdl0g_normal.jpg', profile_image_url_https='https://pbs.twimg.com/profile_images/983269062976397312/KvvYdl0g_normal.jpg', profile_banner_url='https://pbs.twimg.com/profile_banners/811212815671447552/1585216090', profile_link_color='1DA1F2', profile_sidebar_border_color='C0DEED', profile_sidebar_fill_color='DDEEF6', profile_text_color='333333', profile_use_background_image=True, has_extended_profile=True, default_profile=True, default_profile_image=False, following=False, follow_request_sent=False, notifications=False, translator_type='none'), user=User(_api=<tweepy.api.API object at 0x000001BD91526588>, _json={'id': 811212815671447552, 'id_str': '811212815671447552', 'name': 'UNILAD Tech', 'screen_name': 'UNILADTECH', 'location': 'United Kingdom', 'description': 'The best gadgets and innovations from the world of science and technology 🚀📱🚙', 'url': 'https://t.co/sKbEgIt7fG', 'entities': {'url': {'urls': [{'url': 'https://t.co/sKbEgIt7fG', 'expanded_url': 'https://www.facebook.com/UNILADTech/', 'display_url': 'facebook.com/UNILADTech/', 'indices': [0, 23]}]}, 'description': {'urls': []}}, 'protected': False, 'followers_count': 10914, 'friends_count': 100, 'listed_count': 97, 'created_at': 'Tue Dec 20 14:13:01 +0000 2016', 'favourites_count': 79, 'utc_offset': None, 'time_zone': None, 'geo_enabled': False, 'verified': True, 'statuses_count': 3689, 'lang': None, 'contributors_enabled': False, 'is_translator': False, 'is_translation_enabled': False, 'profile_background_color': 'F5F8FA', 'profile_background_image_url': None, 'profile_background_image_url_https': None, 'profile_background_tile': False, 'profile_image_url': 'http://pbs.twimg.com/profile_images/983269062976397312/KvvYdl0g_normal.jpg', 'profile_image_url_https': 'https://pbs.twimg.com/profile_images/983269062976397312/KvvYdl0g_normal.jpg', 'profile_banner_url': 'https://pbs.twimg.com/profile_banners/811212815671447552/1585216090', 'profile_link_color': '1DA1F2', 'profile_sidebar_border_color': 'C0DEED', 'profile_sidebar_fill_color': 'DDEEF6', 'profile_text_color': '333333', 'profile_use_background_image': True, 'has_extended_profile': True, 'default_profile': True, 'default_profile_image': False, 'following': False, 'follow_request_sent': False, 'notifications': False, 'translator_type': 'none'}, id=811212815671447552, id_str='811212815671447552', name='UNILAD Tech', screen_name='UNILADTECH', location='United Kingdom', description='The best gadgets and innovations from the world of science and technology 🚀📱🚙', url='https://t.co/sKbEgIt7fG', entities={'url': {'urls': [{'url': 'https://t.co/sKbEgIt7fG', 'expanded_url': 'https://www.facebook.com/UNILADTech/', 'display_url': 'facebook.com/UNILADTech/', 'indices': [0, 23]}]}, 'description': {'urls': []}}, protected=False, followers_count=10914, friends_count=100, listed_count=97, created_at=datetime.datetime(2016, 12, 20, 14, 13, 1), favourites_count=79, utc_offset=None, time_zone=None, geo_enabled=False, verified=True, statuses_count=3689, lang=None, contributors_enabled=False, is_translator=False, is_translation_enabled=False, profile_background_color='F5F8FA', profile_background_image_url=None, profile_background_image_url_https=None, profile_background_tile=False, profile_image_url='http://pbs.twimg.com/profile_images/983269062976397312/KvvYdl0g_normal.jpg', profile_image_url_https='https://pbs.twimg.com/profile_images/983269062976397312/KvvYdl0g_normal.jpg', profile_banner_url='https://pbs.twimg.com/profile_banners/811212815671447552/1585216090', profile_link_color='1DA1F2', profile_sidebar_border_color='C0DEED', profile_sidebar_fill_color='DDEEF6', profile_text_color='333333', profile_use_background_image=True, has_extended_profile=True, default_profile=True, default_profile_image=False, following=False, follow_request_sent=False, notifications=False, translator_type='none'), geo=None, coordinates=None, place=None, contributors=None, is_quote_status=False, retweet_count=2, favorite_count=11, favorited=False, retweeted=False, possibly_sensitive=False, lang='en'), is_quote_status=False, retweet_count=2, favorite_count=0, favorited=False, retweeted=False, possibly_sensitive=False, lang='en')\n"
     ],
     "output_type": "stream"
    }
   ],
   "source": [
    "#todo: check to do list not working\n",
    "# todo: add this\n",
    "pprint(tweets[0]) # for the first tweet"
   ],
   "metadata": {
    "collapsed": false,
    "pycharm": {
     "name": "#%%\n",
     "is_executing": false
    }
   }
  },
  {
   "cell_type": "code",
   "execution_count": 8,
   "outputs": [
    {
     "name": "stdout",
     "text": [
      "<tweepy.api.API object at 0x000001BD91526588>\n"
     ],
     "output_type": "stream"
    }
   ],
   "source": [
    "pprint(tweets[0]._api) # for the first tweet"
   ],
   "metadata": {
    "collapsed": false,
    "pycharm": {
     "name": "#%%\n",
     "is_executing": false
    }
   }
  },
  {
   "cell_type": "code",
   "execution_count": 9,
   "outputs": [
    {
     "name": "stdout",
     "text": [
      "{'contributors': None,\n",
      " 'coordinates': None,\n",
      " 'created_at': 'Sun Apr 26 12:32:41 +0000 2020',\n",
      " 'entities': {'hashtags': [],\n",
      "              'media': [{'display_url': 'pic.twitter.com/5pLpizFpna',\n",
      "                         'expanded_url': 'https://twitter.com/UNILADTECH/status/1254384732495843329/video/1',\n",
      "                         'id': 1253656074827300864,\n",
      "                         'id_str': '1253656074827300864',\n",
      "                         'indices': [107, 130],\n",
      "                         'media_url': 'http://pbs.twimg.com/amplify_video_thumb/1253656074827300864/img/OiuW5nslhYHLAYOt.jpg',\n",
      "                         'media_url_https': 'https://pbs.twimg.com/amplify_video_thumb/1253656074827300864/img/OiuW5nslhYHLAYOt.jpg',\n",
      "                         'sizes': {'large': {'h': 1080,\n",
      "                                             'resize': 'fit',\n",
      "                                             'w': 1080},\n",
      "                                   'medium': {'h': 1080,\n",
      "                                              'resize': 'fit',\n",
      "                                              'w': 1080},\n",
      "                                   'small': {'h': 680,\n",
      "                                             'resize': 'fit',\n",
      "                                             'w': 680},\n",
      "                                   'thumb': {'h': 150,\n",
      "                                             'resize': 'crop',\n",
      "                                             'w': 150}},\n",
      "                         'source_status_id': 1254384732495843329,\n",
      "                         'source_status_id_str': '1254384732495843329',\n",
      "                         'source_user_id': 811212815671447552,\n",
      "                         'source_user_id_str': '811212815671447552',\n",
      "                         'type': 'photo',\n",
      "                         'url': 'https://t.co/5pLpizFpna'}],\n",
      "              'symbols': [],\n",
      "              'urls': [],\n",
      "              'user_mentions': [{'id': 811212815671447552,\n",
      "                                 'id_str': '811212815671447552',\n",
      "                                 'indices': [3, 14],\n",
      "                                 'name': 'UNILAD Tech',\n",
      "                                 'screen_name': 'UNILADTECH'}]},\n",
      " 'extended_entities': {'media': [{'additional_media_info': {'description': '',\n",
      "                                                            'embeddable': True,\n",
      "                                                            'monetizable': False,\n",
      "                                                            'source_user': {'contributors_enabled': False,\n",
      "                                                                            'created_at': 'Tue '\n",
      "                                                                                          'Dec '\n",
      "                                                                                          '20 '\n",
      "                                                                                          '14:13:01 '\n",
      "                                                                                          '+0000 '\n",
      "                                                                                          '2016',\n",
      "                                                                            'default_profile': True,\n",
      "                                                                            'default_profile_image': False,\n",
      "                                                                            'description': 'The '\n",
      "                                                                                           'best '\n",
      "                                                                                           'gadgets '\n",
      "                                                                                           'and '\n",
      "                                                                                           'innovations '\n",
      "                                                                                           'from '\n",
      "                                                                                           'the '\n",
      "                                                                                           'world '\n",
      "                                                                                           'of '\n",
      "                                                                                           'science '\n",
      "                                                                                           'and '\n",
      "                                                                                           'technology '\n",
      "                                                                                           '🚀📱🚙',\n",
      "                                                                            'entities': {'description': {'urls': []},\n",
      "                                                                                         'url': {'urls': [{'display_url': 'facebook.com/UNILADTech/',\n",
      "                                                                                                           'expanded_url': 'https://www.facebook.com/UNILADTech/',\n",
      "                                                                                                           'indices': [0,\n",
      "                                                                                                                       23],\n",
      "                                                                                                           'url': 'https://t.co/sKbEgIt7fG'}]}},\n",
      "                                                                            'favourites_count': 79,\n",
      "                                                                            'follow_request_sent': False,\n",
      "                                                                            'followers_count': 10914,\n",
      "                                                                            'following': False,\n",
      "                                                                            'friends_count': 100,\n",
      "                                                                            'geo_enabled': False,\n",
      "                                                                            'has_extended_profile': True,\n",
      "                                                                            'id': 811212815671447552,\n",
      "                                                                            'id_str': '811212815671447552',\n",
      "                                                                            'is_translation_enabled': False,\n",
      "                                                                            'is_translator': False,\n",
      "                                                                            'lang': None,\n",
      "                                                                            'listed_count': 97,\n",
      "                                                                            'location': 'United '\n",
      "                                                                                        'Kingdom',\n",
      "                                                                            'name': 'UNILAD '\n",
      "                                                                                    'Tech',\n",
      "                                                                            'notifications': False,\n",
      "                                                                            'profile_background_color': 'F5F8FA',\n",
      "                                                                            'profile_background_image_url': None,\n",
      "                                                                            'profile_background_image_url_https': None,\n",
      "                                                                            'profile_background_tile': False,\n",
      "                                                                            'profile_banner_url': 'https://pbs.twimg.com/profile_banners/811212815671447552/1585216090',\n",
      "                                                                            'profile_image_url': 'http://pbs.twimg.com/profile_images/983269062976397312/KvvYdl0g_normal.jpg',\n",
      "                                                                            'profile_image_url_https': 'https://pbs.twimg.com/profile_images/983269062976397312/KvvYdl0g_normal.jpg',\n",
      "                                                                            'profile_link_color': '1DA1F2',\n",
      "                                                                            'profile_sidebar_border_color': 'C0DEED',\n",
      "                                                                            'profile_sidebar_fill_color': 'DDEEF6',\n",
      "                                                                            'profile_text_color': '333333',\n",
      "                                                                            'profile_use_background_image': True,\n",
      "                                                                            'protected': False,\n",
      "                                                                            'screen_name': 'UNILADTECH',\n",
      "                                                                            'statuses_count': 3689,\n",
      "                                                                            'time_zone': None,\n",
      "                                                                            'translator_type': 'none',\n",
      "                                                                            'url': 'https://t.co/sKbEgIt7fG',\n",
      "                                                                            'utc_offset': None,\n",
      "                                                                            'verified': True},\n",
      "                                                            'title': ''},\n",
      "                                  'display_url': 'pic.twitter.com/5pLpizFpna',\n",
      "                                  'expanded_url': 'https://twitter.com/UNILADTECH/status/1254384732495843329/video/1',\n",
      "                                  'id': 1253656074827300864,\n",
      "                                  'id_str': '1253656074827300864',\n",
      "                                  'indices': [107, 130],\n",
      "                                  'media_url': 'http://pbs.twimg.com/amplify_video_thumb/1253656074827300864/img/OiuW5nslhYHLAYOt.jpg',\n",
      "                                  'media_url_https': 'https://pbs.twimg.com/amplify_video_thumb/1253656074827300864/img/OiuW5nslhYHLAYOt.jpg',\n",
      "                                  'sizes': {'large': {'h': 1080,\n",
      "                                                      'resize': 'fit',\n",
      "                                                      'w': 1080},\n",
      "                                            'medium': {'h': 1080,\n",
      "                                                       'resize': 'fit',\n",
      "                                                       'w': 1080},\n",
      "                                            'small': {'h': 680,\n",
      "                                                      'resize': 'fit',\n",
      "                                                      'w': 680},\n",
      "                                            'thumb': {'h': 150,\n",
      "                                                      'resize': 'crop',\n",
      "                                                      'w': 150}},\n",
      "                                  'source_status_id': 1254384732495843329,\n",
      "                                  'source_status_id_str': '1254384732495843329',\n",
      "                                  'source_user_id': 811212815671447552,\n",
      "                                  'source_user_id_str': '811212815671447552',\n",
      "                                  'type': 'video',\n",
      "                                  'url': 'https://t.co/5pLpizFpna',\n",
      "                                  'video_info': {'aspect_ratio': [1, 1],\n",
      "                                                 'duration_millis': 70237,\n",
      "                                                 'variants': [{'bitrate': 432000,\n",
      "                                                               'content_type': 'video/mp4',\n",
      "                                                               'url': 'https://video.twimg.com/amplify_video/1253656074827300864/vid/320x320/qgiETlLYkIoA4m6K.mp4?tag=13'},\n",
      "                                                              {'bitrate': 832000,\n",
      "                                                               'content_type': 'video/mp4',\n",
      "                                                               'url': 'https://video.twimg.com/amplify_video/1253656074827300864/vid/480x480/dFWUhgn41NxurGU7.mp4?tag=13'},\n",
      "                                                              {'content_type': 'application/x-mpegURL',\n",
      "                                                               'url': 'https://video.twimg.com/amplify_video/1253656074827300864/pl/aHIQTzD9eDWKr6x_.m3u8?tag=13'},\n",
      "                                                              {'bitrate': 1280000,\n",
      "                                                               'content_type': 'video/mp4',\n",
      "                                                               'url': 'https://video.twimg.com/amplify_video/1253656074827300864/vid/720x720/3DP5_gV73n0pXtlN.mp4?tag=13'}]}}]},\n",
      " 'favorite_count': 0,\n",
      " 'favorited': False,\n",
      " 'geo': None,\n",
      " 'id': 1254387926798131201,\n",
      " 'id_str': '1254387926798131201',\n",
      " 'in_reply_to_screen_name': None,\n",
      " 'in_reply_to_status_id': None,\n",
      " 'in_reply_to_status_id_str': None,\n",
      " 'in_reply_to_user_id': None,\n",
      " 'in_reply_to_user_id_str': None,\n",
      " 'is_quote_status': False,\n",
      " 'lang': 'en',\n",
      " 'metadata': {'iso_language_code': 'en', 'result_type': 'recent'},\n",
      " 'place': None,\n",
      " 'possibly_sensitive': False,\n",
      " 'retweet_count': 2,\n",
      " 'retweeted': False,\n",
      " 'retweeted_status': {'contributors': None,\n",
      "                      'coordinates': None,\n",
      "                      'created_at': 'Sun Apr 26 12:20:00 +0000 2020',\n",
      "                      'entities': {'hashtags': [],\n",
      "                                   'media': [{'display_url': 'pic.twitter.com/5pLpizFpna',\n",
      "                                              'expanded_url': 'https://twitter.com/UNILADTECH/status/1254384732495843329/video/1',\n",
      "                                              'id': 1253656074827300864,\n",
      "                                              'id_str': '1253656074827300864',\n",
      "                                              'indices': [91, 114],\n",
      "                                              'media_url': 'http://pbs.twimg.com/amplify_video_thumb/1253656074827300864/img/OiuW5nslhYHLAYOt.jpg',\n",
      "                                              'media_url_https': 'https://pbs.twimg.com/amplify_video_thumb/1253656074827300864/img/OiuW5nslhYHLAYOt.jpg',\n",
      "                                              'sizes': {'large': {'h': 1080,\n",
      "                                                                  'resize': 'fit',\n",
      "                                                                  'w': 1080},\n",
      "                                                        'medium': {'h': 1080,\n",
      "                                                                   'resize': 'fit',\n",
      "                                                                   'w': 1080},\n",
      "                                                        'small': {'h': 680,\n",
      "                                                                  'resize': 'fit',\n",
      "                                                                  'w': 680},\n",
      "                                                        'thumb': {'h': 150,\n",
      "                                                                  'resize': 'crop',\n",
      "                                                                  'w': 150}},\n",
      "                                              'type': 'photo',\n",
      "                                              'url': 'https://t.co/5pLpizFpna'}],\n",
      "                                   'symbols': [],\n",
      "                                   'urls': [],\n",
      "                                   'user_mentions': []},\n",
      "                      'extended_entities': {'media': [{'additional_media_info': {'description': '',\n",
      "                                                                                 'embeddable': True,\n",
      "                                                                                 'monetizable': False,\n",
      "                                                                                 'title': ''},\n",
      "                                                       'display_url': 'pic.twitter.com/5pLpizFpna',\n",
      "                                                       'expanded_url': 'https://twitter.com/UNILADTECH/status/1254384732495843329/video/1',\n",
      "                                                       'id': 1253656074827300864,\n",
      "                                                       'id_str': '1253656074827300864',\n",
      "                                                       'indices': [91, 114],\n",
      "                                                       'media_url': 'http://pbs.twimg.com/amplify_video_thumb/1253656074827300864/img/OiuW5nslhYHLAYOt.jpg',\n",
      "                                                       'media_url_https': 'https://pbs.twimg.com/amplify_video_thumb/1253656074827300864/img/OiuW5nslhYHLAYOt.jpg',\n",
      "                                                       'sizes': {'large': {'h': 1080,\n",
      "                                                                           'resize': 'fit',\n",
      "                                                                           'w': 1080},\n",
      "                                                                 'medium': {'h': 1080,\n",
      "                                                                            'resize': 'fit',\n",
      "                                                                            'w': 1080},\n",
      "                                                                 'small': {'h': 680,\n",
      "                                                                           'resize': 'fit',\n",
      "                                                                           'w': 680},\n",
      "                                                                 'thumb': {'h': 150,\n",
      "                                                                           'resize': 'crop',\n",
      "                                                                           'w': 150}},\n",
      "                                                       'type': 'video',\n",
      "                                                       'url': 'https://t.co/5pLpizFpna',\n",
      "                                                       'video_info': {'aspect_ratio': [1,\n",
      "                                                                                       1],\n",
      "                                                                      'duration_millis': 70237,\n",
      "                                                                      'variants': [{'bitrate': 432000,\n",
      "                                                                                    'content_type': 'video/mp4',\n",
      "                                                                                    'url': 'https://video.twimg.com/amplify_video/1253656074827300864/vid/320x320/qgiETlLYkIoA4m6K.mp4?tag=13'},\n",
      "                                                                                   {'bitrate': 832000,\n",
      "                                                                                    'content_type': 'video/mp4',\n",
      "                                                                                    'url': 'https://video.twimg.com/amplify_video/1253656074827300864/vid/480x480/dFWUhgn41NxurGU7.mp4?tag=13'},\n",
      "                                                                                   {'content_type': 'application/x-mpegURL',\n",
      "                                                                                    'url': 'https://video.twimg.com/amplify_video/1253656074827300864/pl/aHIQTzD9eDWKr6x_.m3u8?tag=13'},\n",
      "                                                                                   {'bitrate': 1280000,\n",
      "                                                                                    'content_type': 'video/mp4',\n",
      "                                                                                    'url': 'https://video.twimg.com/amplify_video/1253656074827300864/vid/720x720/3DP5_gV73n0pXtlN.mp4?tag=13'}]}}]},\n",
      "                      'favorite_count': 11,\n",
      "                      'favorited': False,\n",
      "                      'geo': None,\n",
      "                      'id': 1254384732495843329,\n",
      "                      'id_str': '1254384732495843329',\n",
      "                      'in_reply_to_screen_name': None,\n",
      "                      'in_reply_to_status_id': None,\n",
      "                      'in_reply_to_status_id_str': None,\n",
      "                      'in_reply_to_user_id': None,\n",
      "                      'in_reply_to_user_id_str': None,\n",
      "                      'is_quote_status': False,\n",
      "                      'lang': 'en',\n",
      "                      'metadata': {'iso_language_code': 'en',\n",
      "                                   'result_type': 'recent'},\n",
      "                      'place': None,\n",
      "                      'possibly_sensitive': False,\n",
      "                      'retweet_count': 2,\n",
      "                      'retweeted': False,\n",
      "                      'source': '<a href=\"https://studio.twitter.com\" '\n",
      "                                'rel=\"nofollow\">Twitter Media Studio</a>',\n",
      "                      'text': 'Based on diving sea birds, this plane from ETH '\n",
      "                              'Zürich can leap in and out of the water! 🦅✈ '\n",
      "                              'https://t.co/5pLpizFpna',\n",
      "                      'truncated': False,\n",
      "                      'user': {'contributors_enabled': False,\n",
      "                               'created_at': 'Tue Dec 20 14:13:01 +0000 2016',\n",
      "                               'default_profile': True,\n",
      "                               'default_profile_image': False,\n",
      "                               'description': 'The best gadgets and '\n",
      "                                              'innovations from the world of '\n",
      "                                              'science and technology 🚀📱🚙',\n",
      "                               'entities': {'description': {'urls': []},\n",
      "                                            'url': {'urls': [{'display_url': 'facebook.com/UNILADTech/',\n",
      "                                                              'expanded_url': 'https://www.facebook.com/UNILADTech/',\n",
      "                                                              'indices': [0,\n",
      "                                                                          23],\n",
      "                                                              'url': 'https://t.co/sKbEgIt7fG'}]}},\n",
      "                               'favourites_count': 79,\n",
      "                               'follow_request_sent': False,\n",
      "                               'followers_count': 10914,\n",
      "                               'following': False,\n",
      "                               'friends_count': 100,\n",
      "                               'geo_enabled': False,\n",
      "                               'has_extended_profile': True,\n",
      "                               'id': 811212815671447552,\n",
      "                               'id_str': '811212815671447552',\n",
      "                               'is_translation_enabled': False,\n",
      "                               'is_translator': False,\n",
      "                               'lang': None,\n",
      "                               'listed_count': 97,\n",
      "                               'location': 'United Kingdom',\n",
      "                               'name': 'UNILAD Tech',\n",
      "                               'notifications': False,\n",
      "                               'profile_background_color': 'F5F8FA',\n",
      "                               'profile_background_image_url': None,\n",
      "                               'profile_background_image_url_https': None,\n",
      "                               'profile_background_tile': False,\n",
      "                               'profile_banner_url': 'https://pbs.twimg.com/profile_banners/811212815671447552/1585216090',\n",
      "                               'profile_image_url': 'http://pbs.twimg.com/profile_images/983269062976397312/KvvYdl0g_normal.jpg',\n",
      "                               'profile_image_url_https': 'https://pbs.twimg.com/profile_images/983269062976397312/KvvYdl0g_normal.jpg',\n",
      "                               'profile_link_color': '1DA1F2',\n",
      "                               'profile_sidebar_border_color': 'C0DEED',\n",
      "                               'profile_sidebar_fill_color': 'DDEEF6',\n",
      "                               'profile_text_color': '333333',\n",
      "                               'profile_use_background_image': True,\n",
      "                               'protected': False,\n",
      "                               'screen_name': 'UNILADTECH',\n",
      "                               'statuses_count': 3689,\n",
      "                               'time_zone': None,\n",
      "                               'translator_type': 'none',\n",
      "                               'url': 'https://t.co/sKbEgIt7fG',\n",
      "                               'utc_offset': None,\n",
      "                               'verified': True}},\n",
      " 'source': '<a href=\"http://twitter.com/download/android\" '\n",
      "           'rel=\"nofollow\">Twitter for Android</a>',\n",
      " 'text': 'RT @UNILADTECH: Based on diving sea birds, this plane from ETH '\n",
      "         'Zürich can leap in and out of the water! 🦅✈ https://t.co/5pLpizFpna',\n",
      " 'truncated': False,\n",
      " 'user': {'contributors_enabled': False,\n",
      "          'created_at': 'Wed Sep 11 18:14:01 +0000 2013',\n",
      "          'default_profile': True,\n",
      "          'default_profile_image': False,\n",
      "          'description': 'Dreamer by heart | Artist | Thinker | '\n",
      "                         'Creator(exaggeration).Views are stirred up by '\n",
      "                         'planetary politics, injustices, probably my own. '\n",
      "                         'Alive & Lost. Curious.',\n",
      "          'entities': {'description': {'urls': []}},\n",
      "          'favourites_count': 32809,\n",
      "          'follow_request_sent': False,\n",
      "          'followers_count': 162,\n",
      "          'following': False,\n",
      "          'friends_count': 1446,\n",
      "          'geo_enabled': False,\n",
      "          'has_extended_profile': True,\n",
      "          'id': 1855031052,\n",
      "          'id_str': '1855031052',\n",
      "          'is_translation_enabled': False,\n",
      "          'is_translator': False,\n",
      "          'lang': None,\n",
      "          'listed_count': 9,\n",
      "          'location': '',\n",
      "          'name': 'Hashim Fakhar',\n",
      "          'notifications': False,\n",
      "          'profile_background_color': 'C0DEED',\n",
      "          'profile_background_image_url': 'http://abs.twimg.com/images/themes/theme1/bg.png',\n",
      "          'profile_background_image_url_https': 'https://abs.twimg.com/images/themes/theme1/bg.png',\n",
      "          'profile_background_tile': False,\n",
      "          'profile_banner_url': 'https://pbs.twimg.com/profile_banners/1855031052/1531289816',\n",
      "          'profile_image_url': 'http://pbs.twimg.com/profile_images/1016929319921299456/UwhF0VIB_normal.jpg',\n",
      "          'profile_image_url_https': 'https://pbs.twimg.com/profile_images/1016929319921299456/UwhF0VIB_normal.jpg',\n",
      "          'profile_link_color': '1DA1F2',\n",
      "          'profile_sidebar_border_color': 'C0DEED',\n",
      "          'profile_sidebar_fill_color': 'DDEEF6',\n",
      "          'profile_text_color': '333333',\n",
      "          'profile_use_background_image': True,\n",
      "          'protected': False,\n",
      "          'screen_name': 'HashimFakhar',\n",
      "          'statuses_count': 10211,\n",
      "          'time_zone': None,\n",
      "          'translator_type': 'none',\n",
      "          'url': None,\n",
      "          'utc_offset': None,\n",
      "          'verified': False}}\n"
     ],
     "output_type": "stream"
    }
   ],
   "source": [
    "pprint(tweets[0]._json) # for the first tweet"
   ],
   "metadata": {
    "collapsed": false,
    "pycharm": {
     "name": "#%%\n",
     "is_executing": false
    }
   }
  },
  {
   "cell_type": "markdown",
   "source": [
    "**Step 1b: continuous `y` variables** [week 2]\n",
    "- Fetching the data: \n",
    "    - if you work on the suggested idea, you can easily access daily stock prices using the [`yfinance` package](https://pypi.org/project/yfinance/)  (see below)\n",
    "    - otherwise, you can find some interesting data listed in the syllabus\n",
    "\n",
    "**Step 1c: merge `X_num` and `y`** [week 2]\n",
    "- Beware of the temporality: in the case of the proposed study on stock market prices, you will have to deal with the fact that the X is at the tweet level while `y` is daily. \n",
    "\n",
    "***Milestone 1 - March 24th*** *You can submit the previous steps as a first notebook.*\n",
    "\n",
    "**Sample split.** Do the standard 80% / 20% training/test split using all days in the data. In addition, do a separate temporal split where the training set is the first 80% of days in the time series.\n",
    "\n",
    "**For all machine learning models**, report performance measure in test and train samples.\n",
    "\n",
    "**Step 2a: estimate different regression models using `X_num` and `y`** [week 3]\n",
    "\n",
    "***Milestone 2 - March 31th***  *You can submit the previous steps as a second notebook.*\n",
    "\n",
    "**Step 3: text analysis** [week 4]\n",
    "- Featurize tweets (or another text dataset related to your subject): transform the text into a standard document-level dataset `X_doc`\n",
    "\n",
    "**Step 2b: estimate different regression models using `X_doc` and `y`** [week 3]\n",
    "\n",
    "**Step 4: estimate a classification models** [week 5]\n",
    "- propose a categorical variable `y_calc` that you can compute from the continuous one (`y`) (e.g. positive or negative growthin stock prices). For the `X` dimension, you can use `X_doc` or `X_num` or both. \n",
    "- you can use any other categorical variable that you find relevant \n",
    "\n",
    "***Milestone 3 - April 21th***  *You can submit the previous steps as a third notebook.*\n",
    "\n",
    "**Step 6: Dimension reduction** [week 6]\n",
    "- Use one of the dimension reductions methods to dimension-reduce the features\n",
    "    - PCA or topic model (LDA or STM) or k-means clustering on the featurized text `X_doc`\n",
    "- Run another classifier\n",
    "\n",
    "**Step bonus: Econometric identification** [week 8]\n",
    "- Find an exogenous shock affecting this firm (but not all the firms) and a control group of firms not affected\n",
    "    - example: a natural disaster/shock to the exchange rate/change in ownership... affects the functionning of this firm but not the other firms of the stock market index.  \n",
    "- scale up the previous data collection to the firms in the control group\n",
    "- use one of the technique studied in class to causaly identify the impact of the exogenous shock on the stock market of the affected firm\n",
    "\n",
    "***Milestone 4 - May 17th*** *You can submit the previous steps as a last notebook.*\n",
    "\n",
    "---------------------------\n",
    "**Requirement for completion grade**: \n",
    "- the homework should be done in **groups of 1 or 2 persons** \n",
    "- the homework will have to be submitted as a (Python or R) **notebooks**\n",
    "- you can give them back at the indicated **milestone** or on May 17th (no homework will be accepted after May 17th)\n",
    "- the notebooks should contain at least **three graphs** (overall)\n",
    "- each notebook should run from the beginning to then end, but:\n",
    "    - beware of paths to folders that are on your computer but not on mine\n",
    "    - if you have such a path, you can: \n",
    "        - have the data downloaded in the notebook directly\n",
    "        - import your data in a github (or any other online storage) folder that the notebook can access  \n",
    "    - indicate if the notebook takes more than 30 minutes to run\n",
    "- do not write us emails regarding the homework, ask your questions on the **forum**, it will benefit everyone for sure! \n",
    "\n",
    "---------------------------"
   ],
   "metadata": {
    "collapsed": false,
    "pycharm": {
     "name": "#%% md\n"
    }
   }
  }
 ],
 "metadata": {
  "kernelspec": {
   "display_name": "Python 3",
   "language": "python",
   "name": "python3"
  },
  "language_info": {
   "codemirror_mode": {
    "name": "ipython",
    "version": 3
   },
   "file_extension": ".py",
   "mimetype": "text/x-python",
   "name": "python",
   "nbconvert_exporter": "python",
   "pygments_lexer": "ipython3",
   "version": "3.6.9"
  },
  "toc": {
   "base_numbering": 1,
   "nav_menu": {},
   "number_sections": true,
   "sideBar": true,
   "skip_h1_title": false,
   "title_cell": "Table of Contents",
   "title_sidebar": "Contents",
   "toc_cell": false,
   "toc_position": {
    "height": "calc(100% - 180px)",
    "left": "10px",
    "top": "150px",
    "width": "165px"
   },
   "toc_section_display": true,
   "toc_window_display": true
  },
  "varInspector": {
   "cols": {
    "lenName": 16,
    "lenType": 16,
    "lenVar": 40
   },
   "kernels_config": {
    "python": {
     "delete_cmd_postfix": "",
     "delete_cmd_prefix": "del ",
     "library": "var_list.py",
     "varRefreshCmd": "print(var_dic_list())"
    },
    "r": {
     "delete_cmd_postfix": ") ",
     "delete_cmd_prefix": "rm(",
     "library": "var_list.r",
     "varRefreshCmd": "cat(var_dic_list()) "
    }
   },
   "types_to_exclude": [
    "module",
    "function",
    "builtin_function_or_method",
    "instance",
    "_Feature"
   ],
   "window_display": false
  },
  "pycharm": {
   "stem_cell": {
    "cell_type": "raw",
    "source": [],
    "metadata": {
     "collapsed": false
    }
   }
  }
 },
 "nbformat": 4,
 "nbformat_minor": 2
}