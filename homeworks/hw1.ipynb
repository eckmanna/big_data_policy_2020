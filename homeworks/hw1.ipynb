{
 "cells": [
  {
   "cell_type": "markdown",
   "metadata": {},
   "source": [
    "# Homeworks - Big Data and Public Policy Class"
   ]
  },
  {
   "cell_type": "code",
   "execution_count": null,
   "outputs": [],
   "source": [
    "from IPython.display import display\n",
    "import pandas as pd\n",
    "pd.options.display.max_columns = None # Display all columns of a dataframe\n",
    "pd.options.display.max_rows = 700\n",
    "from pprint import pprint\n",
    "import re"
   ],
   "metadata": {
    "collapsed": false,
    "pycharm": {
     "name": "#%%\n"
    }
   }
  },
  {
   "cell_type": "markdown",
   "metadata": {},
   "source": [
    "The objective of the following homework is to **bring to practice the tools studied in class** by conducting step by step a first big data project. We advise that you do it in parallel with the lectures: the relation between the project steps and the lectures is indicated below. \n",
    "\n",
    "You will build several **machine learning models that will predict continuous and categorical variables based on data coming from webscraping and/or an API**. \n",
    "\n",
    "We propose that you predict the **daily stock price data of a large company** (of your choice) **based on the company's tweets**. You can chose a company from one of the [major stock indices](https://www.wikiwand.com/en/List_of_stock_market_indices). \n",
    "\n",
    "---------------------------\n",
    "After having decided the setting (your own or the company + corresponding timespan) that you will study, you should follow the following steps:\n",
    "\n",
    "**Step 1a: `X` variables** [week 2]\n",
    "- Fetch the data using the **twitter API** or any other API or website that you are interested in.\n",
    "- Beware of the rate limits and organize your program so as to overcome them if needed\n",
    "- The data should include some text, but might also have other interesting variables (retweets, favorites...)\n",
    "- Create some (non-text based) `X_num` variables that you will use for the prediction"
   ]
  },
  {
   "cell_type": "code",
   "execution_count": 3,
   "outputs": [],
   "source": [
    "#this you get when you make create an application on twitter as a dev\n",
    "consumer_key=\"7X8q1LteL1qOLRg4DSoiI0lyk\"\n",
    "consumer_secret=\"Bb08vV5XoxDEP4SGLJfkvEpuwvxEDvzVSRGTptzQCjC9XVmquP\"\n",
    "access_token=\"1230145588659998721-EQb8DoMYnorBtqAuEPMZtZcXumzuAe\"\n",
    "access_token_secret=\"mzurpOu1LWhj0NU9pctgYZ6OBzhQvyqw8hvRNpe3yI4Qc\""
   ],
   "metadata": {
    "collapsed": false,
    "pycharm": {
     "name": "#%%\n",
     "is_executing": false
    }
   }
  },
  {
   "cell_type": "markdown",
   "source": [
    "## Accessing the Twitter API using `tweepy`"
   ],
   "metadata": {
    "collapsed": false
   }
  },
  {
   "cell_type": "markdown",
   "source": [
    "We use the `tweepy` package (documentation: https://tweepy.readthedocs.io/en/latest/). Tweepy is an *An easy-to-use Python library for accessing the Twitter API.*\n",
    "\n",
    "R users can use [rtweet](https://rtweet.info/), a similar package. "
   ],
   "metadata": {
    "collapsed": false
   }
  },
  {
   "cell_type": "markdown",
   "source": [
    "Twitter requires all requests to use `OAuth` for authentication"
   ],
   "metadata": {
    "collapsed": false
   }
  },
  {
   "cell_type": "code",
   "execution_count": 4,
   "outputs": [],
   "source": [
    "import tweepy\n",
    "from tweepy import OAuthHandler"
   ],
   "metadata": {
    "collapsed": false,
    "pycharm": {
     "name": "#%%\n",
     "is_executing": false
    }
   }
  },
  {
   "cell_type": "markdown",
   "source": [
    "Authenticate to Twitter"
   ],
   "metadata": {
    "collapsed": false
   }
  },
  {
   "cell_type": "code",
   "execution_count": 5,
   "outputs": [],
   "source": [
    "auth = OAuthHandler(consumer_key, consumer_secret) #creating an OAuthHandler instance\n",
    "auth.set_access_token(access_token, access_token_secret)\n",
    "api = tweepy.API(auth, wait_on_rate_limit=True, wait_on_rate_limit_notify=True)"
   ],
   "metadata": {
    "collapsed": false,
    "pycharm": {
     "name": "#%%\n",
     "is_executing": false
    }
   }
  },
  {
   "cell_type": "markdown",
   "source": [
    "We specify `wait_on_rate_limit_notify==True` & `wait_on_rate_limit=True`. The API method will wait once you’ve reached your rate limit and prints out a message"
   ],
   "metadata": {
    "collapsed": false
   }
  },
  {
   "cell_type": "code",
   "execution_count": 6,
   "outputs": [
    {
     "name": "stdout",
     "text": [
      "Authentication OK\n"
     ],
     "output_type": "stream"
    }
   ],
   "source": [
    "# test authentication\n",
    "try:\n",
    "    api.verify_credentials()\n",
    "    print(\"Authentication OK\")\n",
    "except:\n",
    "    print(\"Error during authentication\")"
   ],
   "metadata": {
    "collapsed": false,
    "pycharm": {
     "name": "#%%\n",
     "is_executing": false
    }
   }
  },
  {
   "cell_type": "markdown",
   "source": [
    "For an extensive list of the methods available, see the [API Reference page](https://tweepy.readthedocs.io/en/latest/api.html#api-reference). There are several types of methods. The following methods enable you to access twitter content:\n",
    "- Timeline methods return a list of  `status` objects\n",
    "- Status methods return a `status` object\n",
    "- User methods return `user` object or a list of `user` objects. \n",
    "- Favorite methods: return a list of  `status` objects\n",
    "\n",
    "For some methods, you can interact with twitter:\n",
    "- Friendship Methods return a `user` object, by example:\n",
    "    - `create_friendship`: creates a new friendship with the specified user ()\n",
    "    \n",
    "Let's review some useful methods:"
   ],
   "metadata": {
    "collapsed": false
   }
  },
  {
   "cell_type": "markdown",
   "source": [
    "### Methods returning a `status` object (or a list of objects)\n",
    "#### Search method\n",
    "If you seeking Twitter data to get conversations on a particular topic. This method returns a collection of relevant Tweets matching a specified query for all public tweets."
   ],
   "metadata": {
    "collapsed": false
   }
  },
  {
   "cell_type": "code",
   "execution_count": 7,
   "outputs": [
    {
     "name": "stdout",
     "text": [
      "RT @_onurmutlu_: Computer Architecture - Lecture 21a: Multiprocessing (ETH Zürich, Fall 2019)\n",
      "https://t.co/qsjRv6eV4R via @YouTube @CSatETH…\n",
      "Andreas Krause (ETH Zuerich): &amp;quot;Safe Exploration in Reinforcement Learning&amp;quot;\n",
      "https://t.co/ZAsy9yM0vO\n",
      "#reinforcementlearning\n",
      "RT @DuaneKing: Franz Max Osswald, contact print of sound photographs in architectural models, from Osswald’s applied acoustics laboratory a…\n",
      "RT @mikarv: Official PEPP-PT severance notice from ETH Zürich, following PEPP-PT's failure to publish *any* documents or protocol, as they…\n",
      "Watch \"H.H.Dalai Lama and Matthieu Ricard. \"Fear and anxiety\". ETH Zürich 2005. By Guido Ferrari\" on YouTube https://t.co/KCgauwUm7V\n",
      "A study by ETH Zürich shows that before lockdown was put in place on 16 March, each person infected with COVID-19 w… https://t.co/mWmS2RSRqn\n",
      "@biogogy Went to a great symposium a decade ago at ETH Zürich. Called Modern Biology goes to School. Uni Bio and Bi… https://t.co/KDOF5JFaIl\n",
      "Thanks to our amazing partners for making Venture Leaders Life Science 2020 possible:\n",
      "@EPFL_en, @ETH_en,… https://t.co/64RRZzHsGY\n",
      "@6point626 @simonahac @rdenyer @JohnBarilaroMP The Swiss had a project for a small nuclear reactor at the Central i… https://t.co/NsF2hqC2UB\n",
      "RT @llasjordi: @agiraltg @BenetTatxo @gerardgomezf Prof.@FLAHAULT based at #CampusBiotech, is working on #Covid_19 Epidemic Forecasting, in…\n",
      "@agiraltg @BenetTatxo @gerardgomezf Prof.@FLAHAULT based at #CampusBiotech, is working on #Covid_19 Epidemic Foreca… https://t.co/A9W5V9rEh8\n",
      "@ezraklein @pmarca My favorite example are the two federal universities of technology in Switzerland (ETH Zürich an… https://t.co/QJWxahf9GS\n",
      "RT @llasjordi: Prof. @FLAHAULT, based at #CampusBiotech, is working on #Covid_19 Epidemic Forecasting, in collaboration with the Institute…\n",
      "@worldwidewerner @hollyborla @nakrissimo My favourite error message of the infamous MacMETH (the ETH Zürich's imple… https://t.co/b2zUGAACL8\n",
      "RT @INAR_fin: This Friday 24 April at noon, @mikarantane Mika Rantanen will defend his PhD thesis “Diagnostic Studies of Extratropical Cycl…\n"
     ],
     "output_type": "stream"
    }
   ],
   "source": [
    "# most recent tweets about ETH \n",
    "tweets = api.search(q=\"ETH Zürich\", lang=\"en\") # TODO: How is it set to recent tweets?\n",
    "for tweet in tweets:\n",
    "    print(tweet.text) # printing the first tweet"
   ],
   "metadata": {
    "collapsed": false,
    "pycharm": {
     "name": "#%%\n",
     "is_executing": false
    }
   }
  },
  {
   "cell_type": "markdown",
   "source": [
    "The `status` object:"
   ],
   "metadata": {
    "collapsed": false
   }
  },
  {
   "cell_type": "code",
   "execution_count": 8,
   "outputs": [
    {
     "name": "stdout",
     "text": [
      "Status(_api=<tweepy.api.API object at 0x0000028BED9D6448>, _json={'created_at': 'Sat Apr 25 08:25:44 +0000 2020', 'id': 1253963392542531586, 'id_str': '1253963392542531586', 'text': 'RT @_onurmutlu_: Computer Architecture - Lecture 21a: Multiprocessing (ETH Zürich, Fall 2019)\\nhttps://t.co/qsjRv6eV4R via @YouTube @CSatETH…', 'truncated': False, 'entities': {'hashtags': [], 'symbols': [], 'user_mentions': [{'screen_name': '_onurmutlu_', 'name': 'Onur Mutlu', 'id': 12309242, 'id_str': '12309242', 'indices': [3, 15]}, {'screen_name': 'YouTube', 'name': 'YouTube at 🏠', 'id': 10228272, 'id_str': '10228272', 'indices': [122, 130]}, {'screen_name': 'CSatETH', 'name': 'ETH CS Department', 'id': 2819604519, 'id_str': '2819604519', 'indices': [131, 139]}], 'urls': [{'url': 'https://t.co/qsjRv6eV4R', 'expanded_url': 'https://youtu.be/3o2WieJsAhw', 'display_url': 'youtu.be/3o2WieJsAhw', 'indices': [94, 117]}]}, 'metadata': {'iso_language_code': 'en', 'result_type': 'recent'}, 'source': '<a href=\"http://twitter.com/download/android\" rel=\"nofollow\">Twitter for Android</a>', 'in_reply_to_status_id': None, 'in_reply_to_status_id_str': None, 'in_reply_to_user_id': None, 'in_reply_to_user_id_str': None, 'in_reply_to_screen_name': None, 'user': {'id': 3364327647, 'id_str': '3364327647', 'name': 'Louis Maddox', 'screen_name': 'permutans', 'location': 'uopuo⅂', 'description': 'AI &c. 「@biochemistries」• @naiveoculus • @appendens • @2020gfx • @satcom2020 。。。', 'url': 'https://t.co/JgXRc5WRxk', 'entities': {'url': {'urls': [{'url': 'https://t.co/JgXRc5WRxk', 'expanded_url': 'http://spin.systems', 'display_url': 'spin.systems', 'indices': [0, 23]}]}, 'description': {'urls': []}}, 'protected': False, 'followers_count': 1101, 'friends_count': 3924, 'listed_count': 250, 'created_at': 'Tue Jul 07 16:13:31 +0000 2015', 'favourites_count': 33121, 'utc_offset': None, 'time_zone': None, 'geo_enabled': True, 'verified': False, 'statuses_count': 20915, 'lang': None, 'contributors_enabled': False, 'is_translator': False, 'is_translation_enabled': False, 'profile_background_color': '3F3F3F', 'profile_background_image_url': 'http://abs.twimg.com/images/themes/theme1/bg.png', 'profile_background_image_url_https': 'https://abs.twimg.com/images/themes/theme1/bg.png', 'profile_background_tile': True, 'profile_image_url': 'http://pbs.twimg.com/profile_images/1232260406690881536/nlfTn9ez_normal.jpg', 'profile_image_url_https': 'https://pbs.twimg.com/profile_images/1232260406690881536/nlfTn9ez_normal.jpg', 'profile_banner_url': 'https://pbs.twimg.com/profile_banners/3364327647/1436286337', 'profile_link_color': '2D70C7', 'profile_sidebar_border_color': '000000', 'profile_sidebar_fill_color': '000000', 'profile_text_color': '000000', 'profile_use_background_image': True, 'has_extended_profile': False, 'default_profile': False, 'default_profile_image': False, 'following': False, 'follow_request_sent': False, 'notifications': False, 'translator_type': 'none'}, 'geo': None, 'coordinates': None, 'place': None, 'contributors': None, 'retweeted_status': {'created_at': 'Thu Dec 12 01:04:46 +0000 2019', 'id': 1204930055501168640, 'id_str': '1204930055501168640', 'text': 'Computer Architecture - Lecture 21a: Multiprocessing (ETH Zürich, Fall 2019)\\nhttps://t.co/qsjRv6eV4R via @YouTube… https://t.co/dIDvOlNu20', 'truncated': True, 'entities': {'hashtags': [], 'symbols': [], 'user_mentions': [{'screen_name': 'YouTube', 'name': 'YouTube at 🏠', 'id': 10228272, 'id_str': '10228272', 'indices': [105, 113]}], 'urls': [{'url': 'https://t.co/qsjRv6eV4R', 'expanded_url': 'https://youtu.be/3o2WieJsAhw', 'display_url': 'youtu.be/3o2WieJsAhw', 'indices': [77, 100]}, {'url': 'https://t.co/dIDvOlNu20', 'expanded_url': 'https://twitter.com/i/web/status/1204930055501168640', 'display_url': 'twitter.com/i/web/status/1…', 'indices': [115, 138]}]}, 'metadata': {'iso_language_code': 'en', 'result_type': 'recent'}, 'source': '<a href=\"http://twitter.com\" rel=\"nofollow\">Twitter Web Client</a>', 'in_reply_to_status_id': None, 'in_reply_to_status_id_str': None, 'in_reply_to_user_id': None, 'in_reply_to_user_id_str': None, 'in_reply_to_screen_name': None, 'user': {'id': 12309242, 'id_str': '12309242', 'name': 'Onur Mutlu', 'screen_name': '_onurmutlu_', 'location': 'Zurich, Switzerland', 'description': 'Professor at ETH Zurich and Carnegie Mellon University; Educator, Researcher and Computer Architect @ETH_en @ETH @CarnegieMellon My group: @SAFARI_ETH_CMU', 'url': 'https://t.co/Q5SaDCCN4I', 'entities': {'url': {'urls': [{'url': 'https://t.co/Q5SaDCCN4I', 'expanded_url': 'https://people.inf.ethz.ch/omutlu/', 'display_url': 'people.inf.ethz.ch/omutlu/', 'indices': [0, 23]}]}, 'description': {'urls': []}}, 'protected': False, 'followers_count': 3487, 'friends_count': 124, 'listed_count': 38, 'created_at': 'Wed Jan 16 06:28:08 +0000 2008', 'favourites_count': 424, 'utc_offset': None, 'time_zone': None, 'geo_enabled': False, 'verified': False, 'statuses_count': 688, 'lang': None, 'contributors_enabled': False, 'is_translator': False, 'is_translation_enabled': False, 'profile_background_color': '000000', 'profile_background_image_url': 'http://abs.twimg.com/images/themes/theme1/bg.png', 'profile_background_image_url_https': 'https://abs.twimg.com/images/themes/theme1/bg.png', 'profile_background_tile': False, 'profile_image_url': 'http://pbs.twimg.com/profile_images/536329424052813825/vaBA7-tI_normal.jpeg', 'profile_image_url_https': 'https://pbs.twimg.com/profile_images/536329424052813825/vaBA7-tI_normal.jpeg', 'profile_link_color': '3B94D9', 'profile_sidebar_border_color': '000000', 'profile_sidebar_fill_color': '000000', 'profile_text_color': '000000', 'profile_use_background_image': False, 'has_extended_profile': False, 'default_profile': False, 'default_profile_image': False, 'following': False, 'follow_request_sent': False, 'notifications': False, 'translator_type': 'none'}, 'geo': None, 'coordinates': None, 'place': None, 'contributors': None, 'is_quote_status': False, 'retweet_count': 4, 'favorite_count': 20, 'favorited': False, 'retweeted': False, 'possibly_sensitive': False, 'lang': 'en'}, 'is_quote_status': False, 'retweet_count': 4, 'favorite_count': 0, 'favorited': False, 'retweeted': False, 'possibly_sensitive': False, 'lang': 'en'}, created_at=datetime.datetime(2020, 4, 25, 8, 25, 44), id=1253963392542531586, id_str='1253963392542531586', text='RT @_onurmutlu_: Computer Architecture - Lecture 21a: Multiprocessing (ETH Zürich, Fall 2019)\\nhttps://t.co/qsjRv6eV4R via @YouTube @CSatETH…', truncated=False, entities={'hashtags': [], 'symbols': [], 'user_mentions': [{'screen_name': '_onurmutlu_', 'name': 'Onur Mutlu', 'id': 12309242, 'id_str': '12309242', 'indices': [3, 15]}, {'screen_name': 'YouTube', 'name': 'YouTube at 🏠', 'id': 10228272, 'id_str': '10228272', 'indices': [122, 130]}, {'screen_name': 'CSatETH', 'name': 'ETH CS Department', 'id': 2819604519, 'id_str': '2819604519', 'indices': [131, 139]}], 'urls': [{'url': 'https://t.co/qsjRv6eV4R', 'expanded_url': 'https://youtu.be/3o2WieJsAhw', 'display_url': 'youtu.be/3o2WieJsAhw', 'indices': [94, 117]}]}, metadata={'iso_language_code': 'en', 'result_type': 'recent'}, source='Twitter for Android', source_url='http://twitter.com/download/android', in_reply_to_status_id=None, in_reply_to_status_id_str=None, in_reply_to_user_id=None, in_reply_to_user_id_str=None, in_reply_to_screen_name=None, author=User(_api=<tweepy.api.API object at 0x0000028BED9D6448>, _json={'id': 3364327647, 'id_str': '3364327647', 'name': 'Louis Maddox', 'screen_name': 'permutans', 'location': 'uopuo⅂', 'description': 'AI &c. 「@biochemistries」• @naiveoculus • @appendens • @2020gfx • @satcom2020 。。。', 'url': 'https://t.co/JgXRc5WRxk', 'entities': {'url': {'urls': [{'url': 'https://t.co/JgXRc5WRxk', 'expanded_url': 'http://spin.systems', 'display_url': 'spin.systems', 'indices': [0, 23]}]}, 'description': {'urls': []}}, 'protected': False, 'followers_count': 1101, 'friends_count': 3924, 'listed_count': 250, 'created_at': 'Tue Jul 07 16:13:31 +0000 2015', 'favourites_count': 33121, 'utc_offset': None, 'time_zone': None, 'geo_enabled': True, 'verified': False, 'statuses_count': 20915, 'lang': None, 'contributors_enabled': False, 'is_translator': False, 'is_translation_enabled': False, 'profile_background_color': '3F3F3F', 'profile_background_image_url': 'http://abs.twimg.com/images/themes/theme1/bg.png', 'profile_background_image_url_https': 'https://abs.twimg.com/images/themes/theme1/bg.png', 'profile_background_tile': True, 'profile_image_url': 'http://pbs.twimg.com/profile_images/1232260406690881536/nlfTn9ez_normal.jpg', 'profile_image_url_https': 'https://pbs.twimg.com/profile_images/1232260406690881536/nlfTn9ez_normal.jpg', 'profile_banner_url': 'https://pbs.twimg.com/profile_banners/3364327647/1436286337', 'profile_link_color': '2D70C7', 'profile_sidebar_border_color': '000000', 'profile_sidebar_fill_color': '000000', 'profile_text_color': '000000', 'profile_use_background_image': True, 'has_extended_profile': False, 'default_profile': False, 'default_profile_image': False, 'following': False, 'follow_request_sent': False, 'notifications': False, 'translator_type': 'none'}, id=3364327647, id_str='3364327647', name='Louis Maddox', screen_name='permutans', location='uopuo⅂', description='AI &c. 「@biochemistries」• @naiveoculus • @appendens • @2020gfx • @satcom2020 。。。', url='https://t.co/JgXRc5WRxk', entities={'url': {'urls': [{'url': 'https://t.co/JgXRc5WRxk', 'expanded_url': 'http://spin.systems', 'display_url': 'spin.systems', 'indices': [0, 23]}]}, 'description': {'urls': []}}, protected=False, followers_count=1101, friends_count=3924, listed_count=250, created_at=datetime.datetime(2015, 7, 7, 16, 13, 31), favourites_count=33121, utc_offset=None, time_zone=None, geo_enabled=True, verified=False, statuses_count=20915, lang=None, contributors_enabled=False, is_translator=False, is_translation_enabled=False, profile_background_color='3F3F3F', profile_background_image_url='http://abs.twimg.com/images/themes/theme1/bg.png', profile_background_image_url_https='https://abs.twimg.com/images/themes/theme1/bg.png', profile_background_tile=True, profile_image_url='http://pbs.twimg.com/profile_images/1232260406690881536/nlfTn9ez_normal.jpg', profile_image_url_https='https://pbs.twimg.com/profile_images/1232260406690881536/nlfTn9ez_normal.jpg', profile_banner_url='https://pbs.twimg.com/profile_banners/3364327647/1436286337', profile_link_color='2D70C7', profile_sidebar_border_color='000000', profile_sidebar_fill_color='000000', profile_text_color='000000', profile_use_background_image=True, has_extended_profile=False, default_profile=False, default_profile_image=False, following=False, follow_request_sent=False, notifications=False, translator_type='none'), user=User(_api=<tweepy.api.API object at 0x0000028BED9D6448>, _json={'id': 3364327647, 'id_str': '3364327647', 'name': 'Louis Maddox', 'screen_name': 'permutans', 'location': 'uopuo⅂', 'description': 'AI &c. 「@biochemistries」• @naiveoculus • @appendens • @2020gfx • @satcom2020 。。。', 'url': 'https://t.co/JgXRc5WRxk', 'entities': {'url': {'urls': [{'url': 'https://t.co/JgXRc5WRxk', 'expanded_url': 'http://spin.systems', 'display_url': 'spin.systems', 'indices': [0, 23]}]}, 'description': {'urls': []}}, 'protected': False, 'followers_count': 1101, 'friends_count': 3924, 'listed_count': 250, 'created_at': 'Tue Jul 07 16:13:31 +0000 2015', 'favourites_count': 33121, 'utc_offset': None, 'time_zone': None, 'geo_enabled': True, 'verified': False, 'statuses_count': 20915, 'lang': None, 'contributors_enabled': False, 'is_translator': False, 'is_translation_enabled': False, 'profile_background_color': '3F3F3F', 'profile_background_image_url': 'http://abs.twimg.com/images/themes/theme1/bg.png', 'profile_background_image_url_https': 'https://abs.twimg.com/images/themes/theme1/bg.png', 'profile_background_tile': True, 'profile_image_url': 'http://pbs.twimg.com/profile_images/1232260406690881536/nlfTn9ez_normal.jpg', 'profile_image_url_https': 'https://pbs.twimg.com/profile_images/1232260406690881536/nlfTn9ez_normal.jpg', 'profile_banner_url': 'https://pbs.twimg.com/profile_banners/3364327647/1436286337', 'profile_link_color': '2D70C7', 'profile_sidebar_border_color': '000000', 'profile_sidebar_fill_color': '000000', 'profile_text_color': '000000', 'profile_use_background_image': True, 'has_extended_profile': False, 'default_profile': False, 'default_profile_image': False, 'following': False, 'follow_request_sent': False, 'notifications': False, 'translator_type': 'none'}, id=3364327647, id_str='3364327647', name='Louis Maddox', screen_name='permutans', location='uopuo⅂', description='AI &c. 「@biochemistries」• @naiveoculus • @appendens • @2020gfx • @satcom2020 。。。', url='https://t.co/JgXRc5WRxk', entities={'url': {'urls': [{'url': 'https://t.co/JgXRc5WRxk', 'expanded_url': 'http://spin.systems', 'display_url': 'spin.systems', 'indices': [0, 23]}]}, 'description': {'urls': []}}, protected=False, followers_count=1101, friends_count=3924, listed_count=250, created_at=datetime.datetime(2015, 7, 7, 16, 13, 31), favourites_count=33121, utc_offset=None, time_zone=None, geo_enabled=True, verified=False, statuses_count=20915, lang=None, contributors_enabled=False, is_translator=False, is_translation_enabled=False, profile_background_color='3F3F3F', profile_background_image_url='http://abs.twimg.com/images/themes/theme1/bg.png', profile_background_image_url_https='https://abs.twimg.com/images/themes/theme1/bg.png', profile_background_tile=True, profile_image_url='http://pbs.twimg.com/profile_images/1232260406690881536/nlfTn9ez_normal.jpg', profile_image_url_https='https://pbs.twimg.com/profile_images/1232260406690881536/nlfTn9ez_normal.jpg', profile_banner_url='https://pbs.twimg.com/profile_banners/3364327647/1436286337', profile_link_color='2D70C7', profile_sidebar_border_color='000000', profile_sidebar_fill_color='000000', profile_text_color='000000', profile_use_background_image=True, has_extended_profile=False, default_profile=False, default_profile_image=False, following=False, follow_request_sent=False, notifications=False, translator_type='none'), geo=None, coordinates=None, place=None, contributors=None, retweeted_status=Status(_api=<tweepy.api.API object at 0x0000028BED9D6448>, _json={'created_at': 'Thu Dec 12 01:04:46 +0000 2019', 'id': 1204930055501168640, 'id_str': '1204930055501168640', 'text': 'Computer Architecture - Lecture 21a: Multiprocessing (ETH Zürich, Fall 2019)\\nhttps://t.co/qsjRv6eV4R via @YouTube… https://t.co/dIDvOlNu20', 'truncated': True, 'entities': {'hashtags': [], 'symbols': [], 'user_mentions': [{'screen_name': 'YouTube', 'name': 'YouTube at 🏠', 'id': 10228272, 'id_str': '10228272', 'indices': [105, 113]}], 'urls': [{'url': 'https://t.co/qsjRv6eV4R', 'expanded_url': 'https://youtu.be/3o2WieJsAhw', 'display_url': 'youtu.be/3o2WieJsAhw', 'indices': [77, 100]}, {'url': 'https://t.co/dIDvOlNu20', 'expanded_url': 'https://twitter.com/i/web/status/1204930055501168640', 'display_url': 'twitter.com/i/web/status/1…', 'indices': [115, 138]}]}, 'metadata': {'iso_language_code': 'en', 'result_type': 'recent'}, 'source': '<a href=\"http://twitter.com\" rel=\"nofollow\">Twitter Web Client</a>', 'in_reply_to_status_id': None, 'in_reply_to_status_id_str': None, 'in_reply_to_user_id': None, 'in_reply_to_user_id_str': None, 'in_reply_to_screen_name': None, 'user': {'id': 12309242, 'id_str': '12309242', 'name': 'Onur Mutlu', 'screen_name': '_onurmutlu_', 'location': 'Zurich, Switzerland', 'description': 'Professor at ETH Zurich and Carnegie Mellon University; Educator, Researcher and Computer Architect @ETH_en @ETH @CarnegieMellon My group: @SAFARI_ETH_CMU', 'url': 'https://t.co/Q5SaDCCN4I', 'entities': {'url': {'urls': [{'url': 'https://t.co/Q5SaDCCN4I', 'expanded_url': 'https://people.inf.ethz.ch/omutlu/', 'display_url': 'people.inf.ethz.ch/omutlu/', 'indices': [0, 23]}]}, 'description': {'urls': []}}, 'protected': False, 'followers_count': 3487, 'friends_count': 124, 'listed_count': 38, 'created_at': 'Wed Jan 16 06:28:08 +0000 2008', 'favourites_count': 424, 'utc_offset': None, 'time_zone': None, 'geo_enabled': False, 'verified': False, 'statuses_count': 688, 'lang': None, 'contributors_enabled': False, 'is_translator': False, 'is_translation_enabled': False, 'profile_background_color': '000000', 'profile_background_image_url': 'http://abs.twimg.com/images/themes/theme1/bg.png', 'profile_background_image_url_https': 'https://abs.twimg.com/images/themes/theme1/bg.png', 'profile_background_tile': False, 'profile_image_url': 'http://pbs.twimg.com/profile_images/536329424052813825/vaBA7-tI_normal.jpeg', 'profile_image_url_https': 'https://pbs.twimg.com/profile_images/536329424052813825/vaBA7-tI_normal.jpeg', 'profile_link_color': '3B94D9', 'profile_sidebar_border_color': '000000', 'profile_sidebar_fill_color': '000000', 'profile_text_color': '000000', 'profile_use_background_image': False, 'has_extended_profile': False, 'default_profile': False, 'default_profile_image': False, 'following': False, 'follow_request_sent': False, 'notifications': False, 'translator_type': 'none'}, 'geo': None, 'coordinates': None, 'place': None, 'contributors': None, 'is_quote_status': False, 'retweet_count': 4, 'favorite_count': 20, 'favorited': False, 'retweeted': False, 'possibly_sensitive': False, 'lang': 'en'}, created_at=datetime.datetime(2019, 12, 12, 1, 4, 46), id=1204930055501168640, id_str='1204930055501168640', text='Computer Architecture - Lecture 21a: Multiprocessing (ETH Zürich, Fall 2019)\\nhttps://t.co/qsjRv6eV4R via @YouTube… https://t.co/dIDvOlNu20', truncated=True, entities={'hashtags': [], 'symbols': [], 'user_mentions': [{'screen_name': 'YouTube', 'name': 'YouTube at 🏠', 'id': 10228272, 'id_str': '10228272', 'indices': [105, 113]}], 'urls': [{'url': 'https://t.co/qsjRv6eV4R', 'expanded_url': 'https://youtu.be/3o2WieJsAhw', 'display_url': 'youtu.be/3o2WieJsAhw', 'indices': [77, 100]}, {'url': 'https://t.co/dIDvOlNu20', 'expanded_url': 'https://twitter.com/i/web/status/1204930055501168640', 'display_url': 'twitter.com/i/web/status/1…', 'indices': [115, 138]}]}, metadata={'iso_language_code': 'en', 'result_type': 'recent'}, source='Twitter Web Client', source_url='http://twitter.com', in_reply_to_status_id=None, in_reply_to_status_id_str=None, in_reply_to_user_id=None, in_reply_to_user_id_str=None, in_reply_to_screen_name=None, author=User(_api=<tweepy.api.API object at 0x0000028BED9D6448>, _json={'id': 12309242, 'id_str': '12309242', 'name': 'Onur Mutlu', 'screen_name': '_onurmutlu_', 'location': 'Zurich, Switzerland', 'description': 'Professor at ETH Zurich and Carnegie Mellon University; Educator, Researcher and Computer Architect @ETH_en @ETH @CarnegieMellon My group: @SAFARI_ETH_CMU', 'url': 'https://t.co/Q5SaDCCN4I', 'entities': {'url': {'urls': [{'url': 'https://t.co/Q5SaDCCN4I', 'expanded_url': 'https://people.inf.ethz.ch/omutlu/', 'display_url': 'people.inf.ethz.ch/omutlu/', 'indices': [0, 23]}]}, 'description': {'urls': []}}, 'protected': False, 'followers_count': 3487, 'friends_count': 124, 'listed_count': 38, 'created_at': 'Wed Jan 16 06:28:08 +0000 2008', 'favourites_count': 424, 'utc_offset': None, 'time_zone': None, 'geo_enabled': False, 'verified': False, 'statuses_count': 688, 'lang': None, 'contributors_enabled': False, 'is_translator': False, 'is_translation_enabled': False, 'profile_background_color': '000000', 'profile_background_image_url': 'http://abs.twimg.com/images/themes/theme1/bg.png', 'profile_background_image_url_https': 'https://abs.twimg.com/images/themes/theme1/bg.png', 'profile_background_tile': False, 'profile_image_url': 'http://pbs.twimg.com/profile_images/536329424052813825/vaBA7-tI_normal.jpeg', 'profile_image_url_https': 'https://pbs.twimg.com/profile_images/536329424052813825/vaBA7-tI_normal.jpeg', 'profile_link_color': '3B94D9', 'profile_sidebar_border_color': '000000', 'profile_sidebar_fill_color': '000000', 'profile_text_color': '000000', 'profile_use_background_image': False, 'has_extended_profile': False, 'default_profile': False, 'default_profile_image': False, 'following': False, 'follow_request_sent': False, 'notifications': False, 'translator_type': 'none'}, id=12309242, id_str='12309242', name='Onur Mutlu', screen_name='_onurmutlu_', location='Zurich, Switzerland', description='Professor at ETH Zurich and Carnegie Mellon University; Educator, Researcher and Computer Architect @ETH_en @ETH @CarnegieMellon My group: @SAFARI_ETH_CMU', url='https://t.co/Q5SaDCCN4I', entities={'url': {'urls': [{'url': 'https://t.co/Q5SaDCCN4I', 'expanded_url': 'https://people.inf.ethz.ch/omutlu/', 'display_url': 'people.inf.ethz.ch/omutlu/', 'indices': [0, 23]}]}, 'description': {'urls': []}}, protected=False, followers_count=3487, friends_count=124, listed_count=38, created_at=datetime.datetime(2008, 1, 16, 6, 28, 8), favourites_count=424, utc_offset=None, time_zone=None, geo_enabled=False, verified=False, statuses_count=688, lang=None, contributors_enabled=False, is_translator=False, is_translation_enabled=False, profile_background_color='000000', profile_background_image_url='http://abs.twimg.com/images/themes/theme1/bg.png', profile_background_image_url_https='https://abs.twimg.com/images/themes/theme1/bg.png', profile_background_tile=False, profile_image_url='http://pbs.twimg.com/profile_images/536329424052813825/vaBA7-tI_normal.jpeg', profile_image_url_https='https://pbs.twimg.com/profile_images/536329424052813825/vaBA7-tI_normal.jpeg', profile_link_color='3B94D9', profile_sidebar_border_color='000000', profile_sidebar_fill_color='000000', profile_text_color='000000', profile_use_background_image=False, has_extended_profile=False, default_profile=False, default_profile_image=False, following=False, follow_request_sent=False, notifications=False, translator_type='none'), user=User(_api=<tweepy.api.API object at 0x0000028BED9D6448>, _json={'id': 12309242, 'id_str': '12309242', 'name': 'Onur Mutlu', 'screen_name': '_onurmutlu_', 'location': 'Zurich, Switzerland', 'description': 'Professor at ETH Zurich and Carnegie Mellon University; Educator, Researcher and Computer Architect @ETH_en @ETH @CarnegieMellon My group: @SAFARI_ETH_CMU', 'url': 'https://t.co/Q5SaDCCN4I', 'entities': {'url': {'urls': [{'url': 'https://t.co/Q5SaDCCN4I', 'expanded_url': 'https://people.inf.ethz.ch/omutlu/', 'display_url': 'people.inf.ethz.ch/omutlu/', 'indices': [0, 23]}]}, 'description': {'urls': []}}, 'protected': False, 'followers_count': 3487, 'friends_count': 124, 'listed_count': 38, 'created_at': 'Wed Jan 16 06:28:08 +0000 2008', 'favourites_count': 424, 'utc_offset': None, 'time_zone': None, 'geo_enabled': False, 'verified': False, 'statuses_count': 688, 'lang': None, 'contributors_enabled': False, 'is_translator': False, 'is_translation_enabled': False, 'profile_background_color': '000000', 'profile_background_image_url': 'http://abs.twimg.com/images/themes/theme1/bg.png', 'profile_background_image_url_https': 'https://abs.twimg.com/images/themes/theme1/bg.png', 'profile_background_tile': False, 'profile_image_url': 'http://pbs.twimg.com/profile_images/536329424052813825/vaBA7-tI_normal.jpeg', 'profile_image_url_https': 'https://pbs.twimg.com/profile_images/536329424052813825/vaBA7-tI_normal.jpeg', 'profile_link_color': '3B94D9', 'profile_sidebar_border_color': '000000', 'profile_sidebar_fill_color': '000000', 'profile_text_color': '000000', 'profile_use_background_image': False, 'has_extended_profile': False, 'default_profile': False, 'default_profile_image': False, 'following': False, 'follow_request_sent': False, 'notifications': False, 'translator_type': 'none'}, id=12309242, id_str='12309242', name='Onur Mutlu', screen_name='_onurmutlu_', location='Zurich, Switzerland', description='Professor at ETH Zurich and Carnegie Mellon University; Educator, Researcher and Computer Architect @ETH_en @ETH @CarnegieMellon My group: @SAFARI_ETH_CMU', url='https://t.co/Q5SaDCCN4I', entities={'url': {'urls': [{'url': 'https://t.co/Q5SaDCCN4I', 'expanded_url': 'https://people.inf.ethz.ch/omutlu/', 'display_url': 'people.inf.ethz.ch/omutlu/', 'indices': [0, 23]}]}, 'description': {'urls': []}}, protected=False, followers_count=3487, friends_count=124, listed_count=38, created_at=datetime.datetime(2008, 1, 16, 6, 28, 8), favourites_count=424, utc_offset=None, time_zone=None, geo_enabled=False, verified=False, statuses_count=688, lang=None, contributors_enabled=False, is_translator=False, is_translation_enabled=False, profile_background_color='000000', profile_background_image_url='http://abs.twimg.com/images/themes/theme1/bg.png', profile_background_image_url_https='https://abs.twimg.com/images/themes/theme1/bg.png', profile_background_tile=False, profile_image_url='http://pbs.twimg.com/profile_images/536329424052813825/vaBA7-tI_normal.jpeg', profile_image_url_https='https://pbs.twimg.com/profile_images/536329424052813825/vaBA7-tI_normal.jpeg', profile_link_color='3B94D9', profile_sidebar_border_color='000000', profile_sidebar_fill_color='000000', profile_text_color='000000', profile_use_background_image=False, has_extended_profile=False, default_profile=False, default_profile_image=False, following=False, follow_request_sent=False, notifications=False, translator_type='none'), geo=None, coordinates=None, place=None, contributors=None, is_quote_status=False, retweet_count=4, favorite_count=20, favorited=False, retweeted=False, possibly_sensitive=False, lang='en'), is_quote_status=False, retweet_count=4, favorite_count=0, favorited=False, retweeted=False, possibly_sensitive=False, lang='en')\n"
     ],
     "output_type": "stream"
    }
   ],
   "source": [
    "#todo: check to do list not working\n",
    "# todo: add this\n",
    "pprint(tweets[0]) # for the first tweet"
   ],
   "metadata": {
    "collapsed": false,
    "pycharm": {
     "name": "#%%\n",
     "is_executing": false
    }
   }
  },
  {
   "cell_type": "code",
   "execution_count": 9,
   "outputs": [
    {
     "name": "stdout",
     "text": [
      "<tweepy.api.API object at 0x0000028BED9D6448>\n"
     ],
     "output_type": "stream"
    }
   ],
   "source": [
    "pprint(tweets[0]._api) # for the first tweet"
   ],
   "metadata": {
    "collapsed": false,
    "pycharm": {
     "name": "#%%\n",
     "is_executing": false
    }
   }
  },
  {
   "cell_type": "code",
   "execution_count": 10,
   "outputs": [
    {
     "name": "stdout",
     "text": [
      "{'contributors': None,\n",
      " 'coordinates': None,\n",
      " 'created_at': 'Sat Apr 25 08:25:44 +0000 2020',\n",
      " 'entities': {'hashtags': [],\n",
      "              'symbols': [],\n",
      "              'urls': [{'display_url': 'youtu.be/3o2WieJsAhw',\n",
      "                        'expanded_url': 'https://youtu.be/3o2WieJsAhw',\n",
      "                        'indices': [94, 117],\n",
      "                        'url': 'https://t.co/qsjRv6eV4R'}],\n",
      "              'user_mentions': [{'id': 12309242,\n",
      "                                 'id_str': '12309242',\n",
      "                                 'indices': [3, 15],\n",
      "                                 'name': 'Onur Mutlu',\n",
      "                                 'screen_name': '_onurmutlu_'},\n",
      "                                {'id': 10228272,\n",
      "                                 'id_str': '10228272',\n",
      "                                 'indices': [122, 130],\n",
      "                                 'name': 'YouTube at 🏠',\n",
      "                                 'screen_name': 'YouTube'},\n",
      "                                {'id': 2819604519,\n",
      "                                 'id_str': '2819604519',\n",
      "                                 'indices': [131, 139],\n",
      "                                 'name': 'ETH CS Department',\n",
      "                                 'screen_name': 'CSatETH'}]},\n",
      " 'favorite_count': 0,\n",
      " 'favorited': False,\n",
      " 'geo': None,\n",
      " 'id': 1253963392542531586,\n",
      " 'id_str': '1253963392542531586',\n",
      " 'in_reply_to_screen_name': None,\n",
      " 'in_reply_to_status_id': None,\n",
      " 'in_reply_to_status_id_str': None,\n",
      " 'in_reply_to_user_id': None,\n",
      " 'in_reply_to_user_id_str': None,\n",
      " 'is_quote_status': False,\n",
      " 'lang': 'en',\n",
      " 'metadata': {'iso_language_code': 'en', 'result_type': 'recent'},\n",
      " 'place': None,\n",
      " 'possibly_sensitive': False,\n",
      " 'retweet_count': 4,\n",
      " 'retweeted': False,\n",
      " 'retweeted_status': {'contributors': None,\n",
      "                      'coordinates': None,\n",
      "                      'created_at': 'Thu Dec 12 01:04:46 +0000 2019',\n",
      "                      'entities': {'hashtags': [],\n",
      "                                   'symbols': [],\n",
      "                                   'urls': [{'display_url': 'youtu.be/3o2WieJsAhw',\n",
      "                                             'expanded_url': 'https://youtu.be/3o2WieJsAhw',\n",
      "                                             'indices': [77, 100],\n",
      "                                             'url': 'https://t.co/qsjRv6eV4R'},\n",
      "                                            {'display_url': 'twitter.com/i/web/status/1…',\n",
      "                                             'expanded_url': 'https://twitter.com/i/web/status/1204930055501168640',\n",
      "                                             'indices': [115, 138],\n",
      "                                             'url': 'https://t.co/dIDvOlNu20'}],\n",
      "                                   'user_mentions': [{'id': 10228272,\n",
      "                                                      'id_str': '10228272',\n",
      "                                                      'indices': [105, 113],\n",
      "                                                      'name': 'YouTube at 🏠',\n",
      "                                                      'screen_name': 'YouTube'}]},\n",
      "                      'favorite_count': 20,\n",
      "                      'favorited': False,\n",
      "                      'geo': None,\n",
      "                      'id': 1204930055501168640,\n",
      "                      'id_str': '1204930055501168640',\n",
      "                      'in_reply_to_screen_name': None,\n",
      "                      'in_reply_to_status_id': None,\n",
      "                      'in_reply_to_status_id_str': None,\n",
      "                      'in_reply_to_user_id': None,\n",
      "                      'in_reply_to_user_id_str': None,\n",
      "                      'is_quote_status': False,\n",
      "                      'lang': 'en',\n",
      "                      'metadata': {'iso_language_code': 'en',\n",
      "                                   'result_type': 'recent'},\n",
      "                      'place': None,\n",
      "                      'possibly_sensitive': False,\n",
      "                      'retweet_count': 4,\n",
      "                      'retweeted': False,\n",
      "                      'source': '<a href=\"http://twitter.com\" '\n",
      "                                'rel=\"nofollow\">Twitter Web Client</a>',\n",
      "                      'text': 'Computer Architecture - Lecture 21a: '\n",
      "                              'Multiprocessing (ETH Zürich, Fall 2019)\\n'\n",
      "                              'https://t.co/qsjRv6eV4R via @YouTube… '\n",
      "                              'https://t.co/dIDvOlNu20',\n",
      "                      'truncated': True,\n",
      "                      'user': {'contributors_enabled': False,\n",
      "                               'created_at': 'Wed Jan 16 06:28:08 +0000 2008',\n",
      "                               'default_profile': False,\n",
      "                               'default_profile_image': False,\n",
      "                               'description': 'Professor at ETH Zurich and '\n",
      "                                              'Carnegie Mellon University; '\n",
      "                                              'Educator, Researcher and '\n",
      "                                              'Computer Architect @ETH_en @ETH '\n",
      "                                              '@CarnegieMellon My group: '\n",
      "                                              '@SAFARI_ETH_CMU',\n",
      "                               'entities': {'description': {'urls': []},\n",
      "                                            'url': {'urls': [{'display_url': 'people.inf.ethz.ch/omutlu/',\n",
      "                                                              'expanded_url': 'https://people.inf.ethz.ch/omutlu/',\n",
      "                                                              'indices': [0,\n",
      "                                                                          23],\n",
      "                                                              'url': 'https://t.co/Q5SaDCCN4I'}]}},\n",
      "                               'favourites_count': 424,\n",
      "                               'follow_request_sent': False,\n",
      "                               'followers_count': 3487,\n",
      "                               'following': False,\n",
      "                               'friends_count': 124,\n",
      "                               'geo_enabled': False,\n",
      "                               'has_extended_profile': False,\n",
      "                               'id': 12309242,\n",
      "                               'id_str': '12309242',\n",
      "                               'is_translation_enabled': False,\n",
      "                               'is_translator': False,\n",
      "                               'lang': None,\n",
      "                               'listed_count': 38,\n",
      "                               'location': 'Zurich, Switzerland',\n",
      "                               'name': 'Onur Mutlu',\n",
      "                               'notifications': False,\n",
      "                               'profile_background_color': '000000',\n",
      "                               'profile_background_image_url': 'http://abs.twimg.com/images/themes/theme1/bg.png',\n",
      "                               'profile_background_image_url_https': 'https://abs.twimg.com/images/themes/theme1/bg.png',\n",
      "                               'profile_background_tile': False,\n",
      "                               'profile_image_url': 'http://pbs.twimg.com/profile_images/536329424052813825/vaBA7-tI_normal.jpeg',\n",
      "                               'profile_image_url_https': 'https://pbs.twimg.com/profile_images/536329424052813825/vaBA7-tI_normal.jpeg',\n",
      "                               'profile_link_color': '3B94D9',\n",
      "                               'profile_sidebar_border_color': '000000',\n",
      "                               'profile_sidebar_fill_color': '000000',\n",
      "                               'profile_text_color': '000000',\n",
      "                               'profile_use_background_image': False,\n",
      "                               'protected': False,\n",
      "                               'screen_name': '_onurmutlu_',\n",
      "                               'statuses_count': 688,\n",
      "                               'time_zone': None,\n",
      "                               'translator_type': 'none',\n",
      "                               'url': 'https://t.co/Q5SaDCCN4I',\n",
      "                               'utc_offset': None,\n",
      "                               'verified': False}},\n",
      " 'source': '<a href=\"http://twitter.com/download/android\" '\n",
      "           'rel=\"nofollow\">Twitter for Android</a>',\n",
      " 'text': 'RT @_onurmutlu_: Computer Architecture - Lecture 21a: '\n",
      "         'Multiprocessing (ETH Zürich, Fall 2019)\\n'\n",
      "         'https://t.co/qsjRv6eV4R via @YouTube @CSatETH…',\n",
      " 'truncated': False,\n",
      " 'user': {'contributors_enabled': False,\n",
      "          'created_at': 'Tue Jul 07 16:13:31 +0000 2015',\n",
      "          'default_profile': False,\n",
      "          'default_profile_image': False,\n",
      "          'description': 'AI &c. 「@biochemistries」• @naiveoculus • @appendens '\n",
      "                         '• @2020gfx • @satcom2020 。。。',\n",
      "          'entities': {'description': {'urls': []},\n",
      "                       'url': {'urls': [{'display_url': 'spin.systems',\n",
      "                                         'expanded_url': 'http://spin.systems',\n",
      "                                         'indices': [0, 23],\n",
      "                                         'url': 'https://t.co/JgXRc5WRxk'}]}},\n",
      "          'favourites_count': 33121,\n",
      "          'follow_request_sent': False,\n",
      "          'followers_count': 1101,\n",
      "          'following': False,\n",
      "          'friends_count': 3924,\n",
      "          'geo_enabled': True,\n",
      "          'has_extended_profile': False,\n",
      "          'id': 3364327647,\n",
      "          'id_str': '3364327647',\n",
      "          'is_translation_enabled': False,\n",
      "          'is_translator': False,\n",
      "          'lang': None,\n",
      "          'listed_count': 250,\n",
      "          'location': 'uopuo⅂',\n",
      "          'name': 'Louis Maddox',\n",
      "          'notifications': False,\n",
      "          'profile_background_color': '3F3F3F',\n",
      "          'profile_background_image_url': 'http://abs.twimg.com/images/themes/theme1/bg.png',\n",
      "          'profile_background_image_url_https': 'https://abs.twimg.com/images/themes/theme1/bg.png',\n",
      "          'profile_background_tile': True,\n",
      "          'profile_banner_url': 'https://pbs.twimg.com/profile_banners/3364327647/1436286337',\n",
      "          'profile_image_url': 'http://pbs.twimg.com/profile_images/1232260406690881536/nlfTn9ez_normal.jpg',\n",
      "          'profile_image_url_https': 'https://pbs.twimg.com/profile_images/1232260406690881536/nlfTn9ez_normal.jpg',\n",
      "          'profile_link_color': '2D70C7',\n",
      "          'profile_sidebar_border_color': '000000',\n",
      "          'profile_sidebar_fill_color': '000000',\n",
      "          'profile_text_color': '000000',\n",
      "          'profile_use_background_image': True,\n",
      "          'protected': False,\n",
      "          'screen_name': 'permutans',\n",
      "          'statuses_count': 20915,\n",
      "          'time_zone': None,\n",
      "          'translator_type': 'none',\n",
      "          'url': 'https://t.co/JgXRc5WRxk',\n",
      "          'utc_offset': None,\n",
      "          'verified': False}}\n"
     ],
     "output_type": "stream"
    }
   ],
   "source": [
    "pprint(tweets[0]._json) # for the first tweet"
   ],
   "metadata": {
    "collapsed": false,
    "pycharm": {
     "name": "#%%\n",
     "is_executing": false
    }
   }
  },
  {
   "cell_type": "markdown",
   "source": [
    "**Step 1b: continuous `y` variables** [week 2]\n",
    "- Fetching the data: \n",
    "    - if you work on the suggested idea, you can easily access daily stock prices using the [`yfinance` package](https://pypi.org/project/yfinance/)  (see below)\n",
    "    - otherwise, you can find some interesting data listed in the syllabus\n",
    "\n",
    "**Step 1c: merge `X_num` and `y`** [week 2]\n",
    "- Beware of the temporality: in the case of the proposed study on stock market prices, you will have to deal with the fact that the X is at the tweet level while `y` is daily. \n",
    "\n",
    "***Milestone 1 - March 24th*** *You can submit the previous steps as a first notebook.*\n",
    "\n",
    "**Sample split.** Do the standard 80% / 20% training/test split using all days in the data. In addition, do a separate temporal split where the training set is the first 80% of days in the time series.\n",
    "\n",
    "**For all machine learning models**, report performance measure in test and train samples.\n",
    "\n",
    "**Step 2a: estimate different regression models using `X_num` and `y`** [week 3]\n",
    "\n",
    "***Milestone 2 - March 31th***  *You can submit the previous steps as a second notebook.*\n",
    "\n",
    "**Step 3: text analysis** [week 4]\n",
    "- Featurize tweets (or another text dataset related to your subject): transform the text into a standard document-level dataset `X_doc`\n",
    "\n",
    "**Step 2b: estimate different regression models using `X_doc` and `y`** [week 3]\n",
    "\n",
    "**Step 4: estimate a classification models** [week 5]\n",
    "- propose a categorical variable `y_calc` that you can compute from the continuous one (`y`) (e.g. positive or negative growthin stock prices). For the `X` dimension, you can use `X_doc` or `X_num` or both. \n",
    "- you can use any other categorical variable that you find relevant \n",
    "\n",
    "***Milestone 3 - April 21th***  *You can submit the previous steps as a third notebook.*\n",
    "\n",
    "**Step 6: Dimension reduction** [week 6]\n",
    "- Use one of the dimension reductions methods to dimension-reduce the features\n",
    "    - PCA or topic model (LDA or STM) or k-means clustering on the featurized text `X_doc`\n",
    "- Run another classifier\n",
    "\n",
    "**Step bonus: Econometric identification** [week 8]\n",
    "- Find an exogenous shock affecting this firm (but not all the firms) and a control group of firms not affected\n",
    "    - example: a natural disaster/shock to the exchange rate/change in ownership... affects the functionning of this firm but not the other firms of the stock market index.  \n",
    "- scale up the previous data collection to the firms in the control group\n",
    "- use one of the technique studied in class to causaly identify the impact of the exogenous shock on the stock market of the affected firm\n",
    "\n",
    "***Milestone 4 - May 17th*** *You can submit the previous steps as a last notebook.*\n",
    "\n",
    "---------------------------\n",
    "**Requirement for completion grade**: \n",
    "- the homework should be done in **groups of 1 or 2 persons** \n",
    "- the homework will have to be submitted as a (Python or R) **notebooks**\n",
    "- you can give them back at the indicated **milestone** or on May 17th (no homework will be accepted after May 17th)\n",
    "- the notebooks should contain at least **three graphs** (overall)\n",
    "- each notebook should run from the beginning to then end, but:\n",
    "    - beware of paths to folders that are on your computer but not on mine\n",
    "    - if you have such a path, you can: \n",
    "        - have the data downloaded in the notebook directly\n",
    "        - import your data in a github (or any other online storage) folder that the notebook can access  \n",
    "    - indicate if the notebook takes more than 30 minutes to run\n",
    "- do not write us emails regarding the homework, ask your questions on the **forum**, it will benefit everyone for sure! \n",
    "\n",
    "---------------------------\n",
    "\n",
    "**Alternative homework**\n",
    "\n",
    "If you prefer, we propose for two persons at most to translate all python notebooks of the class into R. This work would count as your homework for the class. Contact us in advance if you want to do this."
   ],
   "metadata": {
    "collapsed": false,
    "pycharm": {
     "name": "#%% md\n"
    }
   }
  },
  {
   "cell_type": "code",
   "execution_count": 10,
   "outputs": [],
   "source": [],
   "metadata": {
    "collapsed": false,
    "pycharm": {
     "name": "#%%\n",
     "is_executing": false
    }
   }
  },
  {
   "cell_type": "code",
   "execution_count": 11,
   "metadata": {
    "pycharm": {
     "is_executing": false
    }
   },
   "outputs": [
    {
     "traceback": [
      "\u001b[1;31m---------------------------------------------------------------------------\u001b[0m",
      "\u001b[1;31mModuleNotFoundError\u001b[0m                       Traceback (most recent call last)",
      "\u001b[1;32m<ipython-input-11-79d002523757>\u001b[0m in \u001b[0;36m<module>\u001b[1;34m\u001b[0m\n\u001b[0;32m      1\u001b[0m \u001b[1;31m# Import the yfinance.\u001b[0m\u001b[1;33m\u001b[0m\u001b[1;33m\u001b[0m\u001b[1;33m\u001b[0m\u001b[0m\n\u001b[0;32m      2\u001b[0m \u001b[1;31m# If you get module not found error the run !pip install yfinance from your Jupyter notebook\u001b[0m\u001b[1;33m\u001b[0m\u001b[1;33m\u001b[0m\u001b[1;33m\u001b[0m\u001b[0m\n\u001b[1;32m----> 3\u001b[1;33m \u001b[1;32mimport\u001b[0m \u001b[0myfinance\u001b[0m \u001b[1;32mas\u001b[0m \u001b[0myf\u001b[0m\u001b[1;33m\u001b[0m\u001b[1;33m\u001b[0m\u001b[0m\n\u001b[0m",
      "\u001b[1;31mModuleNotFoundError\u001b[0m: No module named 'yfinance'"
     ],
     "ename": "ModuleNotFoundError",
     "evalue": "No module named 'yfinance'",
     "output_type": "error"
    }
   ],
   "source": [
    "# Import the yfinance. \n",
    "# If you get module not found error the run !pip install yfinance from your Jupyter notebook\n",
    "import yfinance as yf"
   ]
  }
 ],
 "metadata": {
  "kernelspec": {
   "display_name": "Python 3",
   "language": "python",
   "name": "python3"
  },
  "language_info": {
   "codemirror_mode": {
    "name": "ipython",
    "version": 3
   },
   "file_extension": ".py",
   "mimetype": "text/x-python",
   "name": "python",
   "nbconvert_exporter": "python",
   "pygments_lexer": "ipython3",
   "version": "3.6.9"
  },
  "toc": {
   "base_numbering": 1,
   "nav_menu": {},
   "number_sections": true,
   "sideBar": true,
   "skip_h1_title": false,
   "title_cell": "Table of Contents",
   "title_sidebar": "Contents",
   "toc_cell": false,
   "toc_position": {
    "height": "calc(100% - 180px)",
    "left": "10px",
    "top": "150px",
    "width": "165px"
   },
   "toc_section_display": true,
   "toc_window_display": true
  },
  "varInspector": {
   "cols": {
    "lenName": 16,
    "lenType": 16,
    "lenVar": 40
   },
   "kernels_config": {
    "python": {
     "delete_cmd_postfix": "",
     "delete_cmd_prefix": "del ",
     "library": "var_list.py",
     "varRefreshCmd": "print(var_dic_list())"
    },
    "r": {
     "delete_cmd_postfix": ") ",
     "delete_cmd_prefix": "rm(",
     "library": "var_list.r",
     "varRefreshCmd": "cat(var_dic_list()) "
    }
   },
   "types_to_exclude": [
    "module",
    "function",
    "builtin_function_or_method",
    "instance",
    "_Feature"
   ],
   "window_display": false
  },
  "pycharm": {
   "stem_cell": {
    "cell_type": "raw",
    "source": [],
    "metadata": {
     "collapsed": false
    }
   }
  }
 },
 "nbformat": 4,
 "nbformat_minor": 2
}