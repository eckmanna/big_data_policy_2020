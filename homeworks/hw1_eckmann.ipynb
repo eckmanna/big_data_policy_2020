{
 "cells": [
  {
   "cell_type": "markdown",
   "metadata": {},
   "source": [
    "# Homeworks - Big Data and Public Policy Class"
   ]
  },
  {
   "cell_type": "code",
   "execution_count": 14,
   "metadata": {
    "pycharm": {
     "is_executing": false,
     "name": "#%%\n"
    }
   },
   "outputs": [],
   "source": [
    "from IPython.display import display\n",
    "import pandas as pd\n",
    "pd.options.display.max_columns = None # Display all columns of a dataframe\n",
    "pd.options.display.max_rows = 700\n",
    "from pprint import pprint\n",
    "import re"
   ]
  },
  {
   "cell_type": "markdown",
   "metadata": {},
   "source": [
    "The objective of the following homework is to **bring to practice the tools studied in class** by conducting step by step a first big data project. We advise that you do it in parallel with the lectures: the relation between the project steps and the lectures is indicated below. \n",
    "\n",
    "You will build several **machine learning models that will predict continuous and categorical variables based on data coming from webscraping and/or an API**. \n",
    "\n",
    "We propose that you predict the **daily stock price data of a large company** (of your choice) **based on the company's tweets**. You can chose a company from one of the [major stock indices](https://www.wikiwand.com/en/List_of_stock_market_indices). \n",
    "\n",
    "---------------------------\n",
    "After having decided the setting (your own or the company + corresponding timespan) that you will study, you should follow the following steps:\n",
    "\n",
    "**Step 1a: `X` variables** [week 2]\n",
    "- Fetch the data using the **twitter API** or any other API or website that you are interested in.\n",
    "- Beware of the rate limits and organize your program so as to overcome them if needed\n",
    "- The data should include some text, but might also have other interesting variables (retweets, favorites...)\n",
    "- Create some (non-text based) `X_num` variables that you will use for the prediction"
   ]
  },
  {
   "cell_type": "code",
   "execution_count": 15,
   "metadata": {
    "pycharm": {
     "is_executing": false,
     "name": "#%%\n"
    }
   },
   "outputs": [],
   "source": [
    "#this you get when you make create an application on twitter as a dev\n",
    "consumer_key=\"7X8q1LteL1qOLRg4DSoiI0lyk\"\n",
    "consumer_secret=\"Bb08vV5XoxDEP4SGLJfkvEpuwvxEDvzVSRGTptzQCjC9XVmquP\"\n",
    "access_token=\"1230145588659998721-EQb8DoMYnorBtqAuEPMZtZcXumzuAe\"\n",
    "access_token_secret=\"mzurpOu1LWhj0NU9pctgYZ6OBzhQvyqw8hvRNpe3yI4Qc\""
   ]
  },
  {
   "cell_type": "markdown",
   "metadata": {},
   "source": [
    "## Accessing the Twitter API using `tweepy`"
   ]
  },
  {
   "cell_type": "markdown",
   "metadata": {},
   "source": [
    "We use the `tweepy` package (documentation: https://tweepy.readthedocs.io/en/latest/). Tweepy is an *An easy-to-use Python library for accessing the Twitter API.*\n",
    "\n",
    "R users can use [rtweet](https://rtweet.info/), a similar package. "
   ]
  },
  {
   "cell_type": "markdown",
   "metadata": {},
   "source": [
    "Twitter requires all requests to use `OAuth` for authentication"
   ]
  },
  {
   "cell_type": "code",
   "execution_count": 16,
   "metadata": {
    "pycharm": {
     "is_executing": false,
     "name": "#%%\n"
    }
   },
   "outputs": [],
   "source": [
    "import tweepy\n",
    "from tweepy import OAuthHandler"
   ]
  },
  {
   "cell_type": "markdown",
   "metadata": {},
   "source": [
    "Authenticate to Twitter"
   ]
  },
  {
   "cell_type": "code",
   "execution_count": 17,
   "metadata": {
    "pycharm": {
     "is_executing": false,
     "name": "#%%\n"
    }
   },
   "outputs": [],
   "source": [
    "auth = OAuthHandler(consumer_key, consumer_secret) #creating an OAuthHandler instance\n",
    "auth.set_access_token(access_token, access_token_secret)\n",
    "api = tweepy.API(auth, wait_on_rate_limit=True, wait_on_rate_limit_notify=True)"
   ]
  },
  {
   "cell_type": "markdown",
   "metadata": {},
   "source": [
    "We specify `wait_on_rate_limit_notify==True` & `wait_on_rate_limit=True`. The API method will wait once you’ve reached your rate limit and prints out a message"
   ]
  },
  {
   "cell_type": "code",
   "execution_count": 23,
   "metadata": {
    "pycharm": {
     "is_executing": false,
     "name": "#%%\n"
    }
   },
   "outputs": [
    {
     "name": "stdout",
     "output_type": "stream",
     "text": [
      "Authentication OK\n"
     ]
    }
   ],
   "source": [
    "# test authentication\n",
    "try:\n",
    "    api.verify_credentials()\n",
    "    print(\"Authentication OK\")\n",
    "except:\n",
    "    print(\"Error during authentication\")"
   ]
  },
  {
   "cell_type": "markdown",
   "metadata": {},
   "source": [
    "For an extensive list of the methods available, see the [API Reference page](https://tweepy.readthedocs.io/en/latest/api.html#api-reference). There are several types of methods. The following methods enable you to access twitter content:\n",
    "- Timeline methods return a list of  `status` objects\n",
    "- Status methods return a `status` object\n",
    "- User methods return `user` object or a list of `user` objects. \n",
    "- Favorite methods: return a list of  `status` objects\n",
    "\n",
    "For some methods, you can interact with twitter:\n",
    "- Friendship Methods return a `user` object, by example:\n",
    "    - `create_friendship`: creates a new friendship with the specified user ()\n",
    "    \n",
    "Let's review some useful methods:"
   ]
  },
  {
   "cell_type": "markdown",
   "metadata": {},
   "source": [
    "### Methods returning a `status` object (or a list of objects)\n",
    "#### Search method\n",
    "If you seeking Twitter data to get conversations on a particular topic. This method returns a collection of relevant Tweets matching a specified query for all public tweets."
   ]
  },
  {
   "cell_type": "code",
   "execution_count": 24,
   "metadata": {
    "pycharm": {
     "is_executing": false,
     "name": "#%%\n"
    }
   },
   "outputs": [
    {
     "name": "stdout",
     "output_type": "stream",
     "text": [
      "RT @livekindlyco: Are you ready to try the new @BeyondMeat and @Starbucks  #vegan meat?\n",
      "https://t.co/Hpf9J9AbAO\n",
      "Beyond Meat $BYND shares soared another 9% on Friday, ending the week up more than 42%. That would be the biggest w… https://t.co/eslXC1Gh3z\n",
      "RT @livekindlyco: Are you ready to try the new @BeyondMeat and @Starbucks  #vegan meat?\n",
      "https://t.co/Hpf9J9AbAO\n",
      "RT @business: The growing threat of a meat shortage is helping to lift shares of plant-based protein manufacturer Beyond Meat https://t.co/…\n",
      "@WTAE Don’t worry, the shelves will be full of Al Gores meatless meat! He going to make billions from Beyond Meat. https://t.co/pktIV56tPB\n",
      "Dozens of articles about meat shortages, and contaminated meat plants around the world.  Maybe McDonalds inks a Bey… https://t.co/tGvTxOCrZt\n",
      "🙄chipotle need to get beyond meat\n",
      "@BethBombara @gizellie I made a breakfast sandwich too! Tofu, Beyond Meat sausage, and vegan mayo on whole wheat. https://t.co/5OmBTx9Lu2\n",
      "@Slab2DaBone It’s been 4 months. I’m starting to include beyond meat cause im getting burnt out with fish but I def… https://t.co/NMW1DVtjAQ\n",
      "Are you ready to try the new @BeyondMeat and @Starbucks  #vegan meat?\n",
      "https://t.co/Hpf9J9AbAO\n",
      "RT @CNNBusiness: Starbucks is teaming up with oat milk maker Oatly and plant-based protein companies Beyond Meat and Omnipork in mainland C…\n",
      "Beyond Meat stock price soars amid fear of a coronavirus beef and pork shortage https://t.co/dhSrLLZtd1\n",
      "Why I Bought Beyond Meat Stock Now @themotleyfool #stocks $BYND https://t.co/flWj5p3EI4\n",
      "Beyond Meat stock price soars amid fear of a coronavirus beef and pork shortage https://t.co/ZEUJjrzWKu\n",
      "RT @inthesetimesmag: High-tech fake meat giants are more interested in making a quick buck than mitigating climate change. https://t.co/MDE…\n"
     ]
    }
   ],
   "source": [
    "# most recent tweets about ETH \n",
    "tweets = api.search(q=\"Beyond Meat\", lang=\"en\") # TODO: How is it set to recent tweets?\n",
    "for tweet in tweets:\n",
    "    print(tweet.text) # printing the first tweet\n",
    "    #todo still not working 15:30"
   ]
  },
  {
   "cell_type": "markdown",
   "metadata": {},
   "source": [
    "The `status` object:"
   ]
  },
  {
   "cell_type": "code",
   "execution_count": 35,
   "metadata": {
    "pycharm": {
     "is_executing": false,
     "name": "#%%\n"
    }
   },
   "outputs": [
    {
     "name": "stdout",
     "text": [
      "Status(_api=<tweepy.api.API object at 0x000001EFF3956E08>, _json={'created_at': 'Sun Apr 26 14:19:22 +0000 2020', 'id': 1254414771706834945, 'id_str': '1254414771706834945', 'text': 'RT @livekindlyco: Are you ready to try the new @BeyondMeat and @Starbucks  #vegan meat?\\nhttps://t.co/Hpf9J9AbAO', 'truncated': False, 'entities': {'hashtags': [{'text': 'vegan', 'indices': [75, 81]}], 'symbols': [], 'user_mentions': [{'screen_name': 'livekindlyco', 'name': 'LIVEKINDLY', 'id': 861093449080033281, 'id_str': '861093449080033281', 'indices': [3, 16]}, {'screen_name': 'BeyondMeat', 'name': 'Beyond Meat', 'id': 569714177, 'id_str': '569714177', 'indices': [47, 58]}, {'screen_name': 'Starbucks', 'name': 'Starbucks Coffee', 'id': 30973, 'id_str': '30973', 'indices': [63, 73]}], 'urls': [{'url': 'https://t.co/Hpf9J9AbAO', 'expanded_url': 'https://bit.ly/3cKUuuQ', 'display_url': 'bit.ly/3cKUuuQ', 'indices': [88, 111]}]}, 'metadata': {'iso_language_code': 'en', 'result_type': 'recent'}, 'source': '<a href=\"http://twitter.com/download/android\" rel=\"nofollow\">Twitter for Android</a>', 'in_reply_to_status_id': None, 'in_reply_to_status_id_str': None, 'in_reply_to_user_id': None, 'in_reply_to_user_id_str': None, 'in_reply_to_screen_name': None, 'user': {'id': 3658319661, 'id_str': '3658319661', 'name': 'Tiffany Kehoe Ⓥ', 'screen_name': 'tiffylovesgucci', 'location': 'Cleveland, OH', 'description': \"“Animals are my friends...and I don't eat my friends.” \\n― George Bernard Shaw\", 'url': None, 'entities': {'description': {'urls': []}}, 'protected': False, 'followers_count': 861, 'friends_count': 1096, 'listed_count': 23, 'created_at': 'Tue Sep 15 00:26:14 +0000 2015', 'favourites_count': 46450, 'utc_offset': None, 'time_zone': None, 'geo_enabled': False, 'verified': False, 'statuses_count': 17463, 'lang': None, 'contributors_enabled': False, 'is_translator': False, 'is_translation_enabled': False, 'profile_background_color': '000000', 'profile_background_image_url': 'http://abs.twimg.com/images/themes/theme1/bg.png', 'profile_background_image_url_https': 'https://abs.twimg.com/images/themes/theme1/bg.png', 'profile_background_tile': False, 'profile_image_url': 'http://pbs.twimg.com/profile_images/1002899236705497090/Y_mJkmtP_normal.jpg', 'profile_image_url_https': 'https://pbs.twimg.com/profile_images/1002899236705497090/Y_mJkmtP_normal.jpg', 'profile_banner_url': 'https://pbs.twimg.com/profile_banners/3658319661/1471395448', 'profile_link_color': 'F5ABB5', 'profile_sidebar_border_color': '000000', 'profile_sidebar_fill_color': '000000', 'profile_text_color': '000000', 'profile_use_background_image': False, 'has_extended_profile': False, 'default_profile': False, 'default_profile_image': False, 'following': False, 'follow_request_sent': False, 'notifications': False, 'translator_type': 'none'}, 'geo': None, 'coordinates': None, 'place': None, 'contributors': None, 'retweeted_status': {'created_at': 'Sun Apr 26 14:00:20 +0000 2020', 'id': 1254409981799129089, 'id_str': '1254409981799129089', 'text': 'Are you ready to try the new @BeyondMeat and @Starbucks  #vegan meat?\\nhttps://t.co/Hpf9J9AbAO', 'truncated': False, 'entities': {'hashtags': [{'text': 'vegan', 'indices': [57, 63]}], 'symbols': [], 'user_mentions': [{'screen_name': 'BeyondMeat', 'name': 'Beyond Meat', 'id': 569714177, 'id_str': '569714177', 'indices': [29, 40]}, {'screen_name': 'Starbucks', 'name': 'Starbucks Coffee', 'id': 30973, 'id_str': '30973', 'indices': [45, 55]}], 'urls': [{'url': 'https://t.co/Hpf9J9AbAO', 'expanded_url': 'https://bit.ly/3cKUuuQ', 'display_url': 'bit.ly/3cKUuuQ', 'indices': [70, 93]}]}, 'metadata': {'iso_language_code': 'en', 'result_type': 'recent'}, 'source': '<a href=\"https://sproutsocial.com\" rel=\"nofollow\">Sprout Social</a>', 'in_reply_to_status_id': None, 'in_reply_to_status_id_str': None, 'in_reply_to_user_id': None, 'in_reply_to_user_id_str': None, 'in_reply_to_screen_name': None, 'user': {'id': 861093449080033281, 'id_str': '861093449080033281', 'name': 'LIVEKINDLY', 'screen_name': 'livekindlyco', 'location': 'Vancouver', 'description': 'For our humanity, our home, and those who share it with us.', 'url': 'https://t.co/7XrS8hLmIG', 'entities': {'url': {'urls': [{'url': 'https://t.co/7XrS8hLmIG', 'expanded_url': 'https://www.livekindly.co', 'display_url': 'livekindly.co', 'indices': [0, 23]}]}, 'description': {'urls': []}}, 'protected': False, 'followers_count': 26424, 'friends_count': 4857, 'listed_count': 225, 'created_at': 'Sun May 07 05:40:51 +0000 2017', 'favourites_count': 30529, 'utc_offset': None, 'time_zone': None, 'geo_enabled': False, 'verified': False, 'statuses_count': 40814, 'lang': None, 'contributors_enabled': False, 'is_translator': False, 'is_translation_enabled': False, 'profile_background_color': '000000', 'profile_background_image_url': 'http://abs.twimg.com/images/themes/theme1/bg.png', 'profile_background_image_url_https': 'https://abs.twimg.com/images/themes/theme1/bg.png', 'profile_background_tile': False, 'profile_image_url': 'http://pbs.twimg.com/profile_images/1032721467274756096/QShmP4IM_normal.jpg', 'profile_image_url_https': 'https://pbs.twimg.com/profile_images/1032721467274756096/QShmP4IM_normal.jpg', 'profile_banner_url': 'https://pbs.twimg.com/profile_banners/861093449080033281/1548717090', 'profile_link_color': '4C5C55', 'profile_sidebar_border_color': '000000', 'profile_sidebar_fill_color': '000000', 'profile_text_color': '000000', 'profile_use_background_image': False, 'has_extended_profile': True, 'default_profile': False, 'default_profile_image': False, 'following': False, 'follow_request_sent': False, 'notifications': False, 'translator_type': 'none'}, 'geo': None, 'coordinates': None, 'place': None, 'contributors': None, 'is_quote_status': False, 'retweet_count': 3, 'favorite_count': 7, 'favorited': False, 'retweeted': False, 'possibly_sensitive': False, 'lang': 'en'}, 'is_quote_status': False, 'retweet_count': 3, 'favorite_count': 0, 'favorited': False, 'retweeted': False, 'possibly_sensitive': False, 'lang': 'en'}, created_at=datetime.datetime(2020, 4, 26, 14, 19, 22), id=1254414771706834945, id_str='1254414771706834945', text='RT @livekindlyco: Are you ready to try the new @BeyondMeat and @Starbucks  #vegan meat?\\nhttps://t.co/Hpf9J9AbAO', truncated=False, entities={'hashtags': [{'text': 'vegan', 'indices': [75, 81]}], 'symbols': [], 'user_mentions': [{'screen_name': 'livekindlyco', 'name': 'LIVEKINDLY', 'id': 861093449080033281, 'id_str': '861093449080033281', 'indices': [3, 16]}, {'screen_name': 'BeyondMeat', 'name': 'Beyond Meat', 'id': 569714177, 'id_str': '569714177', 'indices': [47, 58]}, {'screen_name': 'Starbucks', 'name': 'Starbucks Coffee', 'id': 30973, 'id_str': '30973', 'indices': [63, 73]}], 'urls': [{'url': 'https://t.co/Hpf9J9AbAO', 'expanded_url': 'https://bit.ly/3cKUuuQ', 'display_url': 'bit.ly/3cKUuuQ', 'indices': [88, 111]}]}, metadata={'iso_language_code': 'en', 'result_type': 'recent'}, source='Twitter for Android', source_url='http://twitter.com/download/android', in_reply_to_status_id=None, in_reply_to_status_id_str=None, in_reply_to_user_id=None, in_reply_to_user_id_str=None, in_reply_to_screen_name=None, author=User(_api=<tweepy.api.API object at 0x000001EFF3956E08>, _json={'id': 3658319661, 'id_str': '3658319661', 'name': 'Tiffany Kehoe Ⓥ', 'screen_name': 'tiffylovesgucci', 'location': 'Cleveland, OH', 'description': \"“Animals are my friends...and I don't eat my friends.” \\n― George Bernard Shaw\", 'url': None, 'entities': {'description': {'urls': []}}, 'protected': False, 'followers_count': 861, 'friends_count': 1096, 'listed_count': 23, 'created_at': 'Tue Sep 15 00:26:14 +0000 2015', 'favourites_count': 46450, 'utc_offset': None, 'time_zone': None, 'geo_enabled': False, 'verified': False, 'statuses_count': 17463, 'lang': None, 'contributors_enabled': False, 'is_translator': False, 'is_translation_enabled': False, 'profile_background_color': '000000', 'profile_background_image_url': 'http://abs.twimg.com/images/themes/theme1/bg.png', 'profile_background_image_url_https': 'https://abs.twimg.com/images/themes/theme1/bg.png', 'profile_background_tile': False, 'profile_image_url': 'http://pbs.twimg.com/profile_images/1002899236705497090/Y_mJkmtP_normal.jpg', 'profile_image_url_https': 'https://pbs.twimg.com/profile_images/1002899236705497090/Y_mJkmtP_normal.jpg', 'profile_banner_url': 'https://pbs.twimg.com/profile_banners/3658319661/1471395448', 'profile_link_color': 'F5ABB5', 'profile_sidebar_border_color': '000000', 'profile_sidebar_fill_color': '000000', 'profile_text_color': '000000', 'profile_use_background_image': False, 'has_extended_profile': False, 'default_profile': False, 'default_profile_image': False, 'following': False, 'follow_request_sent': False, 'notifications': False, 'translator_type': 'none'}, id=3658319661, id_str='3658319661', name='Tiffany Kehoe Ⓥ', screen_name='tiffylovesgucci', location='Cleveland, OH', description=\"“Animals are my friends...and I don't eat my friends.” \\n― George Bernard Shaw\", url=None, entities={'description': {'urls': []}}, protected=False, followers_count=861, friends_count=1096, listed_count=23, created_at=datetime.datetime(2015, 9, 15, 0, 26, 14), favourites_count=46450, utc_offset=None, time_zone=None, geo_enabled=False, verified=False, statuses_count=17463, lang=None, contributors_enabled=False, is_translator=False, is_translation_enabled=False, profile_background_color='000000', profile_background_image_url='http://abs.twimg.com/images/themes/theme1/bg.png', profile_background_image_url_https='https://abs.twimg.com/images/themes/theme1/bg.png', profile_background_tile=False, profile_image_url='http://pbs.twimg.com/profile_images/1002899236705497090/Y_mJkmtP_normal.jpg', profile_image_url_https='https://pbs.twimg.com/profile_images/1002899236705497090/Y_mJkmtP_normal.jpg', profile_banner_url='https://pbs.twimg.com/profile_banners/3658319661/1471395448', profile_link_color='F5ABB5', profile_sidebar_border_color='000000', profile_sidebar_fill_color='000000', profile_text_color='000000', profile_use_background_image=False, has_extended_profile=False, default_profile=False, default_profile_image=False, following=False, follow_request_sent=False, notifications=False, translator_type='none'), user=User(_api=<tweepy.api.API object at 0x000001EFF3956E08>, _json={'id': 3658319661, 'id_str': '3658319661', 'name': 'Tiffany Kehoe Ⓥ', 'screen_name': 'tiffylovesgucci', 'location': 'Cleveland, OH', 'description': \"“Animals are my friends...and I don't eat my friends.” \\n― George Bernard Shaw\", 'url': None, 'entities': {'description': {'urls': []}}, 'protected': False, 'followers_count': 861, 'friends_count': 1096, 'listed_count': 23, 'created_at': 'Tue Sep 15 00:26:14 +0000 2015', 'favourites_count': 46450, 'utc_offset': None, 'time_zone': None, 'geo_enabled': False, 'verified': False, 'statuses_count': 17463, 'lang': None, 'contributors_enabled': False, 'is_translator': False, 'is_translation_enabled': False, 'profile_background_color': '000000', 'profile_background_image_url': 'http://abs.twimg.com/images/themes/theme1/bg.png', 'profile_background_image_url_https': 'https://abs.twimg.com/images/themes/theme1/bg.png', 'profile_background_tile': False, 'profile_image_url': 'http://pbs.twimg.com/profile_images/1002899236705497090/Y_mJkmtP_normal.jpg', 'profile_image_url_https': 'https://pbs.twimg.com/profile_images/1002899236705497090/Y_mJkmtP_normal.jpg', 'profile_banner_url': 'https://pbs.twimg.com/profile_banners/3658319661/1471395448', 'profile_link_color': 'F5ABB5', 'profile_sidebar_border_color': '000000', 'profile_sidebar_fill_color': '000000', 'profile_text_color': '000000', 'profile_use_background_image': False, 'has_extended_profile': False, 'default_profile': False, 'default_profile_image': False, 'following': False, 'follow_request_sent': False, 'notifications': False, 'translator_type': 'none'}, id=3658319661, id_str='3658319661', name='Tiffany Kehoe Ⓥ', screen_name='tiffylovesgucci', location='Cleveland, OH', description=\"“Animals are my friends...and I don't eat my friends.” \\n― George Bernard Shaw\", url=None, entities={'description': {'urls': []}}, protected=False, followers_count=861, friends_count=1096, listed_count=23, created_at=datetime.datetime(2015, 9, 15, 0, 26, 14), favourites_count=46450, utc_offset=None, time_zone=None, geo_enabled=False, verified=False, statuses_count=17463, lang=None, contributors_enabled=False, is_translator=False, is_translation_enabled=False, profile_background_color='000000', profile_background_image_url='http://abs.twimg.com/images/themes/theme1/bg.png', profile_background_image_url_https='https://abs.twimg.com/images/themes/theme1/bg.png', profile_background_tile=False, profile_image_url='http://pbs.twimg.com/profile_images/1002899236705497090/Y_mJkmtP_normal.jpg', profile_image_url_https='https://pbs.twimg.com/profile_images/1002899236705497090/Y_mJkmtP_normal.jpg', profile_banner_url='https://pbs.twimg.com/profile_banners/3658319661/1471395448', profile_link_color='F5ABB5', profile_sidebar_border_color='000000', profile_sidebar_fill_color='000000', profile_text_color='000000', profile_use_background_image=False, has_extended_profile=False, default_profile=False, default_profile_image=False, following=False, follow_request_sent=False, notifications=False, translator_type='none'), geo=None, coordinates=None, place=None, contributors=None, retweeted_status=Status(_api=<tweepy.api.API object at 0x000001EFF3956E08>, _json={'created_at': 'Sun Apr 26 14:00:20 +0000 2020', 'id': 1254409981799129089, 'id_str': '1254409981799129089', 'text': 'Are you ready to try the new @BeyondMeat and @Starbucks  #vegan meat?\\nhttps://t.co/Hpf9J9AbAO', 'truncated': False, 'entities': {'hashtags': [{'text': 'vegan', 'indices': [57, 63]}], 'symbols': [], 'user_mentions': [{'screen_name': 'BeyondMeat', 'name': 'Beyond Meat', 'id': 569714177, 'id_str': '569714177', 'indices': [29, 40]}, {'screen_name': 'Starbucks', 'name': 'Starbucks Coffee', 'id': 30973, 'id_str': '30973', 'indices': [45, 55]}], 'urls': [{'url': 'https://t.co/Hpf9J9AbAO', 'expanded_url': 'https://bit.ly/3cKUuuQ', 'display_url': 'bit.ly/3cKUuuQ', 'indices': [70, 93]}]}, 'metadata': {'iso_language_code': 'en', 'result_type': 'recent'}, 'source': '<a href=\"https://sproutsocial.com\" rel=\"nofollow\">Sprout Social</a>', 'in_reply_to_status_id': None, 'in_reply_to_status_id_str': None, 'in_reply_to_user_id': None, 'in_reply_to_user_id_str': None, 'in_reply_to_screen_name': None, 'user': {'id': 861093449080033281, 'id_str': '861093449080033281', 'name': 'LIVEKINDLY', 'screen_name': 'livekindlyco', 'location': 'Vancouver', 'description': 'For our humanity, our home, and those who share it with us.', 'url': 'https://t.co/7XrS8hLmIG', 'entities': {'url': {'urls': [{'url': 'https://t.co/7XrS8hLmIG', 'expanded_url': 'https://www.livekindly.co', 'display_url': 'livekindly.co', 'indices': [0, 23]}]}, 'description': {'urls': []}}, 'protected': False, 'followers_count': 26424, 'friends_count': 4857, 'listed_count': 225, 'created_at': 'Sun May 07 05:40:51 +0000 2017', 'favourites_count': 30529, 'utc_offset': None, 'time_zone': None, 'geo_enabled': False, 'verified': False, 'statuses_count': 40814, 'lang': None, 'contributors_enabled': False, 'is_translator': False, 'is_translation_enabled': False, 'profile_background_color': '000000', 'profile_background_image_url': 'http://abs.twimg.com/images/themes/theme1/bg.png', 'profile_background_image_url_https': 'https://abs.twimg.com/images/themes/theme1/bg.png', 'profile_background_tile': False, 'profile_image_url': 'http://pbs.twimg.com/profile_images/1032721467274756096/QShmP4IM_normal.jpg', 'profile_image_url_https': 'https://pbs.twimg.com/profile_images/1032721467274756096/QShmP4IM_normal.jpg', 'profile_banner_url': 'https://pbs.twimg.com/profile_banners/861093449080033281/1548717090', 'profile_link_color': '4C5C55', 'profile_sidebar_border_color': '000000', 'profile_sidebar_fill_color': '000000', 'profile_text_color': '000000', 'profile_use_background_image': False, 'has_extended_profile': True, 'default_profile': False, 'default_profile_image': False, 'following': False, 'follow_request_sent': False, 'notifications': False, 'translator_type': 'none'}, 'geo': None, 'coordinates': None, 'place': None, 'contributors': None, 'is_quote_status': False, 'retweet_count': 3, 'favorite_count': 7, 'favorited': False, 'retweeted': False, 'possibly_sensitive': False, 'lang': 'en'}, created_at=datetime.datetime(2020, 4, 26, 14, 0, 20), id=1254409981799129089, id_str='1254409981799129089', text='Are you ready to try the new @BeyondMeat and @Starbucks  #vegan meat?\\nhttps://t.co/Hpf9J9AbAO', truncated=False, entities={'hashtags': [{'text': 'vegan', 'indices': [57, 63]}], 'symbols': [], 'user_mentions': [{'screen_name': 'BeyondMeat', 'name': 'Beyond Meat', 'id': 569714177, 'id_str': '569714177', 'indices': [29, 40]}, {'screen_name': 'Starbucks', 'name': 'Starbucks Coffee', 'id': 30973, 'id_str': '30973', 'indices': [45, 55]}], 'urls': [{'url': 'https://t.co/Hpf9J9AbAO', 'expanded_url': 'https://bit.ly/3cKUuuQ', 'display_url': 'bit.ly/3cKUuuQ', 'indices': [70, 93]}]}, metadata={'iso_language_code': 'en', 'result_type': 'recent'}, source='Sprout Social', source_url='https://sproutsocial.com', in_reply_to_status_id=None, in_reply_to_status_id_str=None, in_reply_to_user_id=None, in_reply_to_user_id_str=None, in_reply_to_screen_name=None, author=User(_api=<tweepy.api.API object at 0x000001EFF3956E08>, _json={'id': 861093449080033281, 'id_str': '861093449080033281', 'name': 'LIVEKINDLY', 'screen_name': 'livekindlyco', 'location': 'Vancouver', 'description': 'For our humanity, our home, and those who share it with us.', 'url': 'https://t.co/7XrS8hLmIG', 'entities': {'url': {'urls': [{'url': 'https://t.co/7XrS8hLmIG', 'expanded_url': 'https://www.livekindly.co', 'display_url': 'livekindly.co', 'indices': [0, 23]}]}, 'description': {'urls': []}}, 'protected': False, 'followers_count': 26424, 'friends_count': 4857, 'listed_count': 225, 'created_at': 'Sun May 07 05:40:51 +0000 2017', 'favourites_count': 30529, 'utc_offset': None, 'time_zone': None, 'geo_enabled': False, 'verified': False, 'statuses_count': 40814, 'lang': None, 'contributors_enabled': False, 'is_translator': False, 'is_translation_enabled': False, 'profile_background_color': '000000', 'profile_background_image_url': 'http://abs.twimg.com/images/themes/theme1/bg.png', 'profile_background_image_url_https': 'https://abs.twimg.com/images/themes/theme1/bg.png', 'profile_background_tile': False, 'profile_image_url': 'http://pbs.twimg.com/profile_images/1032721467274756096/QShmP4IM_normal.jpg', 'profile_image_url_https': 'https://pbs.twimg.com/profile_images/1032721467274756096/QShmP4IM_normal.jpg', 'profile_banner_url': 'https://pbs.twimg.com/profile_banners/861093449080033281/1548717090', 'profile_link_color': '4C5C55', 'profile_sidebar_border_color': '000000', 'profile_sidebar_fill_color': '000000', 'profile_text_color': '000000', 'profile_use_background_image': False, 'has_extended_profile': True, 'default_profile': False, 'default_profile_image': False, 'following': False, 'follow_request_sent': False, 'notifications': False, 'translator_type': 'none'}, id=861093449080033281, id_str='861093449080033281', name='LIVEKINDLY', screen_name='livekindlyco', location='Vancouver', description='For our humanity, our home, and those who share it with us.', url='https://t.co/7XrS8hLmIG', entities={'url': {'urls': [{'url': 'https://t.co/7XrS8hLmIG', 'expanded_url': 'https://www.livekindly.co', 'display_url': 'livekindly.co', 'indices': [0, 23]}]}, 'description': {'urls': []}}, protected=False, followers_count=26424, friends_count=4857, listed_count=225, created_at=datetime.datetime(2017, 5, 7, 5, 40, 51), favourites_count=30529, utc_offset=None, time_zone=None, geo_enabled=False, verified=False, statuses_count=40814, lang=None, contributors_enabled=False, is_translator=False, is_translation_enabled=False, profile_background_color='000000', profile_background_image_url='http://abs.twimg.com/images/themes/theme1/bg.png', profile_background_image_url_https='https://abs.twimg.com/images/themes/theme1/bg.png', profile_background_tile=False, profile_image_url='http://pbs.twimg.com/profile_images/1032721467274756096/QShmP4IM_normal.jpg', profile_image_url_https='https://pbs.twimg.com/profile_images/1032721467274756096/QShmP4IM_normal.jpg', profile_banner_url='https://pbs.twimg.com/profile_banners/861093449080033281/1548717090', profile_link_color='4C5C55', profile_sidebar_border_color='000000', profile_sidebar_fill_color='000000', profile_text_color='000000', profile_use_background_image=False, has_extended_profile=True, default_profile=False, default_profile_image=False, following=False, follow_request_sent=False, notifications=False, translator_type='none'), user=User(_api=<tweepy.api.API object at 0x000001EFF3956E08>, _json={'id': 861093449080033281, 'id_str': '861093449080033281', 'name': 'LIVEKINDLY', 'screen_name': 'livekindlyco', 'location': 'Vancouver', 'description': 'For our humanity, our home, and those who share it with us.', 'url': 'https://t.co/7XrS8hLmIG', 'entities': {'url': {'urls': [{'url': 'https://t.co/7XrS8hLmIG', 'expanded_url': 'https://www.livekindly.co', 'display_url': 'livekindly.co', 'indices': [0, 23]}]}, 'description': {'urls': []}}, 'protected': False, 'followers_count': 26424, 'friends_count': 4857, 'listed_count': 225, 'created_at': 'Sun May 07 05:40:51 +0000 2017', 'favourites_count': 30529, 'utc_offset': None, 'time_zone': None, 'geo_enabled': False, 'verified': False, 'statuses_count': 40814, 'lang': None, 'contributors_enabled': False, 'is_translator': False, 'is_translation_enabled': False, 'profile_background_color': '000000', 'profile_background_image_url': 'http://abs.twimg.com/images/themes/theme1/bg.png', 'profile_background_image_url_https': 'https://abs.twimg.com/images/themes/theme1/bg.png', 'profile_background_tile': False, 'profile_image_url': 'http://pbs.twimg.com/profile_images/1032721467274756096/QShmP4IM_normal.jpg', 'profile_image_url_https': 'https://pbs.twimg.com/profile_images/1032721467274756096/QShmP4IM_normal.jpg', 'profile_banner_url': 'https://pbs.twimg.com/profile_banners/861093449080033281/1548717090', 'profile_link_color': '4C5C55', 'profile_sidebar_border_color': '000000', 'profile_sidebar_fill_color': '000000', 'profile_text_color': '000000', 'profile_use_background_image': False, 'has_extended_profile': True, 'default_profile': False, 'default_profile_image': False, 'following': False, 'follow_request_sent': False, 'notifications': False, 'translator_type': 'none'}, id=861093449080033281, id_str='861093449080033281', name='LIVEKINDLY', screen_name='livekindlyco', location='Vancouver', description='For our humanity, our home, and those who share it with us.', url='https://t.co/7XrS8hLmIG', entities={'url': {'urls': [{'url': 'https://t.co/7XrS8hLmIG', 'expanded_url': 'https://www.livekindly.co', 'display_url': 'livekindly.co', 'indices': [0, 23]}]}, 'description': {'urls': []}}, protected=False, followers_count=26424, friends_count=4857, listed_count=225, created_at=datetime.datetime(2017, 5, 7, 5, 40, 51), favourites_count=30529, utc_offset=None, time_zone=None, geo_enabled=False, verified=False, statuses_count=40814, lang=None, contributors_enabled=False, is_translator=False, is_translation_enabled=False, profile_background_color='000000', profile_background_image_url='http://abs.twimg.com/images/themes/theme1/bg.png', profile_background_image_url_https='https://abs.twimg.com/images/themes/theme1/bg.png', profile_background_tile=False, profile_image_url='http://pbs.twimg.com/profile_images/1032721467274756096/QShmP4IM_normal.jpg', profile_image_url_https='https://pbs.twimg.com/profile_images/1032721467274756096/QShmP4IM_normal.jpg', profile_banner_url='https://pbs.twimg.com/profile_banners/861093449080033281/1548717090', profile_link_color='4C5C55', profile_sidebar_border_color='000000', profile_sidebar_fill_color='000000', profile_text_color='000000', profile_use_background_image=False, has_extended_profile=True, default_profile=False, default_profile_image=False, following=False, follow_request_sent=False, notifications=False, translator_type='none'), geo=None, coordinates=None, place=None, contributors=None, is_quote_status=False, retweet_count=3, favorite_count=7, favorited=False, retweeted=False, possibly_sensitive=False, lang='en'), is_quote_status=False, retweet_count=3, favorite_count=0, favorited=False, retweeted=False, possibly_sensitive=False, lang='en')\n"
     ],
     "output_type": "stream"
    }
   ],
   "source": [
    "pprint(tweets[0]) # for the first tweet"
   ]
  },
  {
   "cell_type": "code",
   "execution_count": 26,
   "metadata": {
    "pycharm": {
     "is_executing": false,
     "name": "#%%\n"
    }
   },
   "outputs": [
    {
     "name": "stdout",
     "output_type": "stream",
     "text": [
      "<tweepy.api.API object at 0x000001EFF3956E08>\n"
     ]
    }
   ],
   "source": [
    "pprint(tweets[0]._api) # for the first tweet"
   ]
  },
  {
   "cell_type": "code",
   "execution_count": 27,
   "metadata": {
    "pycharm": {
     "is_executing": false,
     "name": "#%%\n"
    }
   },
   "outputs": [
    {
     "name": "stdout",
     "output_type": "stream",
     "text": [
      "{'contributors': None,\n",
      " 'coordinates': None,\n",
      " 'created_at': 'Sun Apr 26 14:19:22 +0000 2020',\n",
      " 'entities': {'hashtags': [{'indices': [75, 81], 'text': 'vegan'}],\n",
      "              'symbols': [],\n",
      "              'urls': [{'display_url': 'bit.ly/3cKUuuQ',\n",
      "                        'expanded_url': 'https://bit.ly/3cKUuuQ',\n",
      "                        'indices': [88, 111],\n",
      "                        'url': 'https://t.co/Hpf9J9AbAO'}],\n",
      "              'user_mentions': [{'id': 861093449080033281,\n",
      "                                 'id_str': '861093449080033281',\n",
      "                                 'indices': [3, 16],\n",
      "                                 'name': 'LIVEKINDLY',\n",
      "                                 'screen_name': 'livekindlyco'},\n",
      "                                {'id': 569714177,\n",
      "                                 'id_str': '569714177',\n",
      "                                 'indices': [47, 58],\n",
      "                                 'name': 'Beyond Meat',\n",
      "                                 'screen_name': 'BeyondMeat'},\n",
      "                                {'id': 30973,\n",
      "                                 'id_str': '30973',\n",
      "                                 'indices': [63, 73],\n",
      "                                 'name': 'Starbucks Coffee',\n",
      "                                 'screen_name': 'Starbucks'}]},\n",
      " 'favorite_count': 0,\n",
      " 'favorited': False,\n",
      " 'geo': None,\n",
      " 'id': 1254414771706834945,\n",
      " 'id_str': '1254414771706834945',\n",
      " 'in_reply_to_screen_name': None,\n",
      " 'in_reply_to_status_id': None,\n",
      " 'in_reply_to_status_id_str': None,\n",
      " 'in_reply_to_user_id': None,\n",
      " 'in_reply_to_user_id_str': None,\n",
      " 'is_quote_status': False,\n",
      " 'lang': 'en',\n",
      " 'metadata': {'iso_language_code': 'en', 'result_type': 'recent'},\n",
      " 'place': None,\n",
      " 'possibly_sensitive': False,\n",
      " 'retweet_count': 3,\n",
      " 'retweeted': False,\n",
      " 'retweeted_status': {'contributors': None,\n",
      "                      'coordinates': None,\n",
      "                      'created_at': 'Sun Apr 26 14:00:20 +0000 2020',\n",
      "                      'entities': {'hashtags': [{'indices': [57, 63],\n",
      "                                                 'text': 'vegan'}],\n",
      "                                   'symbols': [],\n",
      "                                   'urls': [{'display_url': 'bit.ly/3cKUuuQ',\n",
      "                                             'expanded_url': 'https://bit.ly/3cKUuuQ',\n",
      "                                             'indices': [70, 93],\n",
      "                                             'url': 'https://t.co/Hpf9J9AbAO'}],\n",
      "                                   'user_mentions': [{'id': 569714177,\n",
      "                                                      'id_str': '569714177',\n",
      "                                                      'indices': [29, 40],\n",
      "                                                      'name': 'Beyond Meat',\n",
      "                                                      'screen_name': 'BeyondMeat'},\n",
      "                                                     {'id': 30973,\n",
      "                                                      'id_str': '30973',\n",
      "                                                      'indices': [45, 55],\n",
      "                                                      'name': 'Starbucks '\n",
      "                                                              'Coffee',\n",
      "                                                      'screen_name': 'Starbucks'}]},\n",
      "                      'favorite_count': 7,\n",
      "                      'favorited': False,\n",
      "                      'geo': None,\n",
      "                      'id': 1254409981799129089,\n",
      "                      'id_str': '1254409981799129089',\n",
      "                      'in_reply_to_screen_name': None,\n",
      "                      'in_reply_to_status_id': None,\n",
      "                      'in_reply_to_status_id_str': None,\n",
      "                      'in_reply_to_user_id': None,\n",
      "                      'in_reply_to_user_id_str': None,\n",
      "                      'is_quote_status': False,\n",
      "                      'lang': 'en',\n",
      "                      'metadata': {'iso_language_code': 'en',\n",
      "                                   'result_type': 'recent'},\n",
      "                      'place': None,\n",
      "                      'possibly_sensitive': False,\n",
      "                      'retweet_count': 3,\n",
      "                      'retweeted': False,\n",
      "                      'source': '<a href=\"https://sproutsocial.com\" '\n",
      "                                'rel=\"nofollow\">Sprout Social</a>',\n",
      "                      'text': 'Are you ready to try the new @BeyondMeat and '\n",
      "                              '@Starbucks  #vegan meat?\\n'\n",
      "                              'https://t.co/Hpf9J9AbAO',\n",
      "                      'truncated': False,\n",
      "                      'user': {'contributors_enabled': False,\n",
      "                               'created_at': 'Sun May 07 05:40:51 +0000 2017',\n",
      "                               'default_profile': False,\n",
      "                               'default_profile_image': False,\n",
      "                               'description': 'For our humanity, our home, and '\n",
      "                                              'those who share it with us.',\n",
      "                               'entities': {'description': {'urls': []},\n",
      "                                            'url': {'urls': [{'display_url': 'livekindly.co',\n",
      "                                                              'expanded_url': 'https://www.livekindly.co',\n",
      "                                                              'indices': [0,\n",
      "                                                                          23],\n",
      "                                                              'url': 'https://t.co/7XrS8hLmIG'}]}},\n",
      "                               'favourites_count': 30529,\n",
      "                               'follow_request_sent': False,\n",
      "                               'followers_count': 26424,\n",
      "                               'following': False,\n",
      "                               'friends_count': 4857,\n",
      "                               'geo_enabled': False,\n",
      "                               'has_extended_profile': True,\n",
      "                               'id': 861093449080033281,\n",
      "                               'id_str': '861093449080033281',\n",
      "                               'is_translation_enabled': False,\n",
      "                               'is_translator': False,\n",
      "                               'lang': None,\n",
      "                               'listed_count': 225,\n",
      "                               'location': 'Vancouver',\n",
      "                               'name': 'LIVEKINDLY',\n",
      "                               'notifications': False,\n",
      "                               'profile_background_color': '000000',\n",
      "                               'profile_background_image_url': 'http://abs.twimg.com/images/themes/theme1/bg.png',\n",
      "                               'profile_background_image_url_https': 'https://abs.twimg.com/images/themes/theme1/bg.png',\n",
      "                               'profile_background_tile': False,\n",
      "                               'profile_banner_url': 'https://pbs.twimg.com/profile_banners/861093449080033281/1548717090',\n",
      "                               'profile_image_url': 'http://pbs.twimg.com/profile_images/1032721467274756096/QShmP4IM_normal.jpg',\n",
      "                               'profile_image_url_https': 'https://pbs.twimg.com/profile_images/1032721467274756096/QShmP4IM_normal.jpg',\n",
      "                               'profile_link_color': '4C5C55',\n",
      "                               'profile_sidebar_border_color': '000000',\n",
      "                               'profile_sidebar_fill_color': '000000',\n",
      "                               'profile_text_color': '000000',\n",
      "                               'profile_use_background_image': False,\n",
      "                               'protected': False,\n",
      "                               'screen_name': 'livekindlyco',\n",
      "                               'statuses_count': 40814,\n",
      "                               'time_zone': None,\n",
      "                               'translator_type': 'none',\n",
      "                               'url': 'https://t.co/7XrS8hLmIG',\n",
      "                               'utc_offset': None,\n",
      "                               'verified': False}},\n",
      " 'source': '<a href=\"http://twitter.com/download/android\" '\n",
      "           'rel=\"nofollow\">Twitter for Android</a>',\n",
      " 'text': 'RT @livekindlyco: Are you ready to try the new @BeyondMeat and '\n",
      "         '@Starbucks  #vegan meat?\\n'\n",
      "         'https://t.co/Hpf9J9AbAO',\n",
      " 'truncated': False,\n",
      " 'user': {'contributors_enabled': False,\n",
      "          'created_at': 'Tue Sep 15 00:26:14 +0000 2015',\n",
      "          'default_profile': False,\n",
      "          'default_profile_image': False,\n",
      "          'description': \"“Animals are my friends...and I don't eat my \"\n",
      "                         'friends.” \\n'\n",
      "                         '― George Bernard Shaw',\n",
      "          'entities': {'description': {'urls': []}},\n",
      "          'favourites_count': 46450,\n",
      "          'follow_request_sent': False,\n",
      "          'followers_count': 861,\n",
      "          'following': False,\n",
      "          'friends_count': 1096,\n",
      "          'geo_enabled': False,\n",
      "          'has_extended_profile': False,\n",
      "          'id': 3658319661,\n",
      "          'id_str': '3658319661',\n",
      "          'is_translation_enabled': False,\n",
      "          'is_translator': False,\n",
      "          'lang': None,\n",
      "          'listed_count': 23,\n",
      "          'location': 'Cleveland, OH',\n",
      "          'name': 'Tiffany Kehoe Ⓥ',\n",
      "          'notifications': False,\n",
      "          'profile_background_color': '000000',\n",
      "          'profile_background_image_url': 'http://abs.twimg.com/images/themes/theme1/bg.png',\n",
      "          'profile_background_image_url_https': 'https://abs.twimg.com/images/themes/theme1/bg.png',\n",
      "          'profile_background_tile': False,\n",
      "          'profile_banner_url': 'https://pbs.twimg.com/profile_banners/3658319661/1471395448',\n",
      "          'profile_image_url': 'http://pbs.twimg.com/profile_images/1002899236705497090/Y_mJkmtP_normal.jpg',\n",
      "          'profile_image_url_https': 'https://pbs.twimg.com/profile_images/1002899236705497090/Y_mJkmtP_normal.jpg',\n",
      "          'profile_link_color': 'F5ABB5',\n",
      "          'profile_sidebar_border_color': '000000',\n",
      "          'profile_sidebar_fill_color': '000000',\n",
      "          'profile_text_color': '000000',\n",
      "          'profile_use_background_image': False,\n",
      "          'protected': False,\n",
      "          'screen_name': 'tiffylovesgucci',\n",
      "          'statuses_count': 17463,\n",
      "          'time_zone': None,\n",
      "          'translator_type': 'none',\n",
      "          'url': None,\n",
      "          'utc_offset': None,\n",
      "          'verified': False}}\n"
     ]
    }
   ],
   "source": [
    "pprint(tweets[0]._json) # for the first tweet"
   ]
  },
  {
   "cell_type": "markdown",
   "source": [
    "List of tweeter accounts, useful for the following task"
   ],
   "metadata": {
    "collapsed": false
   }
  },
  {
   "cell_type": "code",
   "execution_count": 31,
   "outputs": [
    {
     "traceback": [
      "\u001b[1;31m---------------------------------------------------------------------------\u001b[0m",
      "\u001b[1;31mValueError\u001b[0m                                Traceback (most recent call last)",
      "\u001b[1;32m<ipython-input-31-c98cbd3410bc>\u001b[0m in \u001b[0;36m<module>\u001b[1;34m\u001b[0m\n\u001b[1;32m----> 1\u001b[1;33m \u001b[0maccount_list\u001b[0m \u001b[1;33m=\u001b[0m \u001b[0mpd\u001b[0m\u001b[1;33m.\u001b[0m\u001b[0mDataFrame\u001b[0m\u001b[1;33m(\u001b[0m\u001b[1;34m'BeyondMeat'\u001b[0m\u001b[1;33m)\u001b[0m\u001b[1;33m\u001b[0m\u001b[1;33m\u001b[0m\u001b[0m\n\u001b[0m\u001b[0;32m      2\u001b[0m \u001b[0mprint\u001b[0m\u001b[1;33m(\u001b[0m\u001b[1;34m'First 3 elements:'\u001b[0m\u001b[1;33m,\u001b[0m \u001b[0maccount_list\u001b[0m\u001b[1;33m[\u001b[0m\u001b[1;33m:\u001b[0m\u001b[1;36m3\u001b[0m\u001b[1;33m]\u001b[0m\u001b[1;33m)\u001b[0m\u001b[1;33m\u001b[0m\u001b[1;33m\u001b[0m\u001b[0m\n\u001b[0;32m      3\u001b[0m \u001b[0mprint\u001b[0m\u001b[1;33m(\u001b[0m\u001b[1;34m'Number of twitter account studied:'\u001b[0m\u001b[1;33m,\u001b[0m \u001b[0mlen\u001b[0m\u001b[1;33m(\u001b[0m\u001b[0maccount_list\u001b[0m\u001b[1;33m)\u001b[0m\u001b[1;33m)\u001b[0m\u001b[1;33m\u001b[0m\u001b[1;33m\u001b[0m\u001b[0m\n",
      "\u001b[1;32m~\\Anaconda3\\lib\\site-packages\\pandas\\core\\frame.py\u001b[0m in \u001b[0;36m__init__\u001b[1;34m(self, data, index, columns, dtype, copy)\u001b[0m\n\u001b[0;32m    483\u001b[0m                 )\n\u001b[0;32m    484\u001b[0m             \u001b[1;32melse\u001b[0m\u001b[1;33m:\u001b[0m\u001b[1;33m\u001b[0m\u001b[1;33m\u001b[0m\u001b[0m\n\u001b[1;32m--> 485\u001b[1;33m                 \u001b[1;32mraise\u001b[0m \u001b[0mValueError\u001b[0m\u001b[1;33m(\u001b[0m\u001b[1;34m\"DataFrame constructor not properly called!\"\u001b[0m\u001b[1;33m)\u001b[0m\u001b[1;33m\u001b[0m\u001b[1;33m\u001b[0m\u001b[0m\n\u001b[0m\u001b[0;32m    486\u001b[0m \u001b[1;33m\u001b[0m\u001b[0m\n\u001b[0;32m    487\u001b[0m         \u001b[0mNDFrame\u001b[0m\u001b[1;33m.\u001b[0m\u001b[0m__init__\u001b[0m\u001b[1;33m(\u001b[0m\u001b[0mself\u001b[0m\u001b[1;33m,\u001b[0m \u001b[0mmgr\u001b[0m\u001b[1;33m,\u001b[0m \u001b[0mfastpath\u001b[0m\u001b[1;33m=\u001b[0m\u001b[1;32mTrue\u001b[0m\u001b[1;33m)\u001b[0m\u001b[1;33m\u001b[0m\u001b[1;33m\u001b[0m\u001b[0m\n",
      "\u001b[1;31mValueError\u001b[0m: DataFrame constructor not properly called!"
     ],
     "ename": "ValueError",
     "evalue": "DataFrame constructor not properly called!",
     "output_type": "error"
    }
   ],
   "source": [
    "account_list = df_merged_all['twitter handle'].tolist()\n",
    "print('First 3 elements:', account_list[:3])\n",
    "print('Number of twitter account studied:', len(account_list))"
   ],
   "metadata": {
    "collapsed": false,
    "pycharm": {
     "name": "#%%\n",
     "is_executing": false
    }
   }
  },
  {
   "cell_type": "markdown",
   "source": [
    "### Methods returning a `user` object (or a list of objects)\n",
    "- `me` returns the authenticated user's information"
   ],
   "metadata": {
    "collapsed": false
   }
  },
  {
   "cell_type": "code",
   "execution_count": 32,
   "outputs": [
    {
     "data": {
      "text/plain": "User(_api=<tweepy.api.API object at 0x000001EFF3956E08>, _json={'id': 1230145588659998721, 'id_str': '1230145588659998721', 'name': 'Andreas Eckmann', 'screen_name': 'AndreasEckmann', 'location': '', 'profile_location': None, 'description': '', 'url': None, 'entities': {'description': {'urls': []}}, 'protected': False, 'followers_count': 0, 'friends_count': 1, 'listed_count': 0, 'created_at': 'Wed Feb 19 15:02:28 +0000 2020', 'favourites_count': 0, 'utc_offset': None, 'time_zone': None, 'geo_enabled': False, 'verified': False, 'statuses_count': 0, 'lang': None, 'contributors_enabled': False, 'is_translator': False, 'is_translation_enabled': False, 'profile_background_color': 'F5F8FA', 'profile_background_image_url': None, 'profile_background_image_url_https': None, 'profile_background_tile': False, 'profile_image_url': 'http://abs.twimg.com/sticky/default_profile_images/default_profile_normal.png', 'profile_image_url_https': 'https://abs.twimg.com/sticky/default_profile_images/default_profile_normal.png', 'profile_link_color': '1DA1F2', 'profile_sidebar_border_color': 'C0DEED', 'profile_sidebar_fill_color': 'DDEEF6', 'profile_text_color': '333333', 'profile_use_background_image': True, 'has_extended_profile': False, 'default_profile': True, 'default_profile_image': True, 'following': False, 'follow_request_sent': False, 'notifications': False, 'translator_type': 'none', 'suspended': False, 'needs_phone_verification': False}, id=1230145588659998721, id_str='1230145588659998721', name='Andreas Eckmann', screen_name='AndreasEckmann', location='', profile_location=None, description='', url=None, entities={'description': {'urls': []}}, protected=False, followers_count=0, friends_count=1, listed_count=0, created_at=datetime.datetime(2020, 2, 19, 15, 2, 28), favourites_count=0, utc_offset=None, time_zone=None, geo_enabled=False, verified=False, statuses_count=0, lang=None, contributors_enabled=False, is_translator=False, is_translation_enabled=False, profile_background_color='F5F8FA', profile_background_image_url=None, profile_background_image_url_https=None, profile_background_tile=False, profile_image_url='http://abs.twimg.com/sticky/default_profile_images/default_profile_normal.png', profile_image_url_https='https://abs.twimg.com/sticky/default_profile_images/default_profile_normal.png', profile_link_color='1DA1F2', profile_sidebar_border_color='C0DEED', profile_sidebar_fill_color='DDEEF6', profile_text_color='333333', profile_use_background_image=True, has_extended_profile=False, default_profile=True, default_profile_image=True, following=False, follow_request_sent=False, notifications=False, translator_type='none', suspended=False, needs_phone_verification=False)"
     },
     "metadata": {},
     "output_type": "execute_result",
     "execution_count": 32
    }
   ],
   "source": [
    "api.me()"
   ],
   "metadata": {
    "collapsed": false,
    "pycharm": {
     "name": "#%%\n",
     "is_executing": false
    }
   }
  },
  {
   "cell_type": "markdown",
   "source": [
    "- The `get_user` method returns information about the specified user."
   ],
   "metadata": {
    "collapsed": false
   }
  },
  {
   "cell_type": "code",
   "execution_count": 33,
   "outputs": [
    {
     "name": "stdout",
     "text": [
      "{'contributors_enabled': False,\n",
      " 'created_at': 'Thu May 03 05:40:43 +0000 2012',\n",
      " 'default_profile': False,\n",
      " 'default_profile_image': False,\n",
      " 'description': \"Meat that's made from plants, made for meat lovers. \\n\"\n",
      "                '#GoBeyond',\n",
      " 'entities': {'description': {'urls': []},\n",
      "              'url': {'urls': [{'display_url': 'beyondmeat.com',\n",
      "                                'expanded_url': 'http://www.beyondmeat.com',\n",
      "                                'indices': [0, 22],\n",
      "                                'url': 'http://t.co/4ZbzGc2iMf'}]}},\n",
      " 'favourites_count': 18113,\n",
      " 'follow_request_sent': False,\n",
      " 'followers_count': 108771,\n",
      " 'following': True,\n",
      " 'friends_count': 692,\n",
      " 'geo_enabled': True,\n",
      " 'has_extended_profile': False,\n",
      " 'id': 569714177,\n",
      " 'id_str': '569714177',\n",
      " 'is_translation_enabled': False,\n",
      " 'is_translator': False,\n",
      " 'lang': None,\n",
      " 'listed_count': 1130,\n",
      " 'location': 'El Segundo, CA',\n",
      " 'name': 'Beyond Meat',\n",
      " 'notifications': False,\n",
      " 'profile_background_color': 'FAF5E2',\n",
      " 'profile_background_image_url': 'http://abs.twimg.com/images/themes/theme1/bg.png',\n",
      " 'profile_background_image_url_https': 'https://abs.twimg.com/images/themes/theme1/bg.png',\n",
      " 'profile_background_tile': False,\n",
      " 'profile_banner_url': 'https://pbs.twimg.com/profile_banners/569714177/1581011692',\n",
      " 'profile_image_url': 'http://pbs.twimg.com/profile_images/1192068749576163329/IZNzItQX_normal.jpg',\n",
      " 'profile_image_url_https': 'https://pbs.twimg.com/profile_images/1192068749576163329/IZNzItQX_normal.jpg',\n",
      " 'profile_link_color': '000000',\n",
      " 'profile_location': None,\n",
      " 'profile_sidebar_border_color': 'FFFFFF',\n",
      " 'profile_sidebar_fill_color': 'DDEEF6',\n",
      " 'profile_text_color': '333333',\n",
      " 'profile_use_background_image': True,\n",
      " 'protected': False,\n",
      " 'screen_name': 'BeyondMeat',\n",
      " 'status': {'contributors': None,\n",
      "            'coordinates': None,\n",
      "            'created_at': 'Fri Apr 24 14:17:03 +0000 2020',\n",
      "            'entities': {'hashtags': [],\n",
      "                         'symbols': [],\n",
      "                         'urls': [{'display_url': 'bit.ly/3cKJ76m',\n",
      "                                   'expanded_url': 'https://bit.ly/3cKJ76m',\n",
      "                                   'indices': [24, 47],\n",
      "                                   'url': 'https://t.co/8GdvhHRrnV'}],\n",
      "                         'user_mentions': []},\n",
      "            'favorite_count': 19,\n",
      "            'favorited': False,\n",
      "            'geo': None,\n",
      "            'id': 1253689416284921856,\n",
      "            'id_str': '1253689416284921856',\n",
      "            'in_reply_to_screen_name': 'BeyondMeat',\n",
      "            'in_reply_to_status_id': 1253689414670147585,\n",
      "            'in_reply_to_status_id_str': '1253689414670147585',\n",
      "            'in_reply_to_user_id': 569714177,\n",
      "            'in_reply_to_user_id_str': '569714177',\n",
      "            'is_quote_status': False,\n",
      "            'lang': 'en',\n",
      "            'place': None,\n",
      "            'possibly_sensitive': False,\n",
      "            'retweet_count': 7,\n",
      "            'retweeted': False,\n",
      "            'source': '<a href=\"https://mobile.twitter.com\" '\n",
      "                      'rel=\"nofollow\">Twitter Web App</a>',\n",
      "            'text': 'Join us and learn more: https://t.co/8GdvhHRrnV',\n",
      "            'truncated': False},\n",
      " 'statuses_count': 24010,\n",
      " 'time_zone': None,\n",
      " 'translator_type': 'none',\n",
      " 'url': 'http://t.co/4ZbzGc2iMf',\n",
      " 'utc_offset': None,\n",
      " 'verified': True}\n"
     ],
     "output_type": "stream"
    }
   ],
   "source": [
    "target='BeyondMeat' #'BeyondMeat'\n",
    "user = api.get_user(target) # argument = id, user_id, screen_name\n",
    "pprint(user._json)"
   ],
   "metadata": {
    "collapsed": false,
    "pycharm": {
     "name": "#%%\n",
     "is_executing": false
    }
   }
  },
  {
   "cell_type": "markdown",
   "source": [
    "Some attributes of the `user` object:"
   ],
   "metadata": {
    "collapsed": false
   }
  },
  {
   "cell_type": "code",
   "execution_count": 34,
   "outputs": [
    {
     "name": "stdout",
     "text": [
      "Name: Beyond Meat\n",
      "Screen name: BeyondMeat\n",
      "Number of followers: 108771\n",
      "\"description: Meat that's made from plants, made for meat lovers. \\n#GoBeyond\"\n",
      "'Number of tweets published: 24010'\n",
      "'friends_count: 692'\n"
     ],
     "output_type": "stream"
    }
   ],
   "source": [
    "print(\"Name:\", user.name)\n",
    "print(\"Screen name:\", user.screen_name)\n",
    "print(\"Number of followers:\" ,  user.followers_count)\n",
    "pprint(\"description: \" + user.description)\n",
    "pprint(\"Number of tweets published: \" + str(user.statuses_count))\n",
    "pprint(\"friends_count: \" + str(user.friends_count))"
   ],
   "metadata": {
    "collapsed": false,
    "pycharm": {
     "name": "#%%\n",
     "is_executing": false
    }
   }
  },
  {
   "cell_type": "markdown",
   "metadata": {
    "pycharm": {
     "name": "#%% md\n"
    }
   },
   "source": [
    "**Step 1b: continuous `y` variables** [week 2]\n",
    "- Fetching the data: \n",
    "    - if you work on the suggested idea, you can easily access daily stock prices using the [`yfinance` package](https://pypi.org/project/yfinance/)  (see below)\n",
    "    - otherwise, you can find some interesting data listed in the syllabus\n",
    "\n",
    "**Step 1c: merge `X_num` and `y`** [week 2]\n",
    "- Beware of the temporality: in the case of the proposed study on stock market prices, you will have to deal with the fact that the X is at the tweet level while `y` is daily. \n",
    "\n",
    "***Milestone 1 - March 24th*** *You can submit the previous steps as a first notebook.*\n",
    "\n",
    "**Sample split.** Do the standard 80% / 20% training/test split using all days in the data. In addition, do a separate temporal split where the training set is the first 80% of days in the time series.\n",
    "\n",
    "**For all machine learning models**, report performance measure in test and train samples.\n",
    "\n",
    "**Step 2a: estimate different regression models using `X_num` and `y`** [week 3]\n",
    "\n",
    "***Milestone 2 - March 31th***  *You can submit the previous steps as a second notebook.*\n",
    "\n",
    "**Step 3: text analysis** [week 4]\n",
    "- Featurize tweets (or another text dataset related to your subject): transform the text into a standard document-level dataset `X_doc`\n",
    "\n",
    "**Step 2b: estimate different regression models using `X_doc` and `y`** [week 3]\n",
    "\n",
    "**Step 4: estimate a classification models** [week 5]\n",
    "- propose a categorical variable `y_calc` that you can compute from the continuous one (`y`) (e.g. positive or negative growthin stock prices). For the `X` dimension, you can use `X_doc` or `X_num` or both. \n",
    "- you can use any other categorical variable that you find relevant \n",
    "\n",
    "***Milestone 3 - April 21th***  *You can submit the previous steps as a third notebook.*\n",
    "\n",
    "**Step 6: Dimension reduction** [week 6]\n",
    "- Use one of the dimension reductions methods to dimension-reduce the features\n",
    "    - PCA or topic model (LDA or STM) or k-means clustering on the featurized text `X_doc`\n",
    "- Run another classifier\n",
    "\n",
    "**Step bonus: Econometric identification** [week 8]\n",
    "- Find an exogenous shock affecting this firm (but not all the firms) and a control group of firms not affected\n",
    "    - example: a natural disaster/shock to the exchange rate/change in ownership... affects the functionning of this firm but not the other firms of the stock market index.  \n",
    "- scale up the previous data collection to the firms in the control group\n",
    "- use one of the technique studied in class to causaly identify the impact of the exogenous shock on the stock market of the affected firm\n",
    "\n",
    "***Milestone 4 - May 17th*** *You can submit the previous steps as a last notebook.*\n",
    "\n",
    "---------------------------\n",
    "**Requirement for completion grade**: \n",
    "- the homework should be done in **groups of 1 or 2 persons** \n",
    "- the homework will have to be submitted as a (Python or R) **notebooks**\n",
    "- you can give them back at the indicated **milestone** or on May 17th (no homework will be accepted after May 17th)\n",
    "- the notebooks should contain at least **three graphs** (overall)\n",
    "- each notebook should run from the beginning to then end, but:\n",
    "    - beware of paths to folders that are on your computer but not on mine\n",
    "    - if you have such a path, you can: \n",
    "        - have the data downloaded in the notebook directly\n",
    "        - import your data in a github (or any other online storage) folder that the notebook can access  \n",
    "    - indicate if the notebook takes more than 30 minutes to run\n",
    "- do not write us emails regarding the homework, ask your questions on the **forum**, it will benefit everyone for sure! \n",
    "\n",
    "---------------------------"
   ]
  }
 ],
 "metadata": {
  "kernelspec": {
   "display_name": "Python 3",
   "language": "python",
   "name": "python3"
  },
  "language_info": {
   "codemirror_mode": {
    "name": "ipython",
    "version": 3
   },
   "file_extension": ".py",
   "mimetype": "text/x-python",
   "name": "python",
   "nbconvert_exporter": "python",
   "pygments_lexer": "ipython3",
   "version": "3.7.4"
  },
  "pycharm": {
   "stem_cell": {
    "cell_type": "raw",
    "source": [],
    "metadata": {
     "collapsed": false
    }
   }
  },
  "toc": {
   "base_numbering": 1,
   "nav_menu": {},
   "number_sections": true,
   "sideBar": true,
   "skip_h1_title": false,
   "title_cell": "Table of Contents",
   "title_sidebar": "Contents",
   "toc_cell": false,
   "toc_position": {
    "height": "calc(100% - 180px)",
    "left": "10px",
    "top": "150px",
    "width": "165px"
   },
   "toc_section_display": true,
   "toc_window_display": true
  },
  "varInspector": {
   "cols": {
    "lenName": 16,
    "lenType": 16,
    "lenVar": 40
   },
   "kernels_config": {
    "python": {
     "delete_cmd_postfix": "",
     "delete_cmd_prefix": "del ",
     "library": "var_list.py",
     "varRefreshCmd": "print(var_dic_list())"
    },
    "r": {
     "delete_cmd_postfix": ") ",
     "delete_cmd_prefix": "rm(",
     "library": "var_list.r",
     "varRefreshCmd": "cat(var_dic_list()) "
    }
   },
   "types_to_exclude": [
    "module",
    "function",
    "builtin_function_or_method",
    "instance",
    "_Feature"
   ],
   "window_display": false
  }
 },
 "nbformat": 4,
 "nbformat_minor": 2
}