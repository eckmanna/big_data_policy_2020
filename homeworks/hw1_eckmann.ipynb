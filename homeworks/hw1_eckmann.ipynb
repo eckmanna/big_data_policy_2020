{
 "cells": [
  {
   "cell_type": "markdown",
   "metadata": {},
   "source": [
    "# Homeworks - Big Data and Public Policy Class"
   ]
  },
  {
   "cell_type": "code",
   "execution_count": 2,
   "metadata": {
    "pycharm": {
     "is_executing": false,
     "name": "#%%\n"
    }
   },
   "outputs": [],
   "source": [
    "from IPython.display import display\n",
    "import pandas as pd\n",
    "pd.options.display.max_columns = None # Display all columns of a dataframe\n",
    "pd.options.display.max_rows = 700\n",
    "from pprint import pprint\n",
    "import yfinance as yf\n",
    "import re"
   ]
  },
  {
   "cell_type": "markdown",
   "metadata": {},
   "source": [
    "The objective of the following homework is to **bring to practice the tools studied in class** by conducting step by step a first big data project. We advise that you do it in parallel with the lectures: the relation between the project steps and the lectures is indicated below. \n",
    "\n",
    "You will build several **machine learning models that will predict continuous and categorical variables based on data coming from webscraping and/or an API**. \n",
    "\n",
    "We propose that you predict the **daily stock price data of a large company** (of your choice) **based on the company's tweets**. You can chose a company from one of the [major stock indices](https://www.wikiwand.com/en/List_of_stock_market_indices). \n",
    "\n",
    "---------------------------\n",
    "After having decided the setting (your own or the company + corresponding timespan) that you will study, you should follow the following steps:\n",
    "\n",
    "**Step 1a: `X` variables** [week 2]\n",
    "- Fetch the data using the **twitter API** or any other API or website that you are interested in.\n",
    "- Beware of the rate limits and organize your program so as to overcome them if needed\n",
    "- The data should include some text, but might also have other interesting variables (retweets, favorites...)\n",
    "- Create some (non-text based) `X_num` variables that you will use for the prediction"
   ]
  },
  {
   "cell_type": "code",
   "execution_count": 15,
   "metadata": {
    "pycharm": {
     "is_executing": false,
     "name": "#%%\n"
    }
   },
   "outputs": [],
   "source": [
    "#this you get when you make create an application on twitter as a dev\n",
    "consumer_key=\"7X8q1LteL1qOLRg4DSoiI0lyk\"\n",
    "consumer_secret=\"Bb08vV5XoxDEP4SGLJfkvEpuwvxEDvzVSRGTptzQCjC9XVmquP\"\n",
    "access_token=\"1230145588659998721-EQb8DoMYnorBtqAuEPMZtZcXumzuAe\"\n",
    "access_token_secret=\"mzurpOu1LWhj0NU9pctgYZ6OBzhQvyqw8hvRNpe3yI4Qc\""
   ]
  },
  {
   "cell_type": "markdown",
   "metadata": {},
   "source": [
    "## Accessing the Twitter API using `tweepy`"
   ]
  },
  {
   "cell_type": "markdown",
   "metadata": {},
   "source": [
    "We use the `tweepy` package (documentation: https://tweepy.readthedocs.io/en/latest/). Tweepy is an *An easy-to-use Python library for accessing the Twitter API.*\n",
    "\n",
    "R users can use [rtweet](https://rtweet.info/), a similar package. "
   ]
  },
  {
   "cell_type": "markdown",
   "metadata": {},
   "source": [
    "Twitter requires all requests to use `OAuth` for authentication"
   ]
  },
  {
   "cell_type": "code",
   "execution_count": 16,
   "metadata": {
    "pycharm": {
     "is_executing": false,
     "name": "#%%\n"
    }
   },
   "outputs": [],
   "source": [
    "import tweepy\n",
    "from tweepy import OAuthHandler"
   ]
  },
  {
   "cell_type": "markdown",
   "metadata": {},
   "source": [
    "Authenticate to Twitter"
   ]
  },
  {
   "cell_type": "code",
   "execution_count": 17,
   "metadata": {
    "pycharm": {
     "is_executing": false,
     "name": "#%%\n"
    }
   },
   "outputs": [],
   "source": [
    "auth = OAuthHandler(consumer_key, consumer_secret) #creating an OAuthHandler instance\n",
    "auth.set_access_token(access_token, access_token_secret)\n",
    "api = tweepy.API(auth, wait_on_rate_limit=True, wait_on_rate_limit_notify=True)"
   ]
  },
  {
   "cell_type": "markdown",
   "metadata": {},
   "source": [
    "We specify `wait_on_rate_limit_notify==True` & `wait_on_rate_limit=True`. The API method will wait once you’ve reached your rate limit and prints out a message"
   ]
  },
  {
   "cell_type": "code",
   "execution_count": 23,
   "metadata": {
    "pycharm": {
     "is_executing": false,
     "name": "#%%\n"
    }
   },
   "outputs": [
    {
     "name": "stdout",
     "output_type": "stream",
     "text": [
      "Authentication OK\n"
     ]
    }
   ],
   "source": [
    "# test authentication\n",
    "try:\n",
    "    api.verify_credentials()\n",
    "    print(\"Authentication OK\")\n",
    "except:\n",
    "    print(\"Error during authentication\")"
   ]
  },
  {
   "cell_type": "markdown",
   "metadata": {},
   "source": [
    "For an extensive list of the methods available, see the [API Reference page](https://tweepy.readthedocs.io/en/latest/api.html#api-reference). There are several types of methods. The following methods enable you to access twitter content:\n",
    "- Timeline methods return a list of  `status` objects\n",
    "- Status methods return a `status` object\n",
    "- User methods return `user` object or a list of `user` objects. \n",
    "- Favorite methods: return a list of  `status` objects\n",
    "\n",
    "For some methods, you can interact with twitter:\n",
    "- Friendship Methods return a `user` object, by example:\n",
    "    - `create_friendship`: creates a new friendship with the specified user ()\n",
    "    \n",
    "Let's review some useful methods:"
   ]
  },
  {
   "cell_type": "markdown",
   "metadata": {},
   "source": [
    "### Methods returning a `status` object (or a list of objects)\n",
    "#### Search method\n",
    "If you seeking Twitter data to get conversations on a particular topic. This method returns a collection of relevant Tweets matching a specified query for all public tweets."
   ]
  },
  {
   "cell_type": "code",
   "execution_count": 24,
   "metadata": {
    "pycharm": {
     "is_executing": false,
     "name": "#%%\n"
    }
   },
   "outputs": [
    {
     "name": "stdout",
     "output_type": "stream",
     "text": [
      "RT @livekindlyco: Are you ready to try the new @BeyondMeat and @Starbucks  #vegan meat?\n",
      "https://t.co/Hpf9J9AbAO\n",
      "Beyond Meat $BYND shares soared another 9% on Friday, ending the week up more than 42%. That would be the biggest w… https://t.co/eslXC1Gh3z\n",
      "RT @livekindlyco: Are you ready to try the new @BeyondMeat and @Starbucks  #vegan meat?\n",
      "https://t.co/Hpf9J9AbAO\n",
      "RT @business: The growing threat of a meat shortage is helping to lift shares of plant-based protein manufacturer Beyond Meat https://t.co/…\n",
      "@WTAE Don’t worry, the shelves will be full of Al Gores meatless meat! He going to make billions from Beyond Meat. https://t.co/pktIV56tPB\n",
      "Dozens of articles about meat shortages, and contaminated meat plants around the world.  Maybe McDonalds inks a Bey… https://t.co/tGvTxOCrZt\n",
      "🙄chipotle need to get beyond meat\n",
      "@BethBombara @gizellie I made a breakfast sandwich too! Tofu, Beyond Meat sausage, and vegan mayo on whole wheat. https://t.co/5OmBTx9Lu2\n",
      "@Slab2DaBone It’s been 4 months. I’m starting to include beyond meat cause im getting burnt out with fish but I def… https://t.co/NMW1DVtjAQ\n",
      "Are you ready to try the new @BeyondMeat and @Starbucks  #vegan meat?\n",
      "https://t.co/Hpf9J9AbAO\n",
      "RT @CNNBusiness: Starbucks is teaming up with oat milk maker Oatly and plant-based protein companies Beyond Meat and Omnipork in mainland C…\n",
      "Beyond Meat stock price soars amid fear of a coronavirus beef and pork shortage https://t.co/dhSrLLZtd1\n",
      "Why I Bought Beyond Meat Stock Now @themotleyfool #stocks $BYND https://t.co/flWj5p3EI4\n",
      "Beyond Meat stock price soars amid fear of a coronavirus beef and pork shortage https://t.co/ZEUJjrzWKu\n",
      "RT @inthesetimesmag: High-tech fake meat giants are more interested in making a quick buck than mitigating climate change. https://t.co/MDE…\n"
     ]
    }
   ],
   "source": [
    "# most recent tweets about Beyond Meat \n",
    "tweets = api.search(q=\"Beyond Meat\", lang=\"en\") # TODO: How is it set to recent tweets?\n",
    "for tweet in tweets:\n",
    "    print(tweet.text) # printing the first tweet"
   ]
  },
  {
   "cell_type": "markdown",
   "metadata": {},
   "source": [
    "The `status` object:"
   ]
  },
  {
   "cell_type": "code",
   "execution_count": 35,
   "metadata": {
    "pycharm": {
     "is_executing": false,
     "name": "#%%\n"
    }
   },
   "outputs": [
    {
     "name": "stdout",
     "text": [
      "Status(_api=<tweepy.api.API object at 0x000001EFF3956E08>, _json={'created_at': 'Sun Apr 26 14:19:22 +0000 2020', 'id': 1254414771706834945, 'id_str': '1254414771706834945', 'text': 'RT @livekindlyco: Are you ready to try the new @BeyondMeat and @Starbucks  #vegan meat?\\nhttps://t.co/Hpf9J9AbAO', 'truncated': False, 'entities': {'hashtags': [{'text': 'vegan', 'indices': [75, 81]}], 'symbols': [], 'user_mentions': [{'screen_name': 'livekindlyco', 'name': 'LIVEKINDLY', 'id': 861093449080033281, 'id_str': '861093449080033281', 'indices': [3, 16]}, {'screen_name': 'BeyondMeat', 'name': 'Beyond Meat', 'id': 569714177, 'id_str': '569714177', 'indices': [47, 58]}, {'screen_name': 'Starbucks', 'name': 'Starbucks Coffee', 'id': 30973, 'id_str': '30973', 'indices': [63, 73]}], 'urls': [{'url': 'https://t.co/Hpf9J9AbAO', 'expanded_url': 'https://bit.ly/3cKUuuQ', 'display_url': 'bit.ly/3cKUuuQ', 'indices': [88, 111]}]}, 'metadata': {'iso_language_code': 'en', 'result_type': 'recent'}, 'source': '<a href=\"http://twitter.com/download/android\" rel=\"nofollow\">Twitter for Android</a>', 'in_reply_to_status_id': None, 'in_reply_to_status_id_str': None, 'in_reply_to_user_id': None, 'in_reply_to_user_id_str': None, 'in_reply_to_screen_name': None, 'user': {'id': 3658319661, 'id_str': '3658319661', 'name': 'Tiffany Kehoe Ⓥ', 'screen_name': 'tiffylovesgucci', 'location': 'Cleveland, OH', 'description': \"“Animals are my friends...and I don't eat my friends.” \\n― George Bernard Shaw\", 'url': None, 'entities': {'description': {'urls': []}}, 'protected': False, 'followers_count': 861, 'friends_count': 1096, 'listed_count': 23, 'created_at': 'Tue Sep 15 00:26:14 +0000 2015', 'favourites_count': 46450, 'utc_offset': None, 'time_zone': None, 'geo_enabled': False, 'verified': False, 'statuses_count': 17463, 'lang': None, 'contributors_enabled': False, 'is_translator': False, 'is_translation_enabled': False, 'profile_background_color': '000000', 'profile_background_image_url': 'http://abs.twimg.com/images/themes/theme1/bg.png', 'profile_background_image_url_https': 'https://abs.twimg.com/images/themes/theme1/bg.png', 'profile_background_tile': False, 'profile_image_url': 'http://pbs.twimg.com/profile_images/1002899236705497090/Y_mJkmtP_normal.jpg', 'profile_image_url_https': 'https://pbs.twimg.com/profile_images/1002899236705497090/Y_mJkmtP_normal.jpg', 'profile_banner_url': 'https://pbs.twimg.com/profile_banners/3658319661/1471395448', 'profile_link_color': 'F5ABB5', 'profile_sidebar_border_color': '000000', 'profile_sidebar_fill_color': '000000', 'profile_text_color': '000000', 'profile_use_background_image': False, 'has_extended_profile': False, 'default_profile': False, 'default_profile_image': False, 'following': False, 'follow_request_sent': False, 'notifications': False, 'translator_type': 'none'}, 'geo': None, 'coordinates': None, 'place': None, 'contributors': None, 'retweeted_status': {'created_at': 'Sun Apr 26 14:00:20 +0000 2020', 'id': 1254409981799129089, 'id_str': '1254409981799129089', 'text': 'Are you ready to try the new @BeyondMeat and @Starbucks  #vegan meat?\\nhttps://t.co/Hpf9J9AbAO', 'truncated': False, 'entities': {'hashtags': [{'text': 'vegan', 'indices': [57, 63]}], 'symbols': [], 'user_mentions': [{'screen_name': 'BeyondMeat', 'name': 'Beyond Meat', 'id': 569714177, 'id_str': '569714177', 'indices': [29, 40]}, {'screen_name': 'Starbucks', 'name': 'Starbucks Coffee', 'id': 30973, 'id_str': '30973', 'indices': [45, 55]}], 'urls': [{'url': 'https://t.co/Hpf9J9AbAO', 'expanded_url': 'https://bit.ly/3cKUuuQ', 'display_url': 'bit.ly/3cKUuuQ', 'indices': [70, 93]}]}, 'metadata': {'iso_language_code': 'en', 'result_type': 'recent'}, 'source': '<a href=\"https://sproutsocial.com\" rel=\"nofollow\">Sprout Social</a>', 'in_reply_to_status_id': None, 'in_reply_to_status_id_str': None, 'in_reply_to_user_id': None, 'in_reply_to_user_id_str': None, 'in_reply_to_screen_name': None, 'user': {'id': 861093449080033281, 'id_str': '861093449080033281', 'name': 'LIVEKINDLY', 'screen_name': 'livekindlyco', 'location': 'Vancouver', 'description': 'For our humanity, our home, and those who share it with us.', 'url': 'https://t.co/7XrS8hLmIG', 'entities': {'url': {'urls': [{'url': 'https://t.co/7XrS8hLmIG', 'expanded_url': 'https://www.livekindly.co', 'display_url': 'livekindly.co', 'indices': [0, 23]}]}, 'description': {'urls': []}}, 'protected': False, 'followers_count': 26424, 'friends_count': 4857, 'listed_count': 225, 'created_at': 'Sun May 07 05:40:51 +0000 2017', 'favourites_count': 30529, 'utc_offset': None, 'time_zone': None, 'geo_enabled': False, 'verified': False, 'statuses_count': 40814, 'lang': None, 'contributors_enabled': False, 'is_translator': False, 'is_translation_enabled': False, 'profile_background_color': '000000', 'profile_background_image_url': 'http://abs.twimg.com/images/themes/theme1/bg.png', 'profile_background_image_url_https': 'https://abs.twimg.com/images/themes/theme1/bg.png', 'profile_background_tile': False, 'profile_image_url': 'http://pbs.twimg.com/profile_images/1032721467274756096/QShmP4IM_normal.jpg', 'profile_image_url_https': 'https://pbs.twimg.com/profile_images/1032721467274756096/QShmP4IM_normal.jpg', 'profile_banner_url': 'https://pbs.twimg.com/profile_banners/861093449080033281/1548717090', 'profile_link_color': '4C5C55', 'profile_sidebar_border_color': '000000', 'profile_sidebar_fill_color': '000000', 'profile_text_color': '000000', 'profile_use_background_image': False, 'has_extended_profile': True, 'default_profile': False, 'default_profile_image': False, 'following': False, 'follow_request_sent': False, 'notifications': False, 'translator_type': 'none'}, 'geo': None, 'coordinates': None, 'place': None, 'contributors': None, 'is_quote_status': False, 'retweet_count': 3, 'favorite_count': 7, 'favorited': False, 'retweeted': False, 'possibly_sensitive': False, 'lang': 'en'}, 'is_quote_status': False, 'retweet_count': 3, 'favorite_count': 0, 'favorited': False, 'retweeted': False, 'possibly_sensitive': False, 'lang': 'en'}, created_at=datetime.datetime(2020, 4, 26, 14, 19, 22), id=1254414771706834945, id_str='1254414771706834945', text='RT @livekindlyco: Are you ready to try the new @BeyondMeat and @Starbucks  #vegan meat?\\nhttps://t.co/Hpf9J9AbAO', truncated=False, entities={'hashtags': [{'text': 'vegan', 'indices': [75, 81]}], 'symbols': [], 'user_mentions': [{'screen_name': 'livekindlyco', 'name': 'LIVEKINDLY', 'id': 861093449080033281, 'id_str': '861093449080033281', 'indices': [3, 16]}, {'screen_name': 'BeyondMeat', 'name': 'Beyond Meat', 'id': 569714177, 'id_str': '569714177', 'indices': [47, 58]}, {'screen_name': 'Starbucks', 'name': 'Starbucks Coffee', 'id': 30973, 'id_str': '30973', 'indices': [63, 73]}], 'urls': [{'url': 'https://t.co/Hpf9J9AbAO', 'expanded_url': 'https://bit.ly/3cKUuuQ', 'display_url': 'bit.ly/3cKUuuQ', 'indices': [88, 111]}]}, metadata={'iso_language_code': 'en', 'result_type': 'recent'}, source='Twitter for Android', source_url='http://twitter.com/download/android', in_reply_to_status_id=None, in_reply_to_status_id_str=None, in_reply_to_user_id=None, in_reply_to_user_id_str=None, in_reply_to_screen_name=None, author=User(_api=<tweepy.api.API object at 0x000001EFF3956E08>, _json={'id': 3658319661, 'id_str': '3658319661', 'name': 'Tiffany Kehoe Ⓥ', 'screen_name': 'tiffylovesgucci', 'location': 'Cleveland, OH', 'description': \"“Animals are my friends...and I don't eat my friends.” \\n― George Bernard Shaw\", 'url': None, 'entities': {'description': {'urls': []}}, 'protected': False, 'followers_count': 861, 'friends_count': 1096, 'listed_count': 23, 'created_at': 'Tue Sep 15 00:26:14 +0000 2015', 'favourites_count': 46450, 'utc_offset': None, 'time_zone': None, 'geo_enabled': False, 'verified': False, 'statuses_count': 17463, 'lang': None, 'contributors_enabled': False, 'is_translator': False, 'is_translation_enabled': False, 'profile_background_color': '000000', 'profile_background_image_url': 'http://abs.twimg.com/images/themes/theme1/bg.png', 'profile_background_image_url_https': 'https://abs.twimg.com/images/themes/theme1/bg.png', 'profile_background_tile': False, 'profile_image_url': 'http://pbs.twimg.com/profile_images/1002899236705497090/Y_mJkmtP_normal.jpg', 'profile_image_url_https': 'https://pbs.twimg.com/profile_images/1002899236705497090/Y_mJkmtP_normal.jpg', 'profile_banner_url': 'https://pbs.twimg.com/profile_banners/3658319661/1471395448', 'profile_link_color': 'F5ABB5', 'profile_sidebar_border_color': '000000', 'profile_sidebar_fill_color': '000000', 'profile_text_color': '000000', 'profile_use_background_image': False, 'has_extended_profile': False, 'default_profile': False, 'default_profile_image': False, 'following': False, 'follow_request_sent': False, 'notifications': False, 'translator_type': 'none'}, id=3658319661, id_str='3658319661', name='Tiffany Kehoe Ⓥ', screen_name='tiffylovesgucci', location='Cleveland, OH', description=\"“Animals are my friends...and I don't eat my friends.” \\n― George Bernard Shaw\", url=None, entities={'description': {'urls': []}}, protected=False, followers_count=861, friends_count=1096, listed_count=23, created_at=datetime.datetime(2015, 9, 15, 0, 26, 14), favourites_count=46450, utc_offset=None, time_zone=None, geo_enabled=False, verified=False, statuses_count=17463, lang=None, contributors_enabled=False, is_translator=False, is_translation_enabled=False, profile_background_color='000000', profile_background_image_url='http://abs.twimg.com/images/themes/theme1/bg.png', profile_background_image_url_https='https://abs.twimg.com/images/themes/theme1/bg.png', profile_background_tile=False, profile_image_url='http://pbs.twimg.com/profile_images/1002899236705497090/Y_mJkmtP_normal.jpg', profile_image_url_https='https://pbs.twimg.com/profile_images/1002899236705497090/Y_mJkmtP_normal.jpg', profile_banner_url='https://pbs.twimg.com/profile_banners/3658319661/1471395448', profile_link_color='F5ABB5', profile_sidebar_border_color='000000', profile_sidebar_fill_color='000000', profile_text_color='000000', profile_use_background_image=False, has_extended_profile=False, default_profile=False, default_profile_image=False, following=False, follow_request_sent=False, notifications=False, translator_type='none'), user=User(_api=<tweepy.api.API object at 0x000001EFF3956E08>, _json={'id': 3658319661, 'id_str': '3658319661', 'name': 'Tiffany Kehoe Ⓥ', 'screen_name': 'tiffylovesgucci', 'location': 'Cleveland, OH', 'description': \"“Animals are my friends...and I don't eat my friends.” \\n― George Bernard Shaw\", 'url': None, 'entities': {'description': {'urls': []}}, 'protected': False, 'followers_count': 861, 'friends_count': 1096, 'listed_count': 23, 'created_at': 'Tue Sep 15 00:26:14 +0000 2015', 'favourites_count': 46450, 'utc_offset': None, 'time_zone': None, 'geo_enabled': False, 'verified': False, 'statuses_count': 17463, 'lang': None, 'contributors_enabled': False, 'is_translator': False, 'is_translation_enabled': False, 'profile_background_color': '000000', 'profile_background_image_url': 'http://abs.twimg.com/images/themes/theme1/bg.png', 'profile_background_image_url_https': 'https://abs.twimg.com/images/themes/theme1/bg.png', 'profile_background_tile': False, 'profile_image_url': 'http://pbs.twimg.com/profile_images/1002899236705497090/Y_mJkmtP_normal.jpg', 'profile_image_url_https': 'https://pbs.twimg.com/profile_images/1002899236705497090/Y_mJkmtP_normal.jpg', 'profile_banner_url': 'https://pbs.twimg.com/profile_banners/3658319661/1471395448', 'profile_link_color': 'F5ABB5', 'profile_sidebar_border_color': '000000', 'profile_sidebar_fill_color': '000000', 'profile_text_color': '000000', 'profile_use_background_image': False, 'has_extended_profile': False, 'default_profile': False, 'default_profile_image': False, 'following': False, 'follow_request_sent': False, 'notifications': False, 'translator_type': 'none'}, id=3658319661, id_str='3658319661', name='Tiffany Kehoe Ⓥ', screen_name='tiffylovesgucci', location='Cleveland, OH', description=\"“Animals are my friends...and I don't eat my friends.” \\n― George Bernard Shaw\", url=None, entities={'description': {'urls': []}}, protected=False, followers_count=861, friends_count=1096, listed_count=23, created_at=datetime.datetime(2015, 9, 15, 0, 26, 14), favourites_count=46450, utc_offset=None, time_zone=None, geo_enabled=False, verified=False, statuses_count=17463, lang=None, contributors_enabled=False, is_translator=False, is_translation_enabled=False, profile_background_color='000000', profile_background_image_url='http://abs.twimg.com/images/themes/theme1/bg.png', profile_background_image_url_https='https://abs.twimg.com/images/themes/theme1/bg.png', profile_background_tile=False, profile_image_url='http://pbs.twimg.com/profile_images/1002899236705497090/Y_mJkmtP_normal.jpg', profile_image_url_https='https://pbs.twimg.com/profile_images/1002899236705497090/Y_mJkmtP_normal.jpg', profile_banner_url='https://pbs.twimg.com/profile_banners/3658319661/1471395448', profile_link_color='F5ABB5', profile_sidebar_border_color='000000', profile_sidebar_fill_color='000000', profile_text_color='000000', profile_use_background_image=False, has_extended_profile=False, default_profile=False, default_profile_image=False, following=False, follow_request_sent=False, notifications=False, translator_type='none'), geo=None, coordinates=None, place=None, contributors=None, retweeted_status=Status(_api=<tweepy.api.API object at 0x000001EFF3956E08>, _json={'created_at': 'Sun Apr 26 14:00:20 +0000 2020', 'id': 1254409981799129089, 'id_str': '1254409981799129089', 'text': 'Are you ready to try the new @BeyondMeat and @Starbucks  #vegan meat?\\nhttps://t.co/Hpf9J9AbAO', 'truncated': False, 'entities': {'hashtags': [{'text': 'vegan', 'indices': [57, 63]}], 'symbols': [], 'user_mentions': [{'screen_name': 'BeyondMeat', 'name': 'Beyond Meat', 'id': 569714177, 'id_str': '569714177', 'indices': [29, 40]}, {'screen_name': 'Starbucks', 'name': 'Starbucks Coffee', 'id': 30973, 'id_str': '30973', 'indices': [45, 55]}], 'urls': [{'url': 'https://t.co/Hpf9J9AbAO', 'expanded_url': 'https://bit.ly/3cKUuuQ', 'display_url': 'bit.ly/3cKUuuQ', 'indices': [70, 93]}]}, 'metadata': {'iso_language_code': 'en', 'result_type': 'recent'}, 'source': '<a href=\"https://sproutsocial.com\" rel=\"nofollow\">Sprout Social</a>', 'in_reply_to_status_id': None, 'in_reply_to_status_id_str': None, 'in_reply_to_user_id': None, 'in_reply_to_user_id_str': None, 'in_reply_to_screen_name': None, 'user': {'id': 861093449080033281, 'id_str': '861093449080033281', 'name': 'LIVEKINDLY', 'screen_name': 'livekindlyco', 'location': 'Vancouver', 'description': 'For our humanity, our home, and those who share it with us.', 'url': 'https://t.co/7XrS8hLmIG', 'entities': {'url': {'urls': [{'url': 'https://t.co/7XrS8hLmIG', 'expanded_url': 'https://www.livekindly.co', 'display_url': 'livekindly.co', 'indices': [0, 23]}]}, 'description': {'urls': []}}, 'protected': False, 'followers_count': 26424, 'friends_count': 4857, 'listed_count': 225, 'created_at': 'Sun May 07 05:40:51 +0000 2017', 'favourites_count': 30529, 'utc_offset': None, 'time_zone': None, 'geo_enabled': False, 'verified': False, 'statuses_count': 40814, 'lang': None, 'contributors_enabled': False, 'is_translator': False, 'is_translation_enabled': False, 'profile_background_color': '000000', 'profile_background_image_url': 'http://abs.twimg.com/images/themes/theme1/bg.png', 'profile_background_image_url_https': 'https://abs.twimg.com/images/themes/theme1/bg.png', 'profile_background_tile': False, 'profile_image_url': 'http://pbs.twimg.com/profile_images/1032721467274756096/QShmP4IM_normal.jpg', 'profile_image_url_https': 'https://pbs.twimg.com/profile_images/1032721467274756096/QShmP4IM_normal.jpg', 'profile_banner_url': 'https://pbs.twimg.com/profile_banners/861093449080033281/1548717090', 'profile_link_color': '4C5C55', 'profile_sidebar_border_color': '000000', 'profile_sidebar_fill_color': '000000', 'profile_text_color': '000000', 'profile_use_background_image': False, 'has_extended_profile': True, 'default_profile': False, 'default_profile_image': False, 'following': False, 'follow_request_sent': False, 'notifications': False, 'translator_type': 'none'}, 'geo': None, 'coordinates': None, 'place': None, 'contributors': None, 'is_quote_status': False, 'retweet_count': 3, 'favorite_count': 7, 'favorited': False, 'retweeted': False, 'possibly_sensitive': False, 'lang': 'en'}, created_at=datetime.datetime(2020, 4, 26, 14, 0, 20), id=1254409981799129089, id_str='1254409981799129089', text='Are you ready to try the new @BeyondMeat and @Starbucks  #vegan meat?\\nhttps://t.co/Hpf9J9AbAO', truncated=False, entities={'hashtags': [{'text': 'vegan', 'indices': [57, 63]}], 'symbols': [], 'user_mentions': [{'screen_name': 'BeyondMeat', 'name': 'Beyond Meat', 'id': 569714177, 'id_str': '569714177', 'indices': [29, 40]}, {'screen_name': 'Starbucks', 'name': 'Starbucks Coffee', 'id': 30973, 'id_str': '30973', 'indices': [45, 55]}], 'urls': [{'url': 'https://t.co/Hpf9J9AbAO', 'expanded_url': 'https://bit.ly/3cKUuuQ', 'display_url': 'bit.ly/3cKUuuQ', 'indices': [70, 93]}]}, metadata={'iso_language_code': 'en', 'result_type': 'recent'}, source='Sprout Social', source_url='https://sproutsocial.com', in_reply_to_status_id=None, in_reply_to_status_id_str=None, in_reply_to_user_id=None, in_reply_to_user_id_str=None, in_reply_to_screen_name=None, author=User(_api=<tweepy.api.API object at 0x000001EFF3956E08>, _json={'id': 861093449080033281, 'id_str': '861093449080033281', 'name': 'LIVEKINDLY', 'screen_name': 'livekindlyco', 'location': 'Vancouver', 'description': 'For our humanity, our home, and those who share it with us.', 'url': 'https://t.co/7XrS8hLmIG', 'entities': {'url': {'urls': [{'url': 'https://t.co/7XrS8hLmIG', 'expanded_url': 'https://www.livekindly.co', 'display_url': 'livekindly.co', 'indices': [0, 23]}]}, 'description': {'urls': []}}, 'protected': False, 'followers_count': 26424, 'friends_count': 4857, 'listed_count': 225, 'created_at': 'Sun May 07 05:40:51 +0000 2017', 'favourites_count': 30529, 'utc_offset': None, 'time_zone': None, 'geo_enabled': False, 'verified': False, 'statuses_count': 40814, 'lang': None, 'contributors_enabled': False, 'is_translator': False, 'is_translation_enabled': False, 'profile_background_color': '000000', 'profile_background_image_url': 'http://abs.twimg.com/images/themes/theme1/bg.png', 'profile_background_image_url_https': 'https://abs.twimg.com/images/themes/theme1/bg.png', 'profile_background_tile': False, 'profile_image_url': 'http://pbs.twimg.com/profile_images/1032721467274756096/QShmP4IM_normal.jpg', 'profile_image_url_https': 'https://pbs.twimg.com/profile_images/1032721467274756096/QShmP4IM_normal.jpg', 'profile_banner_url': 'https://pbs.twimg.com/profile_banners/861093449080033281/1548717090', 'profile_link_color': '4C5C55', 'profile_sidebar_border_color': '000000', 'profile_sidebar_fill_color': '000000', 'profile_text_color': '000000', 'profile_use_background_image': False, 'has_extended_profile': True, 'default_profile': False, 'default_profile_image': False, 'following': False, 'follow_request_sent': False, 'notifications': False, 'translator_type': 'none'}, id=861093449080033281, id_str='861093449080033281', name='LIVEKINDLY', screen_name='livekindlyco', location='Vancouver', description='For our humanity, our home, and those who share it with us.', url='https://t.co/7XrS8hLmIG', entities={'url': {'urls': [{'url': 'https://t.co/7XrS8hLmIG', 'expanded_url': 'https://www.livekindly.co', 'display_url': 'livekindly.co', 'indices': [0, 23]}]}, 'description': {'urls': []}}, protected=False, followers_count=26424, friends_count=4857, listed_count=225, created_at=datetime.datetime(2017, 5, 7, 5, 40, 51), favourites_count=30529, utc_offset=None, time_zone=None, geo_enabled=False, verified=False, statuses_count=40814, lang=None, contributors_enabled=False, is_translator=False, is_translation_enabled=False, profile_background_color='000000', profile_background_image_url='http://abs.twimg.com/images/themes/theme1/bg.png', profile_background_image_url_https='https://abs.twimg.com/images/themes/theme1/bg.png', profile_background_tile=False, profile_image_url='http://pbs.twimg.com/profile_images/1032721467274756096/QShmP4IM_normal.jpg', profile_image_url_https='https://pbs.twimg.com/profile_images/1032721467274756096/QShmP4IM_normal.jpg', profile_banner_url='https://pbs.twimg.com/profile_banners/861093449080033281/1548717090', profile_link_color='4C5C55', profile_sidebar_border_color='000000', profile_sidebar_fill_color='000000', profile_text_color='000000', profile_use_background_image=False, has_extended_profile=True, default_profile=False, default_profile_image=False, following=False, follow_request_sent=False, notifications=False, translator_type='none'), user=User(_api=<tweepy.api.API object at 0x000001EFF3956E08>, _json={'id': 861093449080033281, 'id_str': '861093449080033281', 'name': 'LIVEKINDLY', 'screen_name': 'livekindlyco', 'location': 'Vancouver', 'description': 'For our humanity, our home, and those who share it with us.', 'url': 'https://t.co/7XrS8hLmIG', 'entities': {'url': {'urls': [{'url': 'https://t.co/7XrS8hLmIG', 'expanded_url': 'https://www.livekindly.co', 'display_url': 'livekindly.co', 'indices': [0, 23]}]}, 'description': {'urls': []}}, 'protected': False, 'followers_count': 26424, 'friends_count': 4857, 'listed_count': 225, 'created_at': 'Sun May 07 05:40:51 +0000 2017', 'favourites_count': 30529, 'utc_offset': None, 'time_zone': None, 'geo_enabled': False, 'verified': False, 'statuses_count': 40814, 'lang': None, 'contributors_enabled': False, 'is_translator': False, 'is_translation_enabled': False, 'profile_background_color': '000000', 'profile_background_image_url': 'http://abs.twimg.com/images/themes/theme1/bg.png', 'profile_background_image_url_https': 'https://abs.twimg.com/images/themes/theme1/bg.png', 'profile_background_tile': False, 'profile_image_url': 'http://pbs.twimg.com/profile_images/1032721467274756096/QShmP4IM_normal.jpg', 'profile_image_url_https': 'https://pbs.twimg.com/profile_images/1032721467274756096/QShmP4IM_normal.jpg', 'profile_banner_url': 'https://pbs.twimg.com/profile_banners/861093449080033281/1548717090', 'profile_link_color': '4C5C55', 'profile_sidebar_border_color': '000000', 'profile_sidebar_fill_color': '000000', 'profile_text_color': '000000', 'profile_use_background_image': False, 'has_extended_profile': True, 'default_profile': False, 'default_profile_image': False, 'following': False, 'follow_request_sent': False, 'notifications': False, 'translator_type': 'none'}, id=861093449080033281, id_str='861093449080033281', name='LIVEKINDLY', screen_name='livekindlyco', location='Vancouver', description='For our humanity, our home, and those who share it with us.', url='https://t.co/7XrS8hLmIG', entities={'url': {'urls': [{'url': 'https://t.co/7XrS8hLmIG', 'expanded_url': 'https://www.livekindly.co', 'display_url': 'livekindly.co', 'indices': [0, 23]}]}, 'description': {'urls': []}}, protected=False, followers_count=26424, friends_count=4857, listed_count=225, created_at=datetime.datetime(2017, 5, 7, 5, 40, 51), favourites_count=30529, utc_offset=None, time_zone=None, geo_enabled=False, verified=False, statuses_count=40814, lang=None, contributors_enabled=False, is_translator=False, is_translation_enabled=False, profile_background_color='000000', profile_background_image_url='http://abs.twimg.com/images/themes/theme1/bg.png', profile_background_image_url_https='https://abs.twimg.com/images/themes/theme1/bg.png', profile_background_tile=False, profile_image_url='http://pbs.twimg.com/profile_images/1032721467274756096/QShmP4IM_normal.jpg', profile_image_url_https='https://pbs.twimg.com/profile_images/1032721467274756096/QShmP4IM_normal.jpg', profile_banner_url='https://pbs.twimg.com/profile_banners/861093449080033281/1548717090', profile_link_color='4C5C55', profile_sidebar_border_color='000000', profile_sidebar_fill_color='000000', profile_text_color='000000', profile_use_background_image=False, has_extended_profile=True, default_profile=False, default_profile_image=False, following=False, follow_request_sent=False, notifications=False, translator_type='none'), geo=None, coordinates=None, place=None, contributors=None, is_quote_status=False, retweet_count=3, favorite_count=7, favorited=False, retweeted=False, possibly_sensitive=False, lang='en'), is_quote_status=False, retweet_count=3, favorite_count=0, favorited=False, retweeted=False, possibly_sensitive=False, lang='en')\n"
     ],
     "output_type": "stream"
    }
   ],
   "source": [
    "pprint(tweets[0]) # for the first tweet"
   ]
  },
  {
   "cell_type": "code",
   "execution_count": 26,
   "metadata": {
    "pycharm": {
     "is_executing": false,
     "name": "#%%\n"
    }
   },
   "outputs": [
    {
     "name": "stdout",
     "output_type": "stream",
     "text": [
      "<tweepy.api.API object at 0x000001EFF3956E08>\n"
     ]
    }
   ],
   "source": [
    "pprint(tweets[0]._api) # for the first tweet"
   ]
  },
  {
   "cell_type": "code",
   "execution_count": 27,
   "metadata": {
    "pycharm": {
     "is_executing": false,
     "name": "#%%\n"
    }
   },
   "outputs": [
    {
     "name": "stdout",
     "output_type": "stream",
     "text": [
      "{'contributors': None,\n",
      " 'coordinates': None,\n",
      " 'created_at': 'Sun Apr 26 14:19:22 +0000 2020',\n",
      " 'entities': {'hashtags': [{'indices': [75, 81], 'text': 'vegan'}],\n",
      "              'symbols': [],\n",
      "              'urls': [{'display_url': 'bit.ly/3cKUuuQ',\n",
      "                        'expanded_url': 'https://bit.ly/3cKUuuQ',\n",
      "                        'indices': [88, 111],\n",
      "                        'url': 'https://t.co/Hpf9J9AbAO'}],\n",
      "              'user_mentions': [{'id': 861093449080033281,\n",
      "                                 'id_str': '861093449080033281',\n",
      "                                 'indices': [3, 16],\n",
      "                                 'name': 'LIVEKINDLY',\n",
      "                                 'screen_name': 'livekindlyco'},\n",
      "                                {'id': 569714177,\n",
      "                                 'id_str': '569714177',\n",
      "                                 'indices': [47, 58],\n",
      "                                 'name': 'Beyond Meat',\n",
      "                                 'screen_name': 'BeyondMeat'},\n",
      "                                {'id': 30973,\n",
      "                                 'id_str': '30973',\n",
      "                                 'indices': [63, 73],\n",
      "                                 'name': 'Starbucks Coffee',\n",
      "                                 'screen_name': 'Starbucks'}]},\n",
      " 'favorite_count': 0,\n",
      " 'favorited': False,\n",
      " 'geo': None,\n",
      " 'id': 1254414771706834945,\n",
      " 'id_str': '1254414771706834945',\n",
      " 'in_reply_to_screen_name': None,\n",
      " 'in_reply_to_status_id': None,\n",
      " 'in_reply_to_status_id_str': None,\n",
      " 'in_reply_to_user_id': None,\n",
      " 'in_reply_to_user_id_str': None,\n",
      " 'is_quote_status': False,\n",
      " 'lang': 'en',\n",
      " 'metadata': {'iso_language_code': 'en', 'result_type': 'recent'},\n",
      " 'place': None,\n",
      " 'possibly_sensitive': False,\n",
      " 'retweet_count': 3,\n",
      " 'retweeted': False,\n",
      " 'retweeted_status': {'contributors': None,\n",
      "                      'coordinates': None,\n",
      "                      'created_at': 'Sun Apr 26 14:00:20 +0000 2020',\n",
      "                      'entities': {'hashtags': [{'indices': [57, 63],\n",
      "                                                 'text': 'vegan'}],\n",
      "                                   'symbols': [],\n",
      "                                   'urls': [{'display_url': 'bit.ly/3cKUuuQ',\n",
      "                                             'expanded_url': 'https://bit.ly/3cKUuuQ',\n",
      "                                             'indices': [70, 93],\n",
      "                                             'url': 'https://t.co/Hpf9J9AbAO'}],\n",
      "                                   'user_mentions': [{'id': 569714177,\n",
      "                                                      'id_str': '569714177',\n",
      "                                                      'indices': [29, 40],\n",
      "                                                      'name': 'Beyond Meat',\n",
      "                                                      'screen_name': 'BeyondMeat'},\n",
      "                                                     {'id': 30973,\n",
      "                                                      'id_str': '30973',\n",
      "                                                      'indices': [45, 55],\n",
      "                                                      'name': 'Starbucks '\n",
      "                                                              'Coffee',\n",
      "                                                      'screen_name': 'Starbucks'}]},\n",
      "                      'favorite_count': 7,\n",
      "                      'favorited': False,\n",
      "                      'geo': None,\n",
      "                      'id': 1254409981799129089,\n",
      "                      'id_str': '1254409981799129089',\n",
      "                      'in_reply_to_screen_name': None,\n",
      "                      'in_reply_to_status_id': None,\n",
      "                      'in_reply_to_status_id_str': None,\n",
      "                      'in_reply_to_user_id': None,\n",
      "                      'in_reply_to_user_id_str': None,\n",
      "                      'is_quote_status': False,\n",
      "                      'lang': 'en',\n",
      "                      'metadata': {'iso_language_code': 'en',\n",
      "                                   'result_type': 'recent'},\n",
      "                      'place': None,\n",
      "                      'possibly_sensitive': False,\n",
      "                      'retweet_count': 3,\n",
      "                      'retweeted': False,\n",
      "                      'source': '<a href=\"https://sproutsocial.com\" '\n",
      "                                'rel=\"nofollow\">Sprout Social</a>',\n",
      "                      'text': 'Are you ready to try the new @BeyondMeat and '\n",
      "                              '@Starbucks  #vegan meat?\\n'\n",
      "                              'https://t.co/Hpf9J9AbAO',\n",
      "                      'truncated': False,\n",
      "                      'user': {'contributors_enabled': False,\n",
      "                               'created_at': 'Sun May 07 05:40:51 +0000 2017',\n",
      "                               'default_profile': False,\n",
      "                               'default_profile_image': False,\n",
      "                               'description': 'For our humanity, our home, and '\n",
      "                                              'those who share it with us.',\n",
      "                               'entities': {'description': {'urls': []},\n",
      "                                            'url': {'urls': [{'display_url': 'livekindly.co',\n",
      "                                                              'expanded_url': 'https://www.livekindly.co',\n",
      "                                                              'indices': [0,\n",
      "                                                                          23],\n",
      "                                                              'url': 'https://t.co/7XrS8hLmIG'}]}},\n",
      "                               'favourites_count': 30529,\n",
      "                               'follow_request_sent': False,\n",
      "                               'followers_count': 26424,\n",
      "                               'following': False,\n",
      "                               'friends_count': 4857,\n",
      "                               'geo_enabled': False,\n",
      "                               'has_extended_profile': True,\n",
      "                               'id': 861093449080033281,\n",
      "                               'id_str': '861093449080033281',\n",
      "                               'is_translation_enabled': False,\n",
      "                               'is_translator': False,\n",
      "                               'lang': None,\n",
      "                               'listed_count': 225,\n",
      "                               'location': 'Vancouver',\n",
      "                               'name': 'LIVEKINDLY',\n",
      "                               'notifications': False,\n",
      "                               'profile_background_color': '000000',\n",
      "                               'profile_background_image_url': 'http://abs.twimg.com/images/themes/theme1/bg.png',\n",
      "                               'profile_background_image_url_https': 'https://abs.twimg.com/images/themes/theme1/bg.png',\n",
      "                               'profile_background_tile': False,\n",
      "                               'profile_banner_url': 'https://pbs.twimg.com/profile_banners/861093449080033281/1548717090',\n",
      "                               'profile_image_url': 'http://pbs.twimg.com/profile_images/1032721467274756096/QShmP4IM_normal.jpg',\n",
      "                               'profile_image_url_https': 'https://pbs.twimg.com/profile_images/1032721467274756096/QShmP4IM_normal.jpg',\n",
      "                               'profile_link_color': '4C5C55',\n",
      "                               'profile_sidebar_border_color': '000000',\n",
      "                               'profile_sidebar_fill_color': '000000',\n",
      "                               'profile_text_color': '000000',\n",
      "                               'profile_use_background_image': False,\n",
      "                               'protected': False,\n",
      "                               'screen_name': 'livekindlyco',\n",
      "                               'statuses_count': 40814,\n",
      "                               'time_zone': None,\n",
      "                               'translator_type': 'none',\n",
      "                               'url': 'https://t.co/7XrS8hLmIG',\n",
      "                               'utc_offset': None,\n",
      "                               'verified': False}},\n",
      " 'source': '<a href=\"http://twitter.com/download/android\" '\n",
      "           'rel=\"nofollow\">Twitter for Android</a>',\n",
      " 'text': 'RT @livekindlyco: Are you ready to try the new @BeyondMeat and '\n",
      "         '@Starbucks  #vegan meat?\\n'\n",
      "         'https://t.co/Hpf9J9AbAO',\n",
      " 'truncated': False,\n",
      " 'user': {'contributors_enabled': False,\n",
      "          'created_at': 'Tue Sep 15 00:26:14 +0000 2015',\n",
      "          'default_profile': False,\n",
      "          'default_profile_image': False,\n",
      "          'description': \"“Animals are my friends...and I don't eat my \"\n",
      "                         'friends.” \\n'\n",
      "                         '― George Bernard Shaw',\n",
      "          'entities': {'description': {'urls': []}},\n",
      "          'favourites_count': 46450,\n",
      "          'follow_request_sent': False,\n",
      "          'followers_count': 861,\n",
      "          'following': False,\n",
      "          'friends_count': 1096,\n",
      "          'geo_enabled': False,\n",
      "          'has_extended_profile': False,\n",
      "          'id': 3658319661,\n",
      "          'id_str': '3658319661',\n",
      "          'is_translation_enabled': False,\n",
      "          'is_translator': False,\n",
      "          'lang': None,\n",
      "          'listed_count': 23,\n",
      "          'location': 'Cleveland, OH',\n",
      "          'name': 'Tiffany Kehoe Ⓥ',\n",
      "          'notifications': False,\n",
      "          'profile_background_color': '000000',\n",
      "          'profile_background_image_url': 'http://abs.twimg.com/images/themes/theme1/bg.png',\n",
      "          'profile_background_image_url_https': 'https://abs.twimg.com/images/themes/theme1/bg.png',\n",
      "          'profile_background_tile': False,\n",
      "          'profile_banner_url': 'https://pbs.twimg.com/profile_banners/3658319661/1471395448',\n",
      "          'profile_image_url': 'http://pbs.twimg.com/profile_images/1002899236705497090/Y_mJkmtP_normal.jpg',\n",
      "          'profile_image_url_https': 'https://pbs.twimg.com/profile_images/1002899236705497090/Y_mJkmtP_normal.jpg',\n",
      "          'profile_link_color': 'F5ABB5',\n",
      "          'profile_sidebar_border_color': '000000',\n",
      "          'profile_sidebar_fill_color': '000000',\n",
      "          'profile_text_color': '000000',\n",
      "          'profile_use_background_image': False,\n",
      "          'protected': False,\n",
      "          'screen_name': 'tiffylovesgucci',\n",
      "          'statuses_count': 17463,\n",
      "          'time_zone': None,\n",
      "          'translator_type': 'none',\n",
      "          'url': None,\n",
      "          'utc_offset': None,\n",
      "          'verified': False}}\n"
     ]
    }
   ],
   "source": [
    "pprint(tweets[0]._json) # for the first tweet"
   ]
  },
  {
   "cell_type": "markdown",
   "source": [
    "### Methods returning a `user` object (or a list of objects)\n",
    "- `me` returns the authenticated user's information"
   ],
   "metadata": {
    "collapsed": false
   }
  },
  {
   "cell_type": "code",
   "execution_count": 32,
   "outputs": [
    {
     "data": {
      "text/plain": "User(_api=<tweepy.api.API object at 0x000001EFF3956E08>, _json={'id': 1230145588659998721, 'id_str': '1230145588659998721', 'name': 'Andreas Eckmann', 'screen_name': 'AndreasEckmann', 'location': '', 'profile_location': None, 'description': '', 'url': None, 'entities': {'description': {'urls': []}}, 'protected': False, 'followers_count': 0, 'friends_count': 1, 'listed_count': 0, 'created_at': 'Wed Feb 19 15:02:28 +0000 2020', 'favourites_count': 0, 'utc_offset': None, 'time_zone': None, 'geo_enabled': False, 'verified': False, 'statuses_count': 0, 'lang': None, 'contributors_enabled': False, 'is_translator': False, 'is_translation_enabled': False, 'profile_background_color': 'F5F8FA', 'profile_background_image_url': None, 'profile_background_image_url_https': None, 'profile_background_tile': False, 'profile_image_url': 'http://abs.twimg.com/sticky/default_profile_images/default_profile_normal.png', 'profile_image_url_https': 'https://abs.twimg.com/sticky/default_profile_images/default_profile_normal.png', 'profile_link_color': '1DA1F2', 'profile_sidebar_border_color': 'C0DEED', 'profile_sidebar_fill_color': 'DDEEF6', 'profile_text_color': '333333', 'profile_use_background_image': True, 'has_extended_profile': False, 'default_profile': True, 'default_profile_image': True, 'following': False, 'follow_request_sent': False, 'notifications': False, 'translator_type': 'none', 'suspended': False, 'needs_phone_verification': False}, id=1230145588659998721, id_str='1230145588659998721', name='Andreas Eckmann', screen_name='AndreasEckmann', location='', profile_location=None, description='', url=None, entities={'description': {'urls': []}}, protected=False, followers_count=0, friends_count=1, listed_count=0, created_at=datetime.datetime(2020, 2, 19, 15, 2, 28), favourites_count=0, utc_offset=None, time_zone=None, geo_enabled=False, verified=False, statuses_count=0, lang=None, contributors_enabled=False, is_translator=False, is_translation_enabled=False, profile_background_color='F5F8FA', profile_background_image_url=None, profile_background_image_url_https=None, profile_background_tile=False, profile_image_url='http://abs.twimg.com/sticky/default_profile_images/default_profile_normal.png', profile_image_url_https='https://abs.twimg.com/sticky/default_profile_images/default_profile_normal.png', profile_link_color='1DA1F2', profile_sidebar_border_color='C0DEED', profile_sidebar_fill_color='DDEEF6', profile_text_color='333333', profile_use_background_image=True, has_extended_profile=False, default_profile=True, default_profile_image=True, following=False, follow_request_sent=False, notifications=False, translator_type='none', suspended=False, needs_phone_verification=False)"
     },
     "metadata": {},
     "output_type": "execute_result",
     "execution_count": 32
    }
   ],
   "source": [
    "api.me()"
   ],
   "metadata": {
    "collapsed": false,
    "pycharm": {
     "name": "#%%\n",
     "is_executing": false
    }
   }
  },
  {
   "cell_type": "markdown",
   "source": [
    "- The `get_user` method returns information about the specified user."
   ],
   "metadata": {
    "collapsed": false
   }
  },
  {
   "cell_type": "code",
   "execution_count": 33,
   "outputs": [
    {
     "name": "stdout",
     "text": [
      "{'contributors_enabled': False,\n",
      " 'created_at': 'Thu May 03 05:40:43 +0000 2012',\n",
      " 'default_profile': False,\n",
      " 'default_profile_image': False,\n",
      " 'description': \"Meat that's made from plants, made for meat lovers. \\n\"\n",
      "                '#GoBeyond',\n",
      " 'entities': {'description': {'urls': []},\n",
      "              'url': {'urls': [{'display_url': 'beyondmeat.com',\n",
      "                                'expanded_url': 'http://www.beyondmeat.com',\n",
      "                                'indices': [0, 22],\n",
      "                                'url': 'http://t.co/4ZbzGc2iMf'}]}},\n",
      " 'favourites_count': 18113,\n",
      " 'follow_request_sent': False,\n",
      " 'followers_count': 108771,\n",
      " 'following': True,\n",
      " 'friends_count': 692,\n",
      " 'geo_enabled': True,\n",
      " 'has_extended_profile': False,\n",
      " 'id': 569714177,\n",
      " 'id_str': '569714177',\n",
      " 'is_translation_enabled': False,\n",
      " 'is_translator': False,\n",
      " 'lang': None,\n",
      " 'listed_count': 1130,\n",
      " 'location': 'El Segundo, CA',\n",
      " 'name': 'Beyond Meat',\n",
      " 'notifications': False,\n",
      " 'profile_background_color': 'FAF5E2',\n",
      " 'profile_background_image_url': 'http://abs.twimg.com/images/themes/theme1/bg.png',\n",
      " 'profile_background_image_url_https': 'https://abs.twimg.com/images/themes/theme1/bg.png',\n",
      " 'profile_background_tile': False,\n",
      " 'profile_banner_url': 'https://pbs.twimg.com/profile_banners/569714177/1581011692',\n",
      " 'profile_image_url': 'http://pbs.twimg.com/profile_images/1192068749576163329/IZNzItQX_normal.jpg',\n",
      " 'profile_image_url_https': 'https://pbs.twimg.com/profile_images/1192068749576163329/IZNzItQX_normal.jpg',\n",
      " 'profile_link_color': '000000',\n",
      " 'profile_location': None,\n",
      " 'profile_sidebar_border_color': 'FFFFFF',\n",
      " 'profile_sidebar_fill_color': 'DDEEF6',\n",
      " 'profile_text_color': '333333',\n",
      " 'profile_use_background_image': True,\n",
      " 'protected': False,\n",
      " 'screen_name': 'BeyondMeat',\n",
      " 'status': {'contributors': None,\n",
      "            'coordinates': None,\n",
      "            'created_at': 'Fri Apr 24 14:17:03 +0000 2020',\n",
      "            'entities': {'hashtags': [],\n",
      "                         'symbols': [],\n",
      "                         'urls': [{'display_url': 'bit.ly/3cKJ76m',\n",
      "                                   'expanded_url': 'https://bit.ly/3cKJ76m',\n",
      "                                   'indices': [24, 47],\n",
      "                                   'url': 'https://t.co/8GdvhHRrnV'}],\n",
      "                         'user_mentions': []},\n",
      "            'favorite_count': 19,\n",
      "            'favorited': False,\n",
      "            'geo': None,\n",
      "            'id': 1253689416284921856,\n",
      "            'id_str': '1253689416284921856',\n",
      "            'in_reply_to_screen_name': 'BeyondMeat',\n",
      "            'in_reply_to_status_id': 1253689414670147585,\n",
      "            'in_reply_to_status_id_str': '1253689414670147585',\n",
      "            'in_reply_to_user_id': 569714177,\n",
      "            'in_reply_to_user_id_str': '569714177',\n",
      "            'is_quote_status': False,\n",
      "            'lang': 'en',\n",
      "            'place': None,\n",
      "            'possibly_sensitive': False,\n",
      "            'retweet_count': 7,\n",
      "            'retweeted': False,\n",
      "            'source': '<a href=\"https://mobile.twitter.com\" '\n",
      "                      'rel=\"nofollow\">Twitter Web App</a>',\n",
      "            'text': 'Join us and learn more: https://t.co/8GdvhHRrnV',\n",
      "            'truncated': False},\n",
      " 'statuses_count': 24010,\n",
      " 'time_zone': None,\n",
      " 'translator_type': 'none',\n",
      " 'url': 'http://t.co/4ZbzGc2iMf',\n",
      " 'utc_offset': None,\n",
      " 'verified': True}\n"
     ],
     "output_type": "stream"
    }
   ],
   "source": [
    "target='BeyondMeat' #'BeyondMeat'\n",
    "user = api.get_user(target) # argument = id, user_id, screen_name\n",
    "pprint(user._json)"
   ],
   "metadata": {
    "collapsed": false,
    "pycharm": {
     "name": "#%%\n",
     "is_executing": false
    }
   }
  },
  {
   "cell_type": "markdown",
   "source": [
    "Some attributes of the `user` object:"
   ],
   "metadata": {
    "collapsed": false
   }
  },
  {
   "cell_type": "code",
   "execution_count": 38,
   "outputs": [
    {
     "name": "stdout",
     "text": [
      "Name: Beyond Meat\n",
      "Screen name: BeyondMeat\n",
      "Number of followers: 108771\n",
      "\" description: Meat that's made from plants, made for meat lovers. \\n#GoBeyond\"\n",
      "' Number of tweets published: 24010'\n",
      "' friends_count: 692'\n"
     ],
     "output_type": "stream"
    }
   ],
   "source": [
    "print(\"Name:\", user.name)\n",
    "print(\"Screen name:\", user.screen_name)\n",
    "print(\"Number of followers:\" ,  user.followers_count)\n",
    "pprint(\"description: \" + user.description)\n",
    "pprint(\"Number of tweets published: \" + str(user.statuses_count))\n",
    "pprint(\"friends_count: \" + str(user.friends_count))"
   ],
   "metadata": {
    "collapsed": false,
    "pycharm": {
     "name": "#%%\n",
     "is_executing": false
    }
   }
  },
  {
   "cell_type": "markdown",
   "source": [
    "**Step 1b: continuous `y` variables** [week 2]\n",
    "- Fetching the data: \n",
    "    - if you work on the suggested idea, you can easily access daily stock prices using the [`yfinance` package](https://pypi.org/project/yfinance/)  (see below)\n",
    "    - otherwise, you can find some interesting data listed in the syllabus"
   ],
   "metadata": {
    "collapsed": false,
    "pycharm": {
     "name": "#%% md\n"
    }
   }
  },
  {
   "cell_type": "code",
   "execution_count": 5,
   "outputs": [
    {
     "data": {
      "text/plain": "{'zip': '90245',\n 'sector': 'Consumer Defensive',\n 'fullTimeEmployees': 472,\n 'longBusinessSummary': 'Beyond Meat, Inc., a food company, engages in the provision of revolutionary plant-based meats in the United States and internationally. It offers its products in plant-based platforms of beef, pork, and poultry in ready-to-cook and ready-to-heat formats. The company sells its products through grocery, mass merchandiser, club and convenience store, and natural retailer channels, as well as direct to consumer and various food-away-from-home channels. The company was formerly known as Savage River, Inc. and changed its name to Beyond Meat, Inc. in September 2018. Beyond Meat, Inc. was founded in 2009 and is headquartered in El Segundo, California.',\n 'city': 'El Segundo',\n 'phone': '866 756 4112',\n 'state': 'CA',\n 'country': 'United States',\n 'companyOfficers': [],\n 'website': 'http://www.beyondmeat.com',\n 'maxAge': 1,\n 'address1': '119 Standard Street',\n 'industry': 'Packaged Foods',\n 'previousClose': 99.78,\n 'regularMarketOpen': 105,\n 'twoHundredDayAverage': 90.405876,\n 'trailingAnnualDividendYield': None,\n 'payoutRatio': 0,\n 'volume24Hr': None,\n 'regularMarketDayHigh': 113.4628,\n 'navPrice': None,\n 'averageDailyVolume10Day': 8656700,\n 'totalAssets': None,\n 'regularMarketPreviousClose': 99.78,\n 'fiftyDayAverage': 72.56323,\n 'trailingAnnualDividendRate': None,\n 'open': 105,\n 'toCurrency': None,\n 'averageVolume10days': 8656700,\n 'expireDate': None,\n 'yield': None,\n 'algorithm': None,\n 'dividendRate': None,\n 'exDividendDate': None,\n 'beta': None,\n 'circulatingSupply': None,\n 'startDate': None,\n 'regularMarketDayLow': 103,\n 'priceHint': 2,\n 'currency': 'USD',\n 'regularMarketVolume': 21206159,\n 'lastMarket': None,\n 'maxSupply': None,\n 'openInterest': None,\n 'marketCap': 6727879680,\n 'volumeAllCurrencies': None,\n 'strikePrice': None,\n 'averageVolume': 6774052,\n 'priceToSalesTrailing12Months': 22.584583,\n 'dayLow': 103,\n 'ask': 109,\n 'ytdReturn': None,\n 'askSize': 800,\n 'volume': 21206159,\n 'fiftyTwoWeekHigh': 239.71,\n 'forwardPE': 178.32787,\n 'fromCurrency': None,\n 'fiveYearAvgDividendYield': None,\n 'fiftyTwoWeekLow': 45,\n 'bid': 108.98,\n 'tradeable': False,\n 'dividendYield': None,\n 'bidSize': 1400,\n 'dayHigh': 113.4628,\n 'exchange': 'NMS',\n 'shortName': 'Beyond Meat, Inc.',\n 'longName': 'Beyond Meat, Inc.',\n 'exchangeTimezoneName': 'America/New_York',\n 'exchangeTimezoneShortName': 'EDT',\n 'isEsgPopulated': False,\n 'gmtOffSetMilliseconds': '-14400000',\n 'quoteType': 'EQUITY',\n 'symbol': 'BYND',\n 'messageBoardId': 'finmb_222996066',\n 'market': 'us_market',\n 'annualHoldingsTurnover': None,\n 'enterpriseToRevenue': 21.76,\n 'beta3Year': None,\n 'profitMargins': -0.04177,\n 'enterpriseToEbitda': 519.172,\n '52WeekChange': 0.6544486,\n 'morningStarRiskRating': None,\n 'forwardEps': 0.61,\n 'revenueQuarterlyGrowth': None,\n 'sharesOutstanding': 61848500,\n 'fundInceptionDate': None,\n 'annualReportExpenseRatio': None,\n 'bookValue': 6.238,\n 'sharesShort': 8516910,\n 'sharesPercentSharesOut': 0.1377,\n 'fundFamily': None,\n 'lastFiscalYearEnd': 1577750400,\n 'heldPercentInstitutions': 0.31216,\n 'netIncomeToCommon': -12443000,\n 'trailingEps': -0.294,\n 'lastDividendValue': None,\n 'SandP52WeekChange': -0.036115825,\n 'priceToBook': 17.438282,\n 'heldPercentInsiders': 0.18677999,\n 'nextFiscalYearEnd': 1640908800,\n 'mostRecentQuarter': 1577750400,\n 'shortRatio': 1.57,\n 'sharesShortPreviousMonthDate': 1582848000,\n 'floatShares': 41239547,\n 'enterpriseValue': 6482381312,\n 'threeYearAverageReturn': None,\n 'lastSplitDate': None,\n 'lastSplitFactor': None,\n 'legalType': None,\n 'morningStarOverallRating': None,\n 'earningsQuarterlyGrowth': None,\n 'dateShortInterest': 1585612800,\n 'pegRatio': -2.22,\n 'lastCapGain': None,\n 'shortPercentOfFloat': 0.1541,\n 'sharesShortPriorMonth': 7797766,\n 'category': None,\n 'fiveYearAverageReturn': None,\n 'regularMarketPrice': 105,\n 'logo_url': 'https://logo.clearbit.com/beyondmeat.com'}"
     },
     "metadata": {},
     "output_type": "execute_result",
     "execution_count": 5
    }
   ],
   "source": [
    "bynd = yf.Ticker(\"BYND\")\n",
    "# get stock info\n",
    "bynd.info"
   ],
   "metadata": {
    "collapsed": false,
    "pycharm": {
     "name": "#%%\n",
     "is_executing": false
    }
   }
  },
  {
   "cell_type": "code",
   "execution_count": 10,
   "outputs": [
    {
     "name": "stdout",
     "text": [
      "              Open    High     Low   Close    Volume  Dividends  Stock Splits\n",
      "Date                                                                         \n",
      "2019-05-02   46.00   72.95   45.00   65.75  23119000          0             0\n",
      "2019-05-03   72.00   74.00   65.66   66.79  13139400          0             0\n",
      "2019-05-06   62.73   74.84   62.50   74.79   8746200          0             0\n",
      "2019-05-07   77.14   85.45   75.00   79.17  16532100          0             0\n",
      "2019-05-08   83.61   85.38   70.79   72.25  14696300          0             0\n",
      "2019-05-09   70.50   73.20   67.10   68.27   6284500          0             0\n",
      "2019-05-10   69.09   69.33   61.60   66.22   4888000          0             0\n",
      "2019-05-13   65.46   71.96   63.36   69.50   4773400          0             0\n",
      "2019-05-14   72.48   80.75   71.12   79.68   7079600          0             0\n",
      "2019-05-15   79.00   93.00   74.55   86.92  18356200          0             0\n",
      "2019-05-16   90.10   96.79   89.51   92.92  13900300          0             0\n",
      "2019-05-17   92.46   96.68   85.71   89.35  10724100          0             0\n",
      "2019-05-20   88.90   90.96   83.13   86.09   5189700          0             0\n",
      "2019-05-21   88.03   88.75   76.76   77.50   9065100          0             0\n",
      "2019-05-22   77.38   81.74   77.00   77.63   3898400          0             0\n",
      "2019-05-23   79.40   83.80   78.12   82.10   4331300          0             0\n",
      "2019-05-24   83.92   85.50   79.51   79.67   2905700          0             0\n",
      "2019-05-28   83.98   88.83   83.70   86.00   6604000          0             0\n",
      "2019-05-29   90.05   97.65   87.32   97.50   8372000          0             0\n",
      "2019-05-30  101.90  105.25   94.03   98.59  12359800          0             0\n",
      "2019-05-31  100.00  104.55   97.26  104.12   7733900          0             0\n",
      "2019-06-03  104.14  108.67   95.66   96.16   8027700          0             0\n",
      "2019-06-04  101.25  103.50   97.82  103.41   5484900          0             0\n",
      "2019-06-05  105.50  105.50   99.64  102.60   4283500          0             0\n",
      "2019-06-06  102.00  102.25   98.85   99.50   6484000          0             0\n",
      "2019-06-07  130.00  149.46  120.76  138.65  23916700          0             0\n",
      "2019-06-10  155.70  186.43  147.00  168.10  24986000          0             0\n",
      "2019-06-11  145.25  150.00  125.23  126.04  15516000          0             0\n",
      "2019-06-12  133.99  150.45  131.56  141.97  16879500          0             0\n",
      "2019-06-13  141.52  146.45  134.25  141.39   9474600          0             0\n",
      "2019-06-14  142.01  157.90  141.80  151.48  14964600          0             0\n",
      "2019-06-17  163.18  171.19  160.61  169.96  14626700          0             0\n",
      "2019-06-18  200.00  201.88  160.70  169.89  23966900          0             0\n",
      "2019-06-19  171.37  174.45  162.25  169.28   9452000          0             0\n",
      "2019-06-20  173.00  174.00  163.30  165.17   6660500          0             0\n",
      "2019-06-21  153.54  161.79  150.00  154.13   7474600          0             0\n",
      "2019-06-24  151.88  152.70  138.00  140.99   6538500          0             0\n",
      "2019-06-25  138.50  150.69  138.34  150.60   6632500          0             0\n",
      "2019-06-26  160.10  162.25  153.02  160.48   6378600          0             0\n",
      "2019-06-27  157.31  164.79  155.45  162.91   5731400          0             0\n",
      "2019-06-28  165.30  168.80  159.55  160.68   7315300          0             0\n",
      "2019-07-01  161.49  162.45  152.00  152.58   4449300          0             0\n",
      "2019-07-02  153.00  153.70  147.02  149.71   3267500          0             0\n",
      "2019-07-03  151.00  154.00  148.70  151.50   2261000          0             0\n",
      "2019-07-05  150.00  153.79  148.06  152.63   2040300          0             0\n",
      "2019-07-08  152.49  158.93  152.00  156.67   3615500          0             0\n",
      "2019-07-09  158.73  159.59  154.51  157.82   2607700          0             0\n",
      "2019-07-10  159.48  163.88  158.00  163.51   3982900          0             0\n",
      "2019-07-11  165.00  174.24  163.55  174.20   5469500          0             0\n",
      "2019-07-12  172.37  172.40  164.75  166.81   4659900          0             0\n",
      "2019-07-15  168.16  170.70  166.00  166.53   2652900          0             0\n",
      "2019-07-16  168.45  174.67  167.01  172.59   3969100          0             0\n",
      "2019-07-17  173.08  173.43  168.11  169.64   2437300          0             0\n",
      "2019-07-18  169.40  172.45  167.81  170.34   1697300          0             0\n",
      "2019-07-19  172.00  178.55  170.77  176.79   4256200          0             0\n",
      "2019-07-22  178.50  200.80  177.76  194.20  11395400          0             0\n",
      "2019-07-23  199.60  208.48  191.78  195.48  10669200          0             0\n",
      "2019-07-24  201.00  205.50  197.21  202.92   7168700          0             0\n",
      "2019-07-25  207.00  222.89  205.45  222.86  10015800          0             0\n",
      "2019-07-26  235.56  239.71  215.50  234.90  16531300          0             0\n",
      "2019-07-29  228.90  233.87  201.00  222.13  16047000          0             0\n",
      "2019-07-30  186.34  216.90  183.50  194.76  19060400          0             0\n",
      "2019-07-31  195.76  207.00  193.50  196.51  11930600          0             0\n",
      "2019-08-01  175.14  183.99  172.00  176.04  15083500          0             0\n",
      "2019-08-02  177.60  181.91  175.05  177.11   5806900          0             0\n",
      "2019-08-05  173.10  178.23  170.99  175.94   5665500          0             0\n",
      "2019-08-06  180.10  181.75  160.62  161.24   8407700          0             0\n",
      "2019-08-07  164.00  167.45  160.55  167.00   5858000          0             0\n",
      "2019-08-08  168.57  168.68  158.00  162.70   5106000          0             0\n",
      "2019-08-09  162.54  166.30  162.05  164.37   2756400          0             0\n",
      "2019-08-12  164.53  172.18  162.50  169.11   3973800          0             0\n",
      "2019-08-13  169.00  171.98  165.58  167.29   3048100          0             0\n",
      "2019-08-14  165.75  166.74  161.06  162.90   2246600          0             0\n",
      "2019-08-15  163.00  164.14  137.11  144.20   9600100          0             0\n",
      "2019-08-16  144.21  148.54  136.27  144.77   5867000          0             0\n",
      "2019-08-19  147.39  148.50  140.77  144.51   3840600          0             0\n",
      "2019-08-20  155.00  158.20  151.53  153.97   7051800          0             0\n",
      "2019-08-21  155.75  155.75  149.13  151.95   3659700          0             0\n",
      "2019-08-22  151.04  152.21  146.10  150.99   2930200          0             0\n",
      "2019-08-23  150.00  151.64  146.26  146.85   2214300          0             0\n",
      "2019-08-26  153.80  155.40  150.30  155.13   3650400          0             0\n",
      "2019-08-27  159.28  161.43  155.30  157.02   4423400          0             0\n",
      "2019-08-28  158.28  162.50  155.40  160.31   3708100          0             0\n",
      "2019-08-29  161.75  166.72  159.00  165.48   3764700          0             0\n",
      "2019-08-30  168.67  172.29  166.70  167.63   4145800          0             0\n",
      "2019-09-03  167.63  169.31  162.21  163.15   2425400          0             0\n",
      "2019-09-04  165.36  165.50  161.64  163.68   2143100          0             0\n",
      "2019-09-05  162.05  167.15  160.52  160.97   2281600          0             0\n",
      "2019-09-06  155.84  157.62  151.68  154.99   3560600          0             0\n",
      "2019-09-09  153.14  153.93  147.25  149.53   3097900          0             0\n",
      "2019-09-10  147.00  147.50  142.98  146.90   1885600          0             0\n",
      "2019-09-11  147.23  152.80  147.01  151.81   1869500          0             0\n",
      "2019-09-12  151.60  154.41  149.14  152.96   1520100          0             0\n",
      "2019-09-13  155.29  156.93  153.58  155.98   1810300          0             0\n",
      "2019-09-16  155.84  159.85  154.55  158.97   1766800          0             0\n",
      "2019-09-17  160.00  161.49  158.90  160.31   1558800          0             0\n",
      "2019-09-18  160.01  160.49  149.00  153.99   3033300          0             0\n",
      "2019-09-19  156.84  157.10  152.50  154.92   1570900          0             0\n",
      "2019-09-20  154.97  156.56  153.44  155.26   1293800          0             0\n",
      "2019-09-23  152.66  154.27  146.29  148.22   2396600          0             0\n",
      "2019-09-24  146.74  147.00  139.07  142.99   2316900          0             0\n",
      "2019-09-25  139.30  142.90  133.08  138.32   2531600          0             0\n",
      "2019-09-26  160.51  160.60  148.60  154.34   8074700          0             0\n",
      "2019-09-27  151.00  153.81  148.90  151.66   1989400          0             0\n",
      "2019-09-30  150.69  151.00  145.68  148.62   1667100          0             0\n",
      "2019-10-01  148.65  149.40  143.70  146.42   1491200          0             0\n",
      "2019-10-02  144.96  145.25  141.10  143.30   1542300          0             0\n",
      "2019-10-03  142.06  146.93  141.32  145.44   1160600          0             0\n",
      "2019-10-04  146.06  147.17  144.27  145.72   1373500          0             0\n",
      "2019-10-07  144.50  145.17  142.03  145.06   1319900          0             0\n",
      "2019-10-08  143.00  143.94  140.18  142.73   1123400          0             0\n",
      "2019-10-09  143.26  143.70  137.56  139.35   1477600          0             0\n",
      "2019-10-10  138.50  138.95  134.91  136.00   1735600          0             0\n",
      "2019-10-11  136.01  136.85  130.64  131.39   2441000          0             0\n",
      "2019-10-14  128.45  128.46  124.63  126.31   2126900          0             0\n",
      "2019-10-15  124.27  125.40  120.53  122.05   2635900          0             0\n",
      "2019-10-16  122.00  126.49  121.78  123.92   1961900          0             0\n",
      "2019-10-17  123.99  124.58  116.86  117.35   2838700          0             0\n",
      "2019-10-18  115.00  115.39  107.91  109.99   3818800          0             0\n",
      "2019-10-21  113.60  113.61  106.01  110.13   3585700          0             0\n",
      "2019-10-22  110.00  112.88  105.55  106.40   2318200          0             0\n",
      "2019-10-23  102.70  105.67   97.25   97.90   4719000          0             0\n",
      "2019-10-24   96.50  103.77   96.15  101.70   4696000          0             0\n",
      "2019-10-25  101.77  102.00   97.74  100.81   3302200          0             0\n",
      "2019-10-28  101.00  108.17   97.85  105.41   8359600          0             0\n",
      "2019-10-29   82.96   88.88   80.10   81.99  32782100          0             0\n",
      "2019-10-30   84.35   90.00   83.00   88.89  14613800          0             0\n",
      "2019-10-31   90.44   90.44   83.63   84.45   7036300          0             0\n",
      "2019-11-01   84.37   85.29   81.83   82.00   5197900          0             0\n",
      "2019-11-04   83.40   83.44   79.63   79.79   4697200          0             0\n",
      "2019-11-05   83.25   84.97   81.39   81.45   8328100          0             0\n",
      "2019-11-06   82.04   83.51   80.50   80.73   3654600          0             0\n",
      "2019-11-07   81.10   81.19   77.22   78.99   6162300          0             0\n",
      "2019-11-08   79.25   80.79   78.67   79.95   2816100          0             0\n",
      "2019-11-11   79.88   79.96   75.65   76.79   4998700          0             0\n",
      "2019-11-12   76.75   79.47   73.85   78.27   6289400          0             0\n",
      "2019-11-13   78.00   80.18   77.00   79.01   3886400          0             0\n",
      "2019-11-14   81.34   83.38   79.64   80.43   5525400          0             0\n",
      "2019-11-15   81.04   83.14   79.06   80.81   4057800          0             0\n",
      "2019-11-18   81.22   81.22   78.55   79.72   2931700          0             0\n",
      "2019-11-19   79.75   80.00   76.55   77.35   2948000          0             0\n",
      "2019-11-20   76.89   78.57   76.23   78.12   2196300          0             0\n",
      "2019-11-21   78.30   80.18   77.18   78.62   2630600          0             0\n",
      "2019-11-22   78.55   78.90   76.55   77.34   2343000          0             0\n",
      "2019-11-25   78.04   78.80   76.05   77.28   3920700          0             0\n",
      "2019-11-26   77.52   79.73   76.70   79.43   3298600          0             0\n",
      "2019-11-27   79.96   83.65   79.75   81.66   5099900          0             0\n",
      "2019-11-29   82.08   84.90   81.83   82.96   3694700          0             0\n",
      "2019-12-02   83.30   83.64   77.03   79.27   5973100          0             0\n",
      "2019-12-03   77.51   77.68   75.40   76.16   5244700          0             0\n",
      "2019-12-04   76.75   77.05   73.51   73.89   5165700          0             0\n",
      "2019-12-05   73.59   76.03   71.30   73.66   5681400          0             0\n",
      "2019-12-06   74.00   76.30   73.25   76.22   3563100          0             0\n",
      "2019-12-09   76.16   76.27   73.63   74.05   3014000          0             0\n",
      "2019-12-10   73.45   75.08   73.40   74.65   2453000          0             0\n",
      "2019-12-11   74.79   76.95   74.46   75.90   3321100          0             0\n",
      "2019-12-12   75.91   76.88   74.27   75.23   2606500          0             0\n",
      "2019-12-13   75.36   76.39   74.85   75.02   1771800          0             0\n",
      "2019-12-16   75.00   75.01   71.65   73.60   4872400          0             0\n",
      "2019-12-17   73.17   77.21   73.17   76.33   4608400          0             0\n",
      "2019-12-18   76.55   77.88   75.44   77.30   3738500          0             0\n",
      "2019-12-19   77.79   80.02   76.82   77.36   4775100          0             0\n",
      "2019-12-20   76.88   77.00   75.07   76.84   5968100          0             0\n",
      "2019-12-23   76.88   78.46   76.63   77.74   2860900          0             0\n",
      "2019-12-24   78.02   79.28   76.94   77.73   2016400          0             0\n",
      "2019-12-26   78.25   78.58   76.05   76.40   2957200          0             0\n",
      "2019-12-27   76.73   77.42   75.14   75.64   2733200          0             0\n",
      "2019-12-30   75.76   75.95   73.60   74.15   2548100          0             0\n",
      "2019-12-31   73.55   75.73   73.22   75.60   2002000          0             0\n",
      "2020-01-02   76.23   77.20   75.26   75.64   2221700          0             0\n",
      "2020-01-03   75.12   76.20   74.31   75.41   1628700          0             0\n",
      "2020-01-06   74.97   75.75   73.83   74.59   2324700          0             0\n",
      "2020-01-07   75.00   84.88   75.00   83.89  12044600          0             0\n",
      "2020-01-08   86.00   88.27   81.16   81.48  18216000          0             0\n",
      "2020-01-09   82.98   90.40   81.35   90.25  17066000          0             0\n",
      "2020-01-10   91.82   97.90   90.25   96.07  22552600          0             0\n",
      "2020-01-13   99.71  115.50   98.80  114.34  29486000          0             0\n",
      "2020-01-14  124.73  135.23  114.28  117.05  50610900          0             0\n",
      "2020-01-15  110.79  115.25  106.11  107.08  23035000          0             0\n",
      "2020-01-16  111.27  114.40  107.25  110.40  15019400          0             0\n",
      "2020-01-17  110.84  113.11  107.43  109.12  10445500          0             0\n",
      "2020-01-21  113.00  129.55  111.12  129.18  29424000          0             0\n",
      "2020-01-22  126.93  134.70  119.01  122.40  25189100          0             0\n",
      "2020-01-23  119.75  120.99  112.88  118.64  12073800          0             0\n",
      "2020-01-24  123.81  126.74  116.42  119.49  13241500          0             0\n",
      "2020-01-27  119.80  129.83  119.60  124.75  18454200          0             0\n",
      "2020-01-28  124.43  127.89  117.26  120.12  12237600          0             0\n",
      "2020-01-29  123.74  123.80  113.63  114.88  12994900          0             0\n",
      "2020-01-30  115.40  118.47  114.49  117.29   6708400          0             0\n",
      "2020-01-31  117.43  118.15  108.03  110.42   8055200          0             0\n",
      "2020-02-03  111.81  112.70  102.43  106.00  11109900          0             0\n",
      "2020-02-04  106.77  114.15  106.50  110.43   8532900          0             0\n",
      "2020-02-05  113.50  113.99  108.96  110.17   5428400          0             0\n",
      "2020-02-06  112.00  113.00  109.55  111.89   4170400          0             0\n",
      "2020-02-07  111.98  120.52  111.30  116.44  12762200          0             0\n",
      "2020-02-10  118.49  122.50  116.10  119.73  10574200          0             0\n",
      "2020-02-11  120.46  123.10  116.10  117.14   7971100          0             0\n",
      "2020-02-12  117.28  119.50  113.77  114.73   6242500          0             0\n",
      "2020-02-13  114.79  117.00  111.00  112.01   7911200          0             0\n",
      "2020-02-14  113.00  117.47  112.31  116.22   6969200          0             0\n",
      "2020-02-18  118.00  123.70  117.58  122.03   8647400          0             0\n",
      "2020-02-19  124.07  129.00  122.10  126.10   8705700          0             0\n",
      "2020-02-20  126.08  126.10  115.14  120.58   8376500          0             0\n",
      "2020-02-21  120.62  122.00  116.03  117.45   5571200          0             0\n",
      "2020-02-24  110.00  114.80  109.05  113.96   5926500          0             0\n",
      "2020-02-25  115.12  116.80  108.14  109.92   5461200          0             0\n",
      "2020-02-26  115.33  118.20  111.55  112.51   7231900          0             0\n",
      "2020-02-27  110.34  111.50  103.50  106.14   7833600          0             0\n",
      "2020-02-28   88.00   91.77   85.00   89.65  13231200          0             0\n",
      "2020-03-02   95.00   96.80   90.30   96.10   7240500          0             0\n",
      "2020-03-03  101.60  101.67   94.63   95.43   9611900          0             0\n",
      "2020-03-04   99.02  101.93   97.70  101.89   6576800          0             0\n",
      "2020-03-05   99.24  100.25   95.07   95.87   4337400          0             0\n",
      "2020-03-06   92.90   96.44   91.60   96.09   4210300          0             0\n",
      "2020-03-09   85.50   91.65   82.22   87.96   5221200          0             0\n",
      "2020-03-10   92.05   92.89   85.61   90.98   4388300          0             0\n",
      "2020-03-11   87.87   89.52   81.33   82.64   4175500          0             0\n",
      "2020-03-12   72.50   76.11   68.85   74.00   7099000          0             0\n",
      "2020-03-13   76.01   79.45   68.61   73.06   5494000          0             0\n",
      "2020-03-16   63.82   66.19   60.14   61.55   5988700          0             0\n",
      "2020-03-17   61.56   65.89   57.76   60.32   5631500          0             0\n",
      "2020-03-18   56.15   58.31   51.00   54.02   4744600          0             0\n",
      "2020-03-19   52.05   58.80   48.18   57.33   5759800          0             0\n",
      "2020-03-20   59.61   63.48   54.15   57.99   5121500          0             0\n",
      "2020-03-23   57.51   60.87   55.11   57.55   3675500          0             0\n",
      "2020-03-24   62.35   69.75   62.00   67.43   5678800          0             0\n",
      "2020-03-25   73.13   78.60   70.56   73.00   6706100          0             0\n",
      "2020-03-26   69.50   72.96   66.42   71.10   7950000          0             0\n",
      "2020-03-27   68.17   68.21   64.22   66.12   4075700          0             0\n",
      "2020-03-30   67.00   68.50   63.82   66.09   3106700          0             0\n",
      "2020-03-31   67.20   69.00   65.34   66.60   2564600          0             0\n",
      "2020-04-01   64.20   65.68   63.19   64.18   2368500          0             0\n",
      "2020-04-02   63.86   63.97   57.00   57.95   4847400          0             0\n",
      "2020-04-03   59.01   60.85   57.12   59.91   3221600          0             0\n",
      "2020-04-06   62.75   66.66   62.05   65.92   3839100          0             0\n",
      "2020-04-07   70.01   71.80   65.29   67.43   4450300          0             0\n",
      "2020-04-08   68.35   71.40   67.39   69.47   2387000          0             0\n",
      "2020-04-09   71.68   74.72   70.60   72.30   3338300          0             0\n",
      "2020-04-13   73.01   77.16   71.23   76.67   3299200          0             0\n",
      "2020-04-14   79.99   82.63   77.20   78.05   4982600          0             0\n",
      "2020-04-15   76.71   77.00   72.62   74.70   2968500          0             0\n",
      "2020-04-16   75.42   76.07   72.90   74.82   2040500          0             0\n",
      "2020-04-17   77.78   78.00   75.33   76.91   2131100          0             0\n",
      "2020-04-20   76.24   83.62   76.00   79.12   4607000          0             0\n",
      "2020-04-21   87.51   92.00   82.10   84.96  13184900          0             0\n",
      "2020-04-22   87.00   90.39   85.14   88.46   6128900          0             0\n",
      "2020-04-23   89.87  101.56   89.29   99.78  11319900          0             0\n",
      "2020-04-24  105.00  113.48  103.00  108.78  21184600          0             0\n"
     ],
     "output_type": "stream"
    }
   ],
   "source": [
    "# get historical market data\n",
    "hist = bynd.history(period=\"max\")\n",
    "pprint(hist)"
   ],
   "metadata": {
    "collapsed": false,
    "pycharm": {
     "name": "#%%\n",
     "is_executing": false
    }
   }
  },
  {
   "cell_type": "code",
   "execution_count": 7,
   "outputs": [
    {
     "data": {
      "text/plain": "Empty DataFrame\nColumns: [Dividends, Stock Splits]\nIndex: []",
      "text/html": "<div>\n<style scoped>\n    .dataframe tbody tr th:only-of-type {\n        vertical-align: middle;\n    }\n\n    .dataframe tbody tr th {\n        vertical-align: top;\n    }\n\n    .dataframe thead th {\n        text-align: right;\n    }\n</style>\n<table border=\"1\" class=\"dataframe\">\n  <thead>\n    <tr style=\"text-align: right;\">\n      <th></th>\n      <th>Dividends</th>\n      <th>Stock Splits</th>\n    </tr>\n    <tr>\n      <th>Date</th>\n      <th></th>\n      <th></th>\n    </tr>\n  </thead>\n  <tbody>\n  </tbody>\n</table>\n</div>"
     },
     "metadata": {},
     "output_type": "execute_result",
     "execution_count": 7
    }
   ],
   "source": [
    "# show actions (dividends, splits)\n",
    "bynd.actions"
   ],
   "metadata": {
    "collapsed": false,
    "pycharm": {
     "name": "#%%\n",
     "is_executing": false
    }
   }
  },
  {
   "cell_type": "code",
   "execution_count": 13,
   "outputs": [
    {
     "data": {
      "text/plain": "Empty DataFrame\nColumns: [Open, High, Low, Close, Adj Close, Volume]\nIndex: []",
      "text/html": "<div>\n<style scoped>\n    .dataframe tbody tr th:only-of-type {\n        vertical-align: middle;\n    }\n\n    .dataframe tbody tr th {\n        vertical-align: top;\n    }\n\n    .dataframe thead th {\n        text-align: right;\n    }\n</style>\n<table border=\"1\" class=\"dataframe\">\n  <thead>\n    <tr style=\"text-align: right;\">\n      <th></th>\n      <th>Open</th>\n      <th>High</th>\n      <th>Low</th>\n      <th>Close</th>\n      <th>Adj Close</th>\n      <th>Volume</th>\n    </tr>\n    <tr>\n      <th>Date</th>\n      <th></th>\n      <th></th>\n      <th></th>\n      <th></th>\n      <th></th>\n      <th></th>\n    </tr>\n  </thead>\n  <tbody>\n  </tbody>\n</table>\n</div>"
     },
     "metadata": {},
     "output_type": "execute_result",
     "execution_count": 13
    }
   ],
   "source": [
    "# show earnings\n",
    "bynd.earnings\n",
    "bynd.quarterly_earnings"
   ],
   "metadata": {
    "collapsed": false,
    "pycharm": {
     "name": "#%%\n",
     "is_executing": false
    }
   }
  },
  {
   "cell_type": "code",
   "execution_count": 14,
   "outputs": [
    {
     "data": {
      "text/plain": "Empty DataFrame\nColumns: [Open, High, Low, Close, Adj Close, Volume]\nIndex: []",
      "text/html": "<div>\n<style scoped>\n    .dataframe tbody tr th:only-of-type {\n        vertical-align: middle;\n    }\n\n    .dataframe tbody tr th {\n        vertical-align: top;\n    }\n\n    .dataframe thead th {\n        text-align: right;\n    }\n</style>\n<table border=\"1\" class=\"dataframe\">\n  <thead>\n    <tr style=\"text-align: right;\">\n      <th></th>\n      <th>Open</th>\n      <th>High</th>\n      <th>Low</th>\n      <th>Close</th>\n      <th>Adj Close</th>\n      <th>Volume</th>\n    </tr>\n    <tr>\n      <th>Date</th>\n      <th></th>\n      <th></th>\n      <th></th>\n      <th></th>\n      <th></th>\n      <th></th>\n    </tr>\n  </thead>\n  <tbody>\n  </tbody>\n</table>\n</div>"
     },
     "metadata": {},
     "output_type": "execute_result",
     "execution_count": 14
    }
   ],
   "source": [],
   "metadata": {
    "collapsed": false,
    "pycharm": {
     "name": "#%%\n",
     "is_executing": false
    }
   }
  },
  {
   "cell_type": "markdown",
   "source": [
    "**Step 1c: merge `X_num` and `y`** [week 2]\n",
    "- Beware of the temporality: in the case of the proposed study on stock market prices, you will have to deal with the fact that the X is at the tweet level while `y` is daily. \n"
   ],
   "metadata": {
    "collapsed": false,
    "pycharm": {
     "name": "#%% md\n"
    }
   }
  },
  {
   "cell_type": "markdown",
   "metadata": {
    "pycharm": {
     "name": "#%% md\n"
    }
   },
   "source": [
    "***Milestone 1 - March 24th*** *You can submit the previous steps as a first notebook.*\n",
    "\n",
    "**Sample split.** Do the standard 80% / 20% training/test split using all days in the data. In addition, do a separate temporal split where the training set is the first 80% of days in the time series.\n",
    "\n",
    "**For all machine learning models**, report performance measure in test and train samples.\n",
    "\n",
    "**Step 2a: estimate different regression models using `X_num` and `y`** [week 3]\n",
    "\n",
    "***Milestone 2 - March 31th***  *You can submit the previous steps as a second notebook.*\n",
    "\n",
    "**Step 3: text analysis** [week 4]\n",
    "- Featurize tweets (or another text dataset related to your subject): transform the text into a standard document-level dataset `X_doc`\n",
    "\n",
    "**Step 2b: estimate different regression models using `X_doc` and `y`** [week 3]\n",
    "\n",
    "**Step 4: estimate a classification models** [week 5]\n",
    "- propose a categorical variable `y_calc` that you can compute from the continuous one (`y`) (e.g. positive or negative growthin stock prices). For the `X` dimension, you can use `X_doc` or `X_num` or both. \n",
    "- you can use any other categorical variable that you find relevant \n",
    "\n",
    "***Milestone 3 - April 21th***  *You can submit the previous steps as a third notebook.*\n",
    "\n",
    "**Step 6: Dimension reduction** [week 6]\n",
    "- Use one of the dimension reductions methods to dimension-reduce the features\n",
    "    - PCA or topic model (LDA or STM) or k-means clustering on the featurized text `X_doc`\n",
    "- Run another classifier\n",
    "\n",
    "**Step bonus: Econometric identification** [week 8]\n",
    "- Find an exogenous shock affecting this firm (but not all the firms) and a control group of firms not affected\n",
    "    - example: a natural disaster/shock to the exchange rate/change in ownership... affects the functionning of this firm but not the other firms of the stock market index.  \n",
    "- scale up the previous data collection to the firms in the control group\n",
    "- use one of the technique studied in class to causaly identify the impact of the exogenous shock on the stock market of the affected firm\n",
    "\n",
    "***Milestone 4 - May 17th*** *You can submit the previous steps as a last notebook.*\n",
    "\n",
    "---------------------------\n",
    "**Requirement for completion grade**: \n",
    "- the homework should be done in **groups of 1 or 2 persons** \n",
    "- the homework will have to be submitted as a (Python or R) **notebooks**\n",
    "- you can give them back at the indicated **milestone** or on May 17th (no homework will be accepted after May 17th)\n",
    "- the notebooks should contain at least **three graphs** (overall)\n",
    "- each notebook should run from the beginning to then end, but:\n",
    "    - beware of paths to folders that are on your computer but not on mine\n",
    "    - if you have such a path, you can: \n",
    "        - have the data downloaded in the notebook directly\n",
    "        - import your data in a github (or any other online storage) folder that the notebook can access  \n",
    "    - indicate if the notebook takes more than 30 minutes to run\n",
    "- do not write us emails regarding the homework, ask your questions on the **forum**, it will benefit everyone for sure! \n",
    "\n",
    "---------------------------"
   ]
  }
 ],
 "metadata": {
  "kernelspec": {
   "display_name": "Python 3",
   "language": "python",
   "name": "python3"
  },
  "language_info": {
   "codemirror_mode": {
    "name": "ipython",
    "version": 3
   },
   "file_extension": ".py",
   "mimetype": "text/x-python",
   "name": "python",
   "nbconvert_exporter": "python",
   "pygments_lexer": "ipython3",
   "version": "3.7.4"
  },
  "pycharm": {
   "stem_cell": {
    "cell_type": "raw",
    "source": [],
    "metadata": {
     "collapsed": false
    }
   }
  },
  "toc": {
   "base_numbering": 1,
   "nav_menu": {},
   "number_sections": true,
   "sideBar": true,
   "skip_h1_title": false,
   "title_cell": "Table of Contents",
   "title_sidebar": "Contents",
   "toc_cell": false,
   "toc_position": {
    "height": "calc(100% - 180px)",
    "left": "10px",
    "top": "150px",
    "width": "165px"
   },
   "toc_section_display": true,
   "toc_window_display": true
  },
  "varInspector": {
   "cols": {
    "lenName": 16,
    "lenType": 16,
    "lenVar": 40
   },
   "kernels_config": {
    "python": {
     "delete_cmd_postfix": "",
     "delete_cmd_prefix": "del ",
     "library": "var_list.py",
     "varRefreshCmd": "print(var_dic_list())"
    },
    "r": {
     "delete_cmd_postfix": ") ",
     "delete_cmd_prefix": "rm(",
     "library": "var_list.r",
     "varRefreshCmd": "cat(var_dic_list()) "
    }
   },
   "types_to_exclude": [
    "module",
    "function",
    "builtin_function_or_method",
    "instance",
    "_Feature"
   ],
   "window_display": false
  }
 },
 "nbformat": 4,
 "nbformat_minor": 2
}