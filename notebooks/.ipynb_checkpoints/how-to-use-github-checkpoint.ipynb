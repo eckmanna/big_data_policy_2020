{
 "cells": [
  {
   "cell_type": "markdown",
   "metadata": {},
   "source": [
    "# Using Github for the Class\n",
    "\n",
    "The class material is posted on the [class repository](https://github.com/elliottash/big_data_policy_2020). \n",
    "\n",
    "## Main operations\n",
    "<img src=\"images/git_shema.png\">\n",
    "\n",
    "## How to download the materials from github?\n",
    "1. Create a github account and [install git](https://git-scm.com/downloadsp)\n",
    "2. Cloning a repository to your computer\n",
    "    - open a terminal\n",
    "    - go to your class folder `cd /home/.../2020-02-Big-Data-Policy`\n",
    "    - clone the repo: `git clone https://github.com/elliottash/big_data_policy_2020`\n",
    "3. Fetching changes from a remote repository\n",
    "    - go to your github repo folder `cd /home/.../2020-02-Big-Data-Policy/big_data_policy_2020`\n",
    "    - fetch updates made to a remote repository `git fetch origin` \n",
    "\n",
    "## Beware\n",
    "If you make changes to your local directories, you might have conflicts with the remote class directory. To avoid this, copy the notebooks that you want to modify into a working directories. \n",
    "\n",
    "## Going further\n",
    "This is not really an introduction to git, but just some commands useful for the class. Git is a great tool for research and collaborative work, do not hesitate to invest in it! Here are some useful resources:\n",
    "- [List of resources from github](https://try.github.io/)\n",
    "- [Github help](https://help.github.com/en/github/using-git/getting-started-with-git-and-github)\n",
    "- [Interactive tutorial](https://learngitbranching.js.org/)\n",
    "- [The simple guide](http://rogerdudler.github.io/git-guide/?ref=hackr.io)"
   ]
  },
  {
   "cell_type": "code",
   "execution_count": null,
   "metadata": {},
   "outputs": [],
   "source": []
  }
 ],
 "metadata": {
  "kernelspec": {
   "display_name": "Python 3",
   "language": "python",
   "name": "python3"
  },
  "language_info": {
   "codemirror_mode": {
    "name": "ipython",
    "version": 3
   },
   "file_extension": ".py",
   "mimetype": "text/x-python",
   "name": "python",
   "nbconvert_exporter": "python",
   "pygments_lexer": "ipython3",
   "version": "3.7.4"
  },
  "toc": {
   "base_numbering": 1,
   "nav_menu": {},
   "number_sections": true,
   "sideBar": true,
   "skip_h1_title": false,
   "title_cell": "Table of Contents",
   "title_sidebar": "Contents",
   "toc_cell": false,
   "toc_position": {},
   "toc_section_display": true,
   "toc_window_display": true
  },
  "varInspector": {
   "cols": {
    "lenName": 16,
    "lenType": 16,
    "lenVar": 40
   },
   "kernels_config": {
    "python": {
     "delete_cmd_postfix": "",
     "delete_cmd_prefix": "del ",
     "library": "var_list.py",
     "varRefreshCmd": "print(var_dic_list())"
    },
    "r": {
     "delete_cmd_postfix": ") ",
     "delete_cmd_prefix": "rm(",
     "library": "var_list.r",
     "varRefreshCmd": "cat(var_dic_list()) "
    }
   },
   "types_to_exclude": [
    "module",
    "function",
    "builtin_function_or_method",
    "instance",
    "_Feature"
   ],
   "window_display": false
  }
 },
 "nbformat": 4,
 "nbformat_minor": 2
}
