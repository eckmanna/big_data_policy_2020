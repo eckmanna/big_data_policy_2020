{
 "cells": [
  {
   "cell_type": "markdown",
   "source": [
    "# Test File"
   ],
   "metadata": {
    "collapsed": false
   }
  },
  {
   "cell_type": "code",
   "execution_count": 19,
   "outputs": [
    {
     "name": "stdout",
     "text": [
      "hello\n",
      "hello am 25.03.2020\n",
      "hello and goodnight\n"
     ],
     "output_type": "stream"
    }
   ],
   "source": [
    "from IPython.display import display\n",
    "import pandas as pd\n",
    "pd.options.display.max_columns = None # Display all columns of a dataframe\n",
    "pd.options.display.max_rows = 700\n",
    "from pprint import pprint\n",
    "import re\n",
    "\n",
    "# test notebook\n",
    "\n",
    "print('hello')\n",
    "\n",
    "print('hello am 25.03.2020')\n",
    "\n",
    "print('hello and goodnight')"
   ],
   "metadata": {
    "collapsed": false,
    "pycharm": {
     "name": "#%%\n",
     "is_executing": false
    }
   }
  },
  {
   "cell_type": "code",
   "execution_count": 20,
   "metadata": {
    "pycharm": {
     "is_executing": false,
     "name": "#%%\n"
    }
   },
   "outputs": [],
   "source": [
    "# This is python code fragment\n",
    "# todo get todo list working"
   ]
  },
  {
   "cell_type": "markdown",
   "metadata": {
    "pycharm": {
     "name": "#%% md\n"
    }
   },
   "source": [
    "This is a Markdown cell\n",
    "<!--- This is a markdown comment which this extension removes. -->\n",
    "<!-- This is a markdown comment which this extension removes. -->\n"
   ]
  },
  {
   "cell_type": "code",
   "execution_count": 21,
   "metadata": {
    "pycharm": {
     "is_executing": false,
     "name": "#%% Shortcuts\n"
    }
   },
   "outputs": [],
   "source": [
    "# See changes made: alt + shift + c\n",
    "# dublicate line: ctrl + d\n",
    "# start comment with \"todo\" will add it to the todo list\n",
    "# hold alt to select only current column youre working with\n",
    "# Ctrl + ALT + T: Surround With\n",
    "# todo : check if it works\n",
    "# todo jklfdjsalfj\n",
    "# TODO jflkdsjf\n",
    "# ToDo: jfdskl\n",
    "# TODO: fjdslkj"
   ]
  }
 ],
 "metadata": {
  "kernelspec": {
   "display_name": "Python 3",
   "language": "python",
   "name": "python3"
  },
  "language_info": {
   "codemirror_mode": {
    "name": "ipython",
    "version": 3
   },
   "file_extension": ".py",
   "mimetype": "text/x-python",
   "name": "python",
   "nbconvert_exporter": "python",
   "pygments_lexer": "ipython3",
   "version": "3.7.4"
  },
  "pycharm": {
   "stem_cell": {
    "cell_type": "raw",
    "source": [],
    "metadata": {
     "collapsed": false
    }
   }
  }
 },
 "nbformat": 4,
 "nbformat_minor": 1
}